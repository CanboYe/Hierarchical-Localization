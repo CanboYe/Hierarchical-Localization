{
 "cells": [
  {
   "cell_type": "code",
   "execution_count": 1,
   "metadata": {},
   "outputs": [],
   "source": [
    "# libs for detector\n",
    "import random\n",
    "from detectron2.utils.visualizer import Visualizer\n",
    "from detectron2.data.catalog import MetadataCatalog, DatasetCatalog\n",
    "import time\n",
    "import cv2\n",
    "from detectron2.engine import DefaultTrainer\n",
    "from detectron2.config import get_cfg\n",
    "from detectron2 import model_zoo\n",
    "import os\n",
    "from detectron2.engine.defaults import DefaultPredictor\n",
    "from detectron2.utils.visualizer import ColorMode\n",
    "from detectron2.data.datasets import register_coco_instances\n",
    "from detectron2.structures import Instances\n",
    "import torch \n",
    "\n",
    "# %pylab inline\n",
    "import matplotlib.pyplot as plt\n",
    "import matplotlib.image as mpimg\n",
    "\n",
    "import time"
   ]
  },
  {
   "cell_type": "code",
   "execution_count": 21,
   "metadata": {},
   "outputs": [],
   "source": [
    "# CATEGORIES =  ['stop', 'yield', 'do_not_enter', 'other_regulatory', 'other_prohibitory', 'warning_pedestrians']\n",
    "\n",
    "class DynamicDetectorEngine:\n",
    "    def __init__(self):\n",
    "#         MetadataCatalog.get(\"empty_dataset\").thing_classes = CATEGORIES\n",
    "#         self.mapillary_metadata = MetadataCatalog.get(\"empty_dataset\")\n",
    "        \n",
    "        cfg = get_cfg()\n",
    "        cfg.merge_from_file(model_zoo.get_config_file(\"COCO-InstanceSegmentation/mask_rcnn_R_50_FPN_3x.yaml\"))\n",
    "        cfg.MODEL.ROI_HEADS.SCORE_THRESH_TEST = 0.80 # set threshold for this model\n",
    "        cfg.MODEL.WEIGHTS = model_zoo.get_checkpoint_url(\"COCO-InstanceSegmentation/mask_rcnn_R_50_FPN_3x.yaml\")\n",
    "        self.metadata = MetadataCatalog.get(cfg.DATASETS.TRAIN[0])\n",
    "        \n",
    "        self.predictor = DefaultPredictor(cfg)\n",
    "\n",
    "        \n",
    "        \n",
    "    def inference(self, img, counter):\n",
    "        show_flag = False\n",
    "        save_flag = False\n",
    "        outputs = self.predictor(img) \n",
    "        if len(outputs[\"instances\"]):\n",
    "            # Instances Class: read https://detectron2.readthedocs.io/tutorials/models.html#model-output-format\n",
    "            outputs = outputs[\"instances\"].to(\"cpu\") \n",
    "#             cls = outputs.pred_classes.numpy()\n",
    "#             scores = outputs.scores.numpy()\n",
    "#             bboxes = outputs.pred_boxes.tensor.numpy()\n",
    "#             masks = outputs.pred_masks.numpy()\n",
    "    \n",
    "            v = Visualizer(img,\n",
    "                        metadata=self.metadata, \n",
    "                        scale=0.8, \n",
    "                        instance_mode=ColorMode.IMAGE   # remove the colors of unsegmented pixels\n",
    "            )\n",
    "            v = v.draw_instance_predictions(outputs)\n",
    "            if show_flag:\n",
    "#                 cv2.namedWindow('Sign Detector', 0)\n",
    "#                 cv2.imshow('Sign Detector', v.get_image()[:, :, ::-1])\n",
    "#                 cv2.waitKey(0)\n",
    "                imgplot = plt.imshow(v.get_image())\n",
    "                plt.show()\n",
    "            if save_flag:\n",
    "                img_name = \"/home/ubuntu/albert/results/maskrcnn/frame_{}.jpg\".format(counter)\n",
    "                cv2.imwrite(img_name, v.get_image()[:, :, ::-1])\n",
    "            \n",
    "                \n",
    "        return outputs"
   ]
  },
  {
   "cell_type": "code",
   "execution_count": 22,
   "metadata": {},
   "outputs": [
    {
     "name": "stdout",
     "output_type": "stream",
     "text": [
      "[12/11/2020 21:08:05 INFO] Loading checkpoint from https://dl.fbaipublicfiles.com/detectron2/COCO-InstanceSegmentation/mask_rcnn_R_50_FPN_3x/137849600/model_final_f10217.pkl\n",
      "[12/11/2020 21:08:05 INFO] Reading a file from 'Detectron2 Model Zoo'\n"
     ]
    }
   ],
   "source": [
    "model = DynamicDetectorEngine()"
   ]
  },
  {
   "cell_type": "code",
   "execution_count": 21,
   "metadata": {},
   "outputs": [
    {
     "name": "stderr",
     "output_type": "stream",
     "text": [
      "100%|██████████| 469/469 [03:19<00:00,  2.35it/s]\n"
     ]
    }
   ],
   "source": [
    "import glob\n",
    "from tqdm import tqdm\n",
    "\n",
    "img_dir = '/home/ubuntu/albert/datasets/argoverse-tracking/train1/043aeba7-14e5-3cde-8a5c-639389b6d3a6/ring_front_center/'\n",
    "counter = 0\n",
    "for img_name in tqdm(glob.glob(img_dir + '*.jpg')):\n",
    "    counter += 1\n",
    "    img = mpimg.imread(img_name)\n",
    "    output = model.inference(img, counter)\n",
    "#     break\n",
    "#     print(output)"
   ]
  },
  {
   "cell_type": "markdown",
   "metadata": {},
   "source": [
    "## Read 3D model from files"
   ]
  },
  {
   "cell_type": "code",
   "execution_count": 55,
   "metadata": {},
   "outputs": [],
   "source": [
    "import numpy as np\n",
    "import cv2\n",
    "from hloc.utils.read_write_model import read_images_binary, read_points3d_binary, write_images_binary, write_points3d_binary"
   ]
  },
  {
   "cell_type": "code",
   "execution_count": 64,
   "metadata": {},
   "outputs": [
    {
     "name": "stdout",
     "output_type": "stream",
     "text": [
      "785\n",
      "110001\n"
     ]
    }
   ],
   "source": [
    "# model_dir = '/home/ubuntu/albert/workspace/Hierarchical-Localization/outputs/argo_sample_2/sfm_superpoint+superglue+netvlad/models/model_aligned/'\n",
    "model_dir = '/home/ubuntu/albert/workspace/Hierarchical-Localization/outputs/argo_sample_2/sfm_superpoint+superglue+netvlad/models/0/'\n",
    "images = read_images_binary(model_dir + 'images.bin')\n",
    "points3D = read_points3d_binary(model_dir + 'points3D.bin')\n",
    "print(len(list(images.keys())))\n",
    "print(len(list(points3D.keys())))"
   ]
  },
  {
   "cell_type": "markdown",
   "metadata": {},
   "source": [
    "## Iterate the database image "
   ]
  },
  {
   "cell_type": "code",
   "execution_count": 65,
   "metadata": {},
   "outputs": [],
   "source": [
    "import numpy as np\n",
    "def in_mask(feature_position, masks, classes):\n",
    "    for i in range(masks.shape[0]):\n",
    "        cls = classes[i]\n",
    "        if cls in list(range(10)):\n",
    "            mask = masks[i]\n",
    "            pos_round = np.round(feature_position).astype(np.int32)\n",
    "            if mask[pos_round[1], pos_round[0]]:\n",
    "                return True\n",
    "    \n",
    "    return False"
   ]
  },
  {
   "cell_type": "code",
   "execution_count": 66,
   "metadata": {},
   "outputs": [
    {
     "name": "stderr",
     "output_type": "stream",
     "text": [
      "  0%|          | 1/785 [00:00<04:54,  2.66it/s]"
     ]
    },
    {
     "name": "stdout",
     "output_type": "stream",
     "text": [
      "Found 11 instances in image ring_front_center_315978406032859416.jpg\n",
      "96 keypoints deleted in total\n",
      "\n"
     ]
    },
    {
     "name": "stderr",
     "output_type": "stream",
     "text": [
      "\r",
      "  0%|          | 2/785 [00:00<04:48,  2.71it/s]"
     ]
    },
    {
     "name": "stdout",
     "output_type": "stream",
     "text": [
      "Found 11 instances in image ring_front_center_315978406066159560.jpg\n",
      "122 keypoints deleted in total\n",
      "\n"
     ]
    },
    {
     "name": "stderr",
     "output_type": "stream",
     "text": [
      "\r",
      "  0%|          | 3/785 [00:01<04:48,  2.71it/s]"
     ]
    },
    {
     "name": "stdout",
     "output_type": "stream",
     "text": [
      "Found 12 instances in image ring_front_center_315978406099459768.jpg\n",
      "135 keypoints deleted in total\n",
      "\n"
     ]
    },
    {
     "name": "stderr",
     "output_type": "stream",
     "text": [
      "\r",
      "  1%|          | 4/785 [00:01<04:41,  2.78it/s]"
     ]
    },
    {
     "name": "stdout",
     "output_type": "stream",
     "text": [
      "Found 10 instances in image ring_front_center_315978406166060120.jpg\n",
      "150 keypoints deleted in total\n",
      "\n"
     ]
    },
    {
     "name": "stderr",
     "output_type": "stream",
     "text": [
      "\r",
      "  1%|          | 5/785 [00:01<04:31,  2.87it/s]"
     ]
    },
    {
     "name": "stdout",
     "output_type": "stream",
     "text": [
      "Found 10 instances in image ring_front_center_315978406199360328.jpg\n",
      "159 keypoints deleted in total\n",
      "\n"
     ]
    },
    {
     "name": "stderr",
     "output_type": "stream",
     "text": [
      "\r",
      "  1%|          | 6/785 [00:02<04:29,  2.89it/s]"
     ]
    },
    {
     "name": "stdout",
     "output_type": "stream",
     "text": [
      "Found 10 instances in image ring_front_center_315978406332560648.jpg\n",
      "170 keypoints deleted in total\n",
      "\n"
     ]
    },
    {
     "name": "stderr",
     "output_type": "stream",
     "text": [
      "\r",
      "  1%|          | 7/785 [00:02<04:34,  2.83it/s]"
     ]
    },
    {
     "name": "stdout",
     "output_type": "stream",
     "text": [
      "Found 12 instances in image ring_front_center_315978406465759688.jpg\n",
      "188 keypoints deleted in total\n",
      "\n"
     ]
    },
    {
     "name": "stderr",
     "output_type": "stream",
     "text": [
      "\r",
      "  1%|          | 8/785 [00:02<04:29,  2.89it/s]"
     ]
    },
    {
     "name": "stdout",
     "output_type": "stream",
     "text": [
      "Found 10 instances in image ring_front_center_315978406532359208.jpg\n",
      "198 keypoints deleted in total\n",
      "\n"
     ]
    },
    {
     "name": "stderr",
     "output_type": "stream",
     "text": [
      "\r",
      "  1%|          | 9/785 [00:03<04:22,  2.95it/s]"
     ]
    },
    {
     "name": "stdout",
     "output_type": "stream",
     "text": [
      "Found 9 instances in image ring_front_center_315978406598958728.jpg\n",
      "208 keypoints deleted in total\n",
      "\n"
     ]
    },
    {
     "name": "stderr",
     "output_type": "stream",
     "text": [
      "\r",
      "  1%|▏         | 10/785 [00:03<04:09,  3.11it/s]"
     ]
    },
    {
     "name": "stdout",
     "output_type": "stream",
     "text": [
      "Found 10 instances in image ring_front_center_315978406698858088.jpg\n",
      "226 keypoints deleted in total\n",
      "\n"
     ]
    },
    {
     "name": "stderr",
     "output_type": "stream",
     "text": [
      "\r",
      "  1%|▏         | 11/785 [00:03<04:16,  3.02it/s]"
     ]
    },
    {
     "name": "stdout",
     "output_type": "stream",
     "text": [
      "Found 10 instances in image ring_front_center_315978406832057128.jpg\n",
      "248 keypoints deleted in total\n",
      "\n"
     ]
    },
    {
     "name": "stderr",
     "output_type": "stream",
     "text": [
      "\r",
      "  2%|▏         | 12/785 [00:04<04:16,  3.01it/s]"
     ]
    },
    {
     "name": "stdout",
     "output_type": "stream",
     "text": [
      "Found 9 instances in image ring_front_center_315978406898656648.jpg\n",
      "263 keypoints deleted in total\n",
      "\n"
     ]
    },
    {
     "name": "stderr",
     "output_type": "stream",
     "text": [
      "\r",
      "  2%|▏         | 13/785 [00:04<04:16,  3.00it/s]"
     ]
    },
    {
     "name": "stdout",
     "output_type": "stream",
     "text": [
      "Found 9 instances in image ring_front_center_315978406931956408.jpg\n",
      "272 keypoints deleted in total\n",
      "\n"
     ]
    },
    {
     "name": "stderr",
     "output_type": "stream",
     "text": [
      "\r",
      "  2%|▏         | 14/785 [00:04<04:06,  3.13it/s]"
     ]
    },
    {
     "name": "stdout",
     "output_type": "stream",
     "text": [
      "Found 9 instances in image ring_front_center_315978406965256168.jpg\n",
      "282 keypoints deleted in total\n",
      "\n"
     ]
    },
    {
     "name": "stderr",
     "output_type": "stream",
     "text": [
      "\r",
      "  2%|▏         | 15/785 [00:05<04:12,  3.05it/s]"
     ]
    },
    {
     "name": "stdout",
     "output_type": "stream",
     "text": [
      "Found 10 instances in image ring_front_center_315978406998555928.jpg\n",
      "289 keypoints deleted in total\n",
      "\n"
     ]
    },
    {
     "name": "stderr",
     "output_type": "stream",
     "text": [
      "\r",
      "  2%|▏         | 16/785 [00:05<04:14,  3.02it/s]"
     ]
    },
    {
     "name": "stdout",
     "output_type": "stream",
     "text": [
      "Found 10 instances in image ring_front_center_315978407198354568.jpg\n",
      "317 keypoints deleted in total\n",
      "\n"
     ]
    },
    {
     "name": "stderr",
     "output_type": "stream",
     "text": [
      "\r",
      "  2%|▏         | 17/785 [00:05<04:08,  3.09it/s]"
     ]
    },
    {
     "name": "stdout",
     "output_type": "stream",
     "text": [
      "Found 9 instances in image ring_front_center_315978407231654328.jpg\n",
      "339 keypoints deleted in total\n",
      "\n"
     ]
    },
    {
     "name": "stderr",
     "output_type": "stream",
     "text": [
      "\r",
      "  2%|▏         | 18/785 [00:06<04:04,  3.13it/s]"
     ]
    },
    {
     "name": "stdout",
     "output_type": "stream",
     "text": [
      "Found 9 instances in image ring_front_center_315978407264954088.jpg\n",
      "346 keypoints deleted in total\n",
      "\n"
     ]
    },
    {
     "name": "stderr",
     "output_type": "stream",
     "text": [
      "\r",
      "  2%|▏         | 19/785 [00:06<04:28,  2.86it/s]"
     ]
    },
    {
     "name": "stdout",
     "output_type": "stream",
     "text": [
      "Found 11 instances in image ring_front_center_315978407431452888.jpg\n",
      "384 keypoints deleted in total\n",
      "\n"
     ]
    },
    {
     "name": "stderr",
     "output_type": "stream",
     "text": [
      "\r",
      "  3%|▎         | 20/785 [00:06<04:16,  2.99it/s]"
     ]
    },
    {
     "name": "stdout",
     "output_type": "stream",
     "text": [
      "Found 10 instances in image ring_front_center_315978407464752648.jpg\n",
      "398 keypoints deleted in total\n",
      "\n"
     ]
    },
    {
     "name": "stderr",
     "output_type": "stream",
     "text": [
      "\r",
      "  3%|▎         | 21/785 [00:07<04:10,  3.05it/s]"
     ]
    },
    {
     "name": "stdout",
     "output_type": "stream",
     "text": [
      "Found 10 instances in image ring_front_center_315978407597951688.jpg\n",
      "409 keypoints deleted in total\n",
      "\n"
     ]
    },
    {
     "name": "stderr",
     "output_type": "stream",
     "text": [
      "\r",
      "  3%|▎         | 22/785 [00:07<04:02,  3.15it/s]"
     ]
    },
    {
     "name": "stdout",
     "output_type": "stream",
     "text": [
      "Found 8 instances in image ring_front_center_315978407864350856.jpg\n",
      "441 keypoints deleted in total\n",
      "\n"
     ]
    },
    {
     "name": "stderr",
     "output_type": "stream",
     "text": [
      "\r",
      "  3%|▎         | 23/785 [00:07<04:02,  3.14it/s]"
     ]
    },
    {
     "name": "stdout",
     "output_type": "stream",
     "text": [
      "Found 10 instances in image ring_front_center_315978407964251576.jpg\n",
      "474 keypoints deleted in total\n",
      "\n"
     ]
    },
    {
     "name": "stderr",
     "output_type": "stream",
     "text": [
      "\r",
      "  3%|▎         | 24/785 [00:07<04:01,  3.15it/s]"
     ]
    },
    {
     "name": "stdout",
     "output_type": "stream",
     "text": [
      "Found 10 instances in image ring_front_center_315978407997551840.jpg\n",
      "494 keypoints deleted in total\n",
      "\n"
     ]
    },
    {
     "name": "stderr",
     "output_type": "stream",
     "text": [
      "\r",
      "  3%|▎         | 25/785 [00:08<04:00,  3.16it/s]"
     ]
    },
    {
     "name": "stdout",
     "output_type": "stream",
     "text": [
      "Found 11 instances in image ring_front_center_315978408030852032.jpg\n",
      "516 keypoints deleted in total\n",
      "\n"
     ]
    },
    {
     "name": "stderr",
     "output_type": "stream",
     "text": [
      "\r",
      "  3%|▎         | 26/785 [00:08<04:06,  3.08it/s]"
     ]
    },
    {
     "name": "stdout",
     "output_type": "stream",
     "text": [
      "Found 12 instances in image ring_front_center_315978408197353280.jpg\n",
      "557 keypoints deleted in total\n",
      "\n"
     ]
    },
    {
     "name": "stderr",
     "output_type": "stream",
     "text": [
      "\r",
      "  3%|▎         | 27/785 [00:08<04:06,  3.07it/s]"
     ]
    },
    {
     "name": "stdout",
     "output_type": "stream",
     "text": [
      "Found 11 instances in image ring_front_center_315978408230653472.jpg\n",
      "572 keypoints deleted in total\n",
      "\n"
     ]
    },
    {
     "name": "stderr",
     "output_type": "stream",
     "text": [
      "\r",
      "  4%|▎         | 28/785 [00:09<04:16,  2.96it/s]"
     ]
    },
    {
     "name": "stdout",
     "output_type": "stream",
     "text": [
      "Found 14 instances in image ring_front_center_315978408330554192.jpg\n",
      "621 keypoints deleted in total\n",
      "\n"
     ]
    },
    {
     "name": "stderr",
     "output_type": "stream",
     "text": [
      "\r",
      "  4%|▎         | 29/785 [00:09<04:20,  2.90it/s]"
     ]
    },
    {
     "name": "stdout",
     "output_type": "stream",
     "text": [
      "Found 14 instances in image ring_front_center_315978408430454992.jpg\n",
      "678 keypoints deleted in total\n",
      "\n"
     ]
    },
    {
     "name": "stderr",
     "output_type": "stream",
     "text": [
      "\r",
      "  4%|▍         | 30/785 [00:10<04:17,  2.93it/s]"
     ]
    },
    {
     "name": "stdout",
     "output_type": "stream",
     "text": [
      "Found 12 instances in image ring_front_center_315978408463755256.jpg\n",
      "757 keypoints deleted in total\n",
      "\n"
     ]
    },
    {
     "name": "stderr",
     "output_type": "stream",
     "text": [
      "\r",
      "  4%|▍         | 31/785 [00:10<04:17,  2.93it/s]"
     ]
    },
    {
     "name": "stdout",
     "output_type": "stream",
     "text": [
      "Found 13 instances in image ring_front_center_315978408696856888.jpg\n",
      "871 keypoints deleted in total\n",
      "\n"
     ]
    },
    {
     "name": "stderr",
     "output_type": "stream",
     "text": [
      "\r",
      "  4%|▍         | 32/785 [00:10<04:08,  3.03it/s]"
     ]
    },
    {
     "name": "stdout",
     "output_type": "stream",
     "text": [
      "Found 9 instances in image ring_front_center_315978408796757608.jpg\n",
      "958 keypoints deleted in total\n",
      "\n"
     ]
    },
    {
     "name": "stderr",
     "output_type": "stream",
     "text": [
      "\r",
      "  4%|▍         | 33/785 [00:11<04:08,  3.02it/s]"
     ]
    },
    {
     "name": "stdout",
     "output_type": "stream",
     "text": [
      "Found 11 instances in image ring_front_center_315978408896658328.jpg\n",
      "1009 keypoints deleted in total\n",
      "\n"
     ]
    },
    {
     "name": "stderr",
     "output_type": "stream",
     "text": [
      "\r",
      "  4%|▍         | 34/785 [00:11<04:09,  3.01it/s]"
     ]
    },
    {
     "name": "stdout",
     "output_type": "stream",
     "text": [
      "Found 12 instances in image ring_front_center_315978408929958592.jpg\n",
      "1046 keypoints deleted in total\n",
      "\n"
     ]
    },
    {
     "name": "stderr",
     "output_type": "stream",
     "text": [
      "\r",
      "  4%|▍         | 35/785 [00:11<04:12,  2.97it/s]"
     ]
    },
    {
     "name": "stdout",
     "output_type": "stream",
     "text": [
      "Found 13 instances in image ring_front_center_315978409096459768.jpg\n",
      "1113 keypoints deleted in total\n",
      "\n"
     ]
    },
    {
     "name": "stderr",
     "output_type": "stream",
     "text": [
      "\r",
      "  5%|▍         | 36/785 [00:11<04:06,  3.04it/s]"
     ]
    },
    {
     "name": "stdout",
     "output_type": "stream",
     "text": [
      "Found 10 instances in image ring_front_center_315978409296261288.jpg\n",
      "1134 keypoints deleted in total\n",
      "\n"
     ]
    },
    {
     "name": "stderr",
     "output_type": "stream",
     "text": [
      "\r",
      "  5%|▍         | 37/785 [00:12<03:59,  3.13it/s]"
     ]
    },
    {
     "name": "stdout",
     "output_type": "stream",
     "text": [
      "Found 10 instances in image ring_front_center_315978409429460248.jpg\n",
      "1164 keypoints deleted in total\n",
      "\n"
     ]
    },
    {
     "name": "stderr",
     "output_type": "stream",
     "text": [
      "\r",
      "  5%|▍         | 38/785 [00:12<03:57,  3.14it/s]"
     ]
    },
    {
     "name": "stdout",
     "output_type": "stream",
     "text": [
      "Found 10 instances in image ring_front_center_315978409462760008.jpg\n",
      "1182 keypoints deleted in total\n",
      "\n"
     ]
    },
    {
     "name": "stderr",
     "output_type": "stream",
     "text": [
      "\r",
      "  5%|▍         | 39/785 [00:12<03:59,  3.11it/s]"
     ]
    },
    {
     "name": "stdout",
     "output_type": "stream",
     "text": [
      "Found 10 instances in image ring_front_center_315978409562659288.jpg\n",
      "1208 keypoints deleted in total\n",
      "\n"
     ]
    },
    {
     "name": "stderr",
     "output_type": "stream",
     "text": [
      "\r",
      "  5%|▌         | 40/785 [00:13<04:03,  3.06it/s]"
     ]
    },
    {
     "name": "stdout",
     "output_type": "stream",
     "text": [
      "Found 11 instances in image ring_front_center_315978409629258808.jpg\n",
      "1240 keypoints deleted in total\n",
      "\n"
     ]
    },
    {
     "name": "stderr",
     "output_type": "stream",
     "text": [
      "\r",
      "  5%|▌         | 41/785 [00:13<04:02,  3.06it/s]"
     ]
    },
    {
     "name": "stdout",
     "output_type": "stream",
     "text": [
      "Found 11 instances in image ring_front_center_315978409762457848.jpg\n",
      "1277 keypoints deleted in total\n",
      "\n"
     ]
    },
    {
     "name": "stderr",
     "output_type": "stream",
     "text": [
      "\r",
      "  5%|▌         | 42/785 [00:13<04:08,  3.00it/s]"
     ]
    },
    {
     "name": "stdout",
     "output_type": "stream",
     "text": [
      "Found 11 instances in image ring_front_center_315978410095455448.jpg\n",
      "1352 keypoints deleted in total\n",
      "\n"
     ]
    },
    {
     "name": "stderr",
     "output_type": "stream",
     "text": [
      "\r",
      "  5%|▌         | 43/785 [00:14<04:00,  3.08it/s]"
     ]
    },
    {
     "name": "stdout",
     "output_type": "stream",
     "text": [
      "Found 10 instances in image ring_front_center_315978410361853528.jpg\n",
      "1486 keypoints deleted in total\n",
      "\n"
     ]
    },
    {
     "name": "stderr",
     "output_type": "stream",
     "text": [
      "\r",
      "  6%|▌         | 44/785 [00:14<04:00,  3.09it/s]"
     ]
    },
    {
     "name": "stdout",
     "output_type": "stream",
     "text": [
      "Found 10 instances in image ring_front_center_315978410428453048.jpg\n",
      "1569 keypoints deleted in total\n",
      "\n"
     ]
    },
    {
     "name": "stderr",
     "output_type": "stream",
     "text": [
      "\r",
      "  6%|▌         | 45/785 [00:14<04:00,  3.08it/s]"
     ]
    },
    {
     "name": "stdout",
     "output_type": "stream",
     "text": [
      "Found 11 instances in image ring_front_center_315978410461752808.jpg\n",
      "1639 keypoints deleted in total\n",
      "\n"
     ]
    },
    {
     "name": "stderr",
     "output_type": "stream",
     "text": [
      "\r",
      "  6%|▌         | 46/785 [00:15<03:54,  3.15it/s]"
     ]
    },
    {
     "name": "stdout",
     "output_type": "stream",
     "text": [
      "Found 10 instances in image ring_front_center_315978410528352328.jpg\n",
      "1711 keypoints deleted in total\n",
      "\n"
     ]
    },
    {
     "name": "stderr",
     "output_type": "stream",
     "text": [
      "\r",
      "  6%|▌         | 47/785 [00:15<03:54,  3.15it/s]"
     ]
    },
    {
     "name": "stdout",
     "output_type": "stream",
     "text": [
      "Found 10 instances in image ring_front_center_315978410728150808.jpg\n",
      "1834 keypoints deleted in total\n",
      "\n"
     ]
    },
    {
     "name": "stderr",
     "output_type": "stream",
     "text": [
      "\r",
      "  6%|▌         | 48/785 [00:15<03:55,  3.13it/s]"
     ]
    },
    {
     "name": "stdout",
     "output_type": "stream",
     "text": [
      "Found 10 instances in image ring_front_center_315978410994551680.jpg\n",
      "2001 keypoints deleted in total\n",
      "\n"
     ]
    },
    {
     "name": "stderr",
     "output_type": "stream",
     "text": [
      "\r",
      "  6%|▌         | 49/785 [00:16<03:53,  3.15it/s]"
     ]
    },
    {
     "name": "stdout",
     "output_type": "stream",
     "text": [
      "Found 10 instances in image ring_front_center_315978411027851864.jpg\n",
      "2065 keypoints deleted in total\n",
      "\n"
     ]
    },
    {
     "name": "stderr",
     "output_type": "stream",
     "text": [
      "\r",
      "  6%|▋         | 50/785 [00:16<03:48,  3.22it/s]"
     ]
    },
    {
     "name": "stdout",
     "output_type": "stream",
     "text": [
      "Found 8 instances in image ring_front_center_315978411294253680.jpg\n",
      "2143 keypoints deleted in total\n",
      "\n"
     ]
    },
    {
     "name": "stderr",
     "output_type": "stream",
     "text": [
      "\r",
      "  6%|▋         | 51/785 [00:16<03:47,  3.22it/s]"
     ]
    },
    {
     "name": "stdout",
     "output_type": "stream",
     "text": [
      "Found 9 instances in image ring_front_center_315978411427454584.jpg\n",
      "2205 keypoints deleted in total\n",
      "\n"
     ]
    },
    {
     "name": "stderr",
     "output_type": "stream",
     "text": [
      "\r",
      "  7%|▋         | 52/785 [00:17<03:43,  3.28it/s]"
     ]
    },
    {
     "name": "stdout",
     "output_type": "stream",
     "text": [
      "Found 8 instances in image ring_front_center_315978411494054960.jpg\n",
      "2259 keypoints deleted in total\n",
      "\n"
     ]
    },
    {
     "name": "stderr",
     "output_type": "stream",
     "text": [
      "\r",
      "  7%|▋         | 53/785 [00:17<03:44,  3.26it/s]"
     ]
    },
    {
     "name": "stdout",
     "output_type": "stream",
     "text": [
      "Found 9 instances in image ring_front_center_315978411527355224.jpg\n",
      "2303 keypoints deleted in total\n",
      "\n"
     ]
    },
    {
     "name": "stderr",
     "output_type": "stream",
     "text": [
      "\r",
      "  7%|▋         | 54/785 [00:17<04:14,  2.87it/s]"
     ]
    },
    {
     "name": "stdout",
     "output_type": "stream",
     "text": [
      "Found 7 instances in image ring_front_center_315978411560655416.jpg\n",
      "2330 keypoints deleted in total\n",
      "\n"
     ]
    },
    {
     "name": "stderr",
     "output_type": "stream",
     "text": [
      "\r",
      "  7%|▋         | 55/785 [00:18<04:00,  3.04it/s]"
     ]
    },
    {
     "name": "stdout",
     "output_type": "stream",
     "text": [
      "Found 7 instances in image ring_front_center_315978411593955600.jpg\n",
      "2357 keypoints deleted in total\n",
      "\n"
     ]
    },
    {
     "name": "stderr",
     "output_type": "stream",
     "text": [
      "\r",
      "  7%|▋         | 56/785 [00:18<03:53,  3.12it/s]"
     ]
    },
    {
     "name": "stdout",
     "output_type": "stream",
     "text": [
      "Found 8 instances in image ring_front_center_315978411660556056.jpg\n",
      "2398 keypoints deleted in total\n",
      "\n"
     ]
    },
    {
     "name": "stderr",
     "output_type": "stream",
     "text": [
      "\r",
      "  7%|▋         | 57/785 [00:18<03:45,  3.23it/s]"
     ]
    },
    {
     "name": "stdout",
     "output_type": "stream",
     "text": [
      "Found 7 instances in image ring_front_center_315978411793756880.jpg\n",
      "2485 keypoints deleted in total\n",
      "\n"
     ]
    },
    {
     "name": "stderr",
     "output_type": "stream",
     "text": [
      "\r",
      "  7%|▋         | 58/785 [00:18<03:36,  3.36it/s]"
     ]
    },
    {
     "name": "stdout",
     "output_type": "stream",
     "text": [
      "Found 7 instances in image ring_front_center_315978411827057072.jpg\n",
      "2540 keypoints deleted in total\n",
      "\n"
     ]
    },
    {
     "name": "stderr",
     "output_type": "stream",
     "text": [
      "\r",
      "  8%|▊         | 59/785 [00:19<03:31,  3.43it/s]"
     ]
    },
    {
     "name": "stdout",
     "output_type": "stream",
     "text": [
      "Found 7 instances in image ring_front_center_315978411860357336.jpg\n",
      "2583 keypoints deleted in total\n",
      "\n"
     ]
    },
    {
     "name": "stderr",
     "output_type": "stream",
     "text": [
      "\r",
      "  8%|▊         | 60/785 [00:19<03:32,  3.42it/s]"
     ]
    },
    {
     "name": "stdout",
     "output_type": "stream",
     "text": [
      "Found 8 instances in image ring_front_center_315978411993558320.jpg\n",
      "2687 keypoints deleted in total\n",
      "\n"
     ]
    },
    {
     "name": "stderr",
     "output_type": "stream",
     "text": [
      "\r",
      "  8%|▊         | 61/785 [00:19<03:45,  3.21it/s]"
     ]
    },
    {
     "name": "stdout",
     "output_type": "stream",
     "text": [
      "Found 9 instances in image ring_front_center_315978412393160104.jpg\n",
      "2855 keypoints deleted in total\n",
      "\n"
     ]
    },
    {
     "name": "stderr",
     "output_type": "stream",
     "text": [
      "\r",
      "  8%|▊         | 62/785 [00:20<03:57,  3.04it/s]"
     ]
    },
    {
     "name": "stdout",
     "output_type": "stream",
     "text": [
      "Found 11 instances in image ring_front_center_315978412459759832.jpg\n",
      "2938 keypoints deleted in total\n",
      "\n"
     ]
    },
    {
     "name": "stderr",
     "output_type": "stream",
     "text": [
      "\r",
      "  8%|▊         | 63/785 [00:20<04:11,  2.87it/s]"
     ]
    },
    {
     "name": "stdout",
     "output_type": "stream",
     "text": [
      "Found 11 instances in image ring_front_center_315978412493059704.jpg\n",
      "3001 keypoints deleted in total\n",
      "\n"
     ]
    },
    {
     "name": "stderr",
     "output_type": "stream",
     "text": [
      "\r",
      "  8%|▊         | 64/785 [00:20<04:06,  2.92it/s]"
     ]
    },
    {
     "name": "stdout",
     "output_type": "stream",
     "text": [
      "Found 8 instances in image ring_front_center_315978412659559032.jpg\n",
      "3065 keypoints deleted in total\n",
      "\n"
     ]
    },
    {
     "name": "stderr",
     "output_type": "stream",
     "text": [
      "\r",
      "  8%|▊         | 65/785 [00:21<04:15,  2.81it/s]"
     ]
    },
    {
     "name": "stdout",
     "output_type": "stream",
     "text": [
      "Found 10 instances in image ring_front_center_315978412692858904.jpg\n",
      "3137 keypoints deleted in total\n",
      "\n"
     ]
    },
    {
     "name": "stderr",
     "output_type": "stream",
     "text": [
      "\r",
      "  8%|▊         | 66/785 [00:21<04:15,  2.81it/s]"
     ]
    },
    {
     "name": "stdout",
     "output_type": "stream",
     "text": [
      "Found 9 instances in image ring_front_center_315978412826058360.jpg\n",
      "3256 keypoints deleted in total\n",
      "\n"
     ]
    },
    {
     "name": "stderr",
     "output_type": "stream",
     "text": [
      "\r",
      "  9%|▊         | 67/785 [00:22<04:13,  2.84it/s]"
     ]
    },
    {
     "name": "stdout",
     "output_type": "stream",
     "text": [
      "Found 10 instances in image ring_front_center_315978412892658024.jpg\n",
      "3341 keypoints deleted in total\n",
      "\n"
     ]
    },
    {
     "name": "stderr",
     "output_type": "stream",
     "text": [
      "\r",
      "  9%|▊         | 68/785 [00:22<04:08,  2.89it/s]"
     ]
    },
    {
     "name": "stdout",
     "output_type": "stream",
     "text": [
      "Found 9 instances in image ring_front_center_315978412925957800.jpg\n",
      "3395 keypoints deleted in total\n",
      "\n"
     ]
    },
    {
     "name": "stderr",
     "output_type": "stream",
     "text": [
      "\r",
      "  9%|▉         | 69/785 [00:22<04:00,  2.97it/s]"
     ]
    },
    {
     "name": "stdout",
     "output_type": "stream",
     "text": [
      "Found 8 instances in image ring_front_center_315978412959257672.jpg\n",
      "3453 keypoints deleted in total\n",
      "\n"
     ]
    },
    {
     "name": "stderr",
     "output_type": "stream",
     "text": [
      "\r",
      "  9%|▉         | 70/785 [00:23<03:58,  3.00it/s]"
     ]
    },
    {
     "name": "stdout",
     "output_type": "stream",
     "text": [
      "Found 9 instances in image ring_front_center_315978413025857320.jpg\n",
      "3521 keypoints deleted in total\n",
      "\n"
     ]
    },
    {
     "name": "stderr",
     "output_type": "stream",
     "text": [
      "\r",
      "  9%|▉         | 71/785 [00:23<03:55,  3.04it/s]"
     ]
    },
    {
     "name": "stdout",
     "output_type": "stream",
     "text": [
      "Found 10 instances in image ring_front_center_315978413059157192.jpg\n",
      "3578 keypoints deleted in total\n",
      "\n"
     ]
    },
    {
     "name": "stderr",
     "output_type": "stream",
     "text": [
      "\r",
      "  9%|▉         | 72/785 [00:23<03:49,  3.11it/s]"
     ]
    },
    {
     "name": "stdout",
     "output_type": "stream",
     "text": [
      "Found 8 instances in image ring_front_center_315978413192356664.jpg\n",
      "3667 keypoints deleted in total\n",
      "\n"
     ]
    },
    {
     "name": "stderr",
     "output_type": "stream",
     "text": [
      "\r",
      "  9%|▉         | 73/785 [00:24<03:55,  3.03it/s]"
     ]
    },
    {
     "name": "stdout",
     "output_type": "stream",
     "text": [
      "Found 10 instances in image ring_front_center_315978413325556040.jpg\n",
      "3737 keypoints deleted in total\n",
      "\n"
     ]
    },
    {
     "name": "stderr",
     "output_type": "stream",
     "text": [
      "\r",
      "  9%|▉         | 74/785 [00:24<04:02,  2.93it/s]"
     ]
    },
    {
     "name": "stdout",
     "output_type": "stream",
     "text": [
      "Found 11 instances in image ring_front_center_315978413392155768.jpg\n",
      "3807 keypoints deleted in total\n",
      "\n"
     ]
    },
    {
     "name": "stderr",
     "output_type": "stream",
     "text": [
      "\r",
      " 10%|▉         | 75/785 [00:24<04:05,  2.89it/s]"
     ]
    },
    {
     "name": "stdout",
     "output_type": "stream",
     "text": [
      "Found 10 instances in image ring_front_center_315978413458755432.jpg\n",
      "3863 keypoints deleted in total\n",
      "\n"
     ]
    },
    {
     "name": "stderr",
     "output_type": "stream",
     "text": [
      "\r",
      " 10%|▉         | 76/785 [00:25<04:04,  2.90it/s]"
     ]
    },
    {
     "name": "stdout",
     "output_type": "stream",
     "text": [
      "Found 11 instances in image ring_front_center_315978413658554632.jpg\n",
      "3958 keypoints deleted in total\n",
      "\n"
     ]
    },
    {
     "name": "stderr",
     "output_type": "stream",
     "text": [
      "\r",
      " 10%|▉         | 77/785 [00:25<03:59,  2.95it/s]"
     ]
    },
    {
     "name": "stdout",
     "output_type": "stream",
     "text": [
      "Found 9 instances in image ring_front_center_315978413691854488.jpg\n",
      "4000 keypoints deleted in total\n",
      "\n"
     ]
    },
    {
     "name": "stderr",
     "output_type": "stream",
     "text": [
      "\r",
      " 10%|▉         | 78/785 [00:25<04:02,  2.91it/s]"
     ]
    },
    {
     "name": "stdout",
     "output_type": "stream",
     "text": [
      "Found 10 instances in image ring_front_center_315978413791754088.jpg\n",
      "4061 keypoints deleted in total\n",
      "\n"
     ]
    },
    {
     "name": "stderr",
     "output_type": "stream",
     "text": [
      "\r",
      " 10%|█         | 79/785 [00:26<04:10,  2.82it/s]"
     ]
    },
    {
     "name": "stdout",
     "output_type": "stream",
     "text": [
      "Found 11 instances in image ring_front_center_315978413858354280.jpg\n",
      "4146 keypoints deleted in total\n",
      "\n"
     ]
    },
    {
     "name": "stderr",
     "output_type": "stream",
     "text": [
      "\r",
      " 10%|█         | 80/785 [00:26<04:08,  2.83it/s]"
     ]
    },
    {
     "name": "stdout",
     "output_type": "stream",
     "text": [
      "Found 10 instances in image ring_front_center_315978413891654328.jpg\n",
      "4184 keypoints deleted in total\n",
      "\n"
     ]
    },
    {
     "name": "stderr",
     "output_type": "stream",
     "text": [
      "\r",
      " 10%|█         | 81/785 [00:26<04:09,  2.82it/s]"
     ]
    },
    {
     "name": "stdout",
     "output_type": "stream",
     "text": [
      "Found 11 instances in image ring_front_center_315978413958254440.jpg\n",
      "4242 keypoints deleted in total\n",
      "\n"
     ]
    },
    {
     "name": "stderr",
     "output_type": "stream",
     "text": [
      "\r",
      " 10%|█         | 82/785 [00:27<04:12,  2.79it/s]"
     ]
    },
    {
     "name": "stdout",
     "output_type": "stream",
     "text": [
      "Found 11 instances in image ring_front_center_315978413991554488.jpg\n",
      "4284 keypoints deleted in total\n",
      "\n"
     ]
    },
    {
     "name": "stderr",
     "output_type": "stream",
     "text": [
      "\r",
      " 11%|█         | 83/785 [00:27<04:09,  2.81it/s]"
     ]
    },
    {
     "name": "stdout",
     "output_type": "stream",
     "text": [
      "Found 11 instances in image ring_front_center_315978414158054680.jpg\n",
      "4350 keypoints deleted in total\n",
      "\n"
     ]
    },
    {
     "name": "stderr",
     "output_type": "stream",
     "text": [
      "\r",
      " 11%|█         | 84/785 [00:27<04:13,  2.77it/s]"
     ]
    },
    {
     "name": "stdout",
     "output_type": "stream",
     "text": [
      "Found 11 instances in image ring_front_center_315978414191354728.jpg\n",
      "4381 keypoints deleted in total\n",
      "\n"
     ]
    },
    {
     "name": "stderr",
     "output_type": "stream",
     "text": [
      "\r",
      " 11%|█         | 85/785 [00:28<04:11,  2.79it/s]"
     ]
    },
    {
     "name": "stdout",
     "output_type": "stream",
     "text": [
      "Found 10 instances in image ring_front_center_315978414224654744.jpg\n",
      "4420 keypoints deleted in total\n",
      "\n"
     ]
    },
    {
     "name": "stderr",
     "output_type": "stream",
     "text": [
      "\r",
      " 11%|█         | 86/785 [00:28<04:04,  2.85it/s]"
     ]
    },
    {
     "name": "stdout",
     "output_type": "stream",
     "text": [
      "Found 11 instances in image ring_front_center_315978414291254728.jpg\n",
      "4451 keypoints deleted in total\n",
      "\n"
     ]
    },
    {
     "name": "stderr",
     "output_type": "stream",
     "text": [
      "\r",
      " 11%|█         | 87/785 [00:28<04:10,  2.78it/s]"
     ]
    },
    {
     "name": "stdout",
     "output_type": "stream",
     "text": [
      "Found 12 instances in image ring_front_center_315978414557655080.jpg\n",
      "4519 keypoints deleted in total\n",
      "\n"
     ]
    },
    {
     "name": "stderr",
     "output_type": "stream",
     "text": [
      "\r",
      " 11%|█         | 88/785 [00:29<04:19,  2.69it/s]"
     ]
    },
    {
     "name": "stdout",
     "output_type": "stream",
     "text": [
      "Found 13 instances in image ring_front_center_315978414590955128.jpg\n",
      "4544 keypoints deleted in total\n",
      "\n"
     ]
    },
    {
     "name": "stderr",
     "output_type": "stream",
     "text": [
      "\r",
      " 11%|█▏        | 89/785 [00:29<04:21,  2.67it/s]"
     ]
    },
    {
     "name": "stdout",
     "output_type": "stream",
     "text": [
      "Found 12 instances in image ring_front_center_315978414624255144.jpg\n",
      "4559 keypoints deleted in total\n",
      "\n"
     ]
    },
    {
     "name": "stderr",
     "output_type": "stream",
     "text": [
      "\r",
      " 11%|█▏        | 90/785 [00:30<04:21,  2.66it/s]"
     ]
    },
    {
     "name": "stdout",
     "output_type": "stream",
     "text": [
      "Found 12 instances in image ring_front_center_315978414690855128.jpg\n",
      "4579 keypoints deleted in total\n",
      "\n"
     ]
    },
    {
     "name": "stderr",
     "output_type": "stream",
     "text": [
      "\r",
      " 12%|█▏        | 91/785 [00:30<04:51,  2.38it/s]"
     ]
    },
    {
     "name": "stdout",
     "output_type": "stream",
     "text": [
      "Found 14 instances in image ring_front_center_315978414757455240.jpg\n",
      "4591 keypoints deleted in total\n",
      "\n"
     ]
    },
    {
     "name": "stderr",
     "output_type": "stream",
     "text": [
      "\r",
      " 12%|█▏        | 92/785 [00:31<04:50,  2.39it/s]"
     ]
    },
    {
     "name": "stdout",
     "output_type": "stream",
     "text": [
      "Found 15 instances in image ring_front_center_315978414790755208.jpg\n",
      "4600 keypoints deleted in total\n",
      "\n"
     ]
    },
    {
     "name": "stderr",
     "output_type": "stream",
     "text": [
      "\r",
      " 12%|█▏        | 93/785 [00:31<04:42,  2.45it/s]"
     ]
    },
    {
     "name": "stdout",
     "output_type": "stream",
     "text": [
      "Found 14 instances in image ring_front_center_315978414824055304.jpg\n",
      "4609 keypoints deleted in total\n",
      "\n"
     ]
    },
    {
     "name": "stderr",
     "output_type": "stream",
     "text": [
      "\r",
      " 12%|█▏        | 94/785 [00:31<04:30,  2.56it/s]"
     ]
    },
    {
     "name": "stdout",
     "output_type": "stream",
     "text": [
      "Found 12 instances in image ring_front_center_315978414957255432.jpg\n",
      "4622 keypoints deleted in total\n",
      "\n"
     ]
    },
    {
     "name": "stderr",
     "output_type": "stream",
     "text": [
      "\r",
      " 12%|█▏        | 95/785 [00:32<04:23,  2.62it/s]"
     ]
    },
    {
     "name": "stdout",
     "output_type": "stream",
     "text": [
      "Found 11 instances in image ring_front_center_315978414990555528.jpg\n",
      "4631 keypoints deleted in total\n",
      "\n"
     ]
    },
    {
     "name": "stderr",
     "output_type": "stream",
     "text": [
      "\r",
      " 12%|█▏        | 96/785 [00:32<04:10,  2.75it/s]"
     ]
    },
    {
     "name": "stdout",
     "output_type": "stream",
     "text": [
      "Found 9 instances in image ring_front_center_315978415057155592.jpg\n",
      "4638 keypoints deleted in total\n",
      "\n"
     ]
    },
    {
     "name": "stderr",
     "output_type": "stream",
     "text": [
      "\r",
      " 12%|█▏        | 97/785 [00:32<04:00,  2.86it/s]"
     ]
    },
    {
     "name": "stdout",
     "output_type": "stream",
     "text": [
      "Found 9 instances in image ring_front_center_315978415123755784.jpg\n",
      "4646 keypoints deleted in total\n",
      "\n"
     ]
    },
    {
     "name": "stderr",
     "output_type": "stream",
     "text": [
      "\r",
      " 12%|█▏        | 98/785 [00:33<03:56,  2.91it/s]"
     ]
    },
    {
     "name": "stdout",
     "output_type": "stream",
     "text": [
      "Found 9 instances in image ring_front_center_315978415190355768.jpg\n",
      "4653 keypoints deleted in total\n",
      "\n"
     ]
    },
    {
     "name": "stderr",
     "output_type": "stream",
     "text": [
      "\r",
      " 13%|█▎        | 99/785 [00:33<03:52,  2.95it/s]"
     ]
    },
    {
     "name": "stdout",
     "output_type": "stream",
     "text": [
      "Found 9 instances in image ring_front_center_315978415356855832.jpg\n",
      "4670 keypoints deleted in total\n",
      "\n"
     ]
    },
    {
     "name": "stderr",
     "output_type": "stream",
     "text": [
      "\r",
      " 13%|█▎        | 100/785 [00:33<03:53,  2.93it/s]"
     ]
    },
    {
     "name": "stdout",
     "output_type": "stream",
     "text": [
      "Found 10 instances in image ring_front_center_315978415556655832.jpg\n",
      "4686 keypoints deleted in total\n",
      "\n"
     ]
    },
    {
     "name": "stderr",
     "output_type": "stream",
     "text": [
      "\r",
      " 13%|█▎        | 101/785 [00:34<03:56,  2.89it/s]"
     ]
    },
    {
     "name": "stdout",
     "output_type": "stream",
     "text": [
      "Found 11 instances in image ring_front_center_315978415689855928.jpg\n",
      "4713 keypoints deleted in total\n",
      "\n"
     ]
    },
    {
     "name": "stderr",
     "output_type": "stream",
     "text": [
      "\r",
      " 13%|█▎        | 102/785 [00:34<03:55,  2.90it/s]"
     ]
    },
    {
     "name": "stdout",
     "output_type": "stream",
     "text": [
      "Found 11 instances in image ring_front_center_315978415723155944.jpg\n",
      "4721 keypoints deleted in total\n",
      "\n"
     ]
    },
    {
     "name": "stderr",
     "output_type": "stream",
     "text": [
      "\r",
      " 13%|█▎        | 103/785 [00:34<04:01,  2.82it/s]"
     ]
    },
    {
     "name": "stdout",
     "output_type": "stream",
     "text": [
      "Found 12 instances in image ring_front_center_315978415756455912.jpg\n",
      "4734 keypoints deleted in total\n",
      "\n"
     ]
    },
    {
     "name": "stderr",
     "output_type": "stream",
     "text": [
      "\r",
      " 13%|█▎        | 104/785 [00:35<04:07,  2.75it/s]"
     ]
    },
    {
     "name": "stdout",
     "output_type": "stream",
     "text": [
      "Found 12 instances in image ring_front_center_315978415789755928.jpg\n",
      "4741 keypoints deleted in total\n",
      "\n"
     ]
    },
    {
     "name": "stderr",
     "output_type": "stream",
     "text": [
      "\r",
      " 13%|█▎        | 105/785 [00:35<04:05,  2.77it/s]"
     ]
    },
    {
     "name": "stdout",
     "output_type": "stream",
     "text": [
      "Found 11 instances in image ring_front_center_315978415922956104.jpg\n",
      "4752 keypoints deleted in total\n",
      "\n"
     ]
    },
    {
     "name": "stderr",
     "output_type": "stream",
     "text": [
      "\r",
      " 14%|█▎        | 106/785 [00:36<04:07,  2.74it/s]"
     ]
    },
    {
     "name": "stdout",
     "output_type": "stream",
     "text": [
      "Found 11 instances in image ring_front_center_315978416189356328.jpg\n",
      "4768 keypoints deleted in total\n",
      "\n"
     ]
    },
    {
     "name": "stderr",
     "output_type": "stream",
     "text": [
      "\r",
      " 14%|█▎        | 107/785 [00:36<04:04,  2.77it/s]"
     ]
    },
    {
     "name": "stdout",
     "output_type": "stream",
     "text": [
      "Found 11 instances in image ring_front_center_315978416222656424.jpg\n",
      "4779 keypoints deleted in total\n",
      "\n"
     ]
    },
    {
     "name": "stderr",
     "output_type": "stream",
     "text": [
      "\r",
      " 14%|█▍        | 108/785 [00:36<04:06,  2.74it/s]"
     ]
    },
    {
     "name": "stdout",
     "output_type": "stream",
     "text": [
      "Found 11 instances in image ring_front_center_315978416255956392.jpg\n",
      "4791 keypoints deleted in total\n",
      "\n"
     ]
    },
    {
     "name": "stderr",
     "output_type": "stream",
     "text": [
      "\r",
      " 14%|█▍        | 109/785 [00:37<04:03,  2.77it/s]"
     ]
    },
    {
     "name": "stdout",
     "output_type": "stream",
     "text": [
      "Found 11 instances in image ring_front_center_315978416389156568.jpg\n",
      "4810 keypoints deleted in total\n",
      "\n"
     ]
    },
    {
     "name": "stderr",
     "output_type": "stream",
     "text": [
      "\r",
      " 14%|█▍        | 110/785 [00:37<04:05,  2.75it/s]"
     ]
    },
    {
     "name": "stdout",
     "output_type": "stream",
     "text": [
      "Found 13 instances in image ring_front_center_315978416622256616.jpg\n",
      "4839 keypoints deleted in total\n",
      "\n"
     ]
    },
    {
     "name": "stderr",
     "output_type": "stream",
     "text": [
      "\r",
      " 14%|█▍        | 111/785 [00:37<04:05,  2.75it/s]"
     ]
    },
    {
     "name": "stdout",
     "output_type": "stream",
     "text": [
      "Found 11 instances in image ring_front_center_315978416855356592.jpg\n",
      "4868 keypoints deleted in total\n",
      "\n"
     ]
    },
    {
     "name": "stderr",
     "output_type": "stream",
     "text": [
      "\r",
      " 14%|█▍        | 112/785 [00:38<04:06,  2.73it/s]"
     ]
    },
    {
     "name": "stdout",
     "output_type": "stream",
     "text": [
      "Found 11 instances in image ring_front_center_315978416888656552.jpg\n",
      "4890 keypoints deleted in total\n",
      "\n"
     ]
    },
    {
     "name": "stderr",
     "output_type": "stream",
     "text": [
      "\r",
      " 14%|█▍        | 113/785 [00:38<04:08,  2.70it/s]"
     ]
    },
    {
     "name": "stdout",
     "output_type": "stream",
     "text": [
      "Found 11 instances in image ring_front_center_315978416955256512.jpg\n",
      "4907 keypoints deleted in total\n",
      "\n"
     ]
    },
    {
     "name": "stderr",
     "output_type": "stream",
     "text": [
      "\r",
      " 15%|█▍        | 114/785 [00:38<04:09,  2.69it/s]"
     ]
    },
    {
     "name": "stdout",
     "output_type": "stream",
     "text": [
      "Found 11 instances in image ring_front_center_315978416988556472.jpg\n",
      "4933 keypoints deleted in total\n",
      "\n"
     ]
    },
    {
     "name": "stderr",
     "output_type": "stream",
     "text": [
      "\r",
      " 15%|█▍        | 115/785 [00:39<04:11,  2.67it/s]"
     ]
    },
    {
     "name": "stdout",
     "output_type": "stream",
     "text": [
      "Found 12 instances in image ring_front_center_315978417055156432.jpg\n",
      "4953 keypoints deleted in total\n",
      "\n"
     ]
    },
    {
     "name": "stderr",
     "output_type": "stream",
     "text": [
      "\r",
      " 15%|█▍        | 116/785 [00:39<04:07,  2.71it/s]"
     ]
    },
    {
     "name": "stdout",
     "output_type": "stream",
     "text": [
      "Found 10 instances in image ring_front_center_315978417088456392.jpg\n",
      "4972 keypoints deleted in total\n",
      "\n"
     ]
    },
    {
     "name": "stderr",
     "output_type": "stream",
     "text": [
      "\r",
      " 15%|█▍        | 117/785 [00:40<03:55,  2.84it/s]"
     ]
    },
    {
     "name": "stdout",
     "output_type": "stream",
     "text": [
      "Found 9 instances in image ring_front_center_315978417121756312.jpg\n",
      "4997 keypoints deleted in total\n",
      "\n"
     ]
    },
    {
     "name": "stderr",
     "output_type": "stream",
     "text": [
      "\r",
      " 15%|█▌        | 118/785 [00:40<03:59,  2.78it/s]"
     ]
    },
    {
     "name": "stdout",
     "output_type": "stream",
     "text": [
      "Found 11 instances in image ring_front_center_315978417221656312.jpg\n",
      "5030 keypoints deleted in total\n",
      "\n"
     ]
    },
    {
     "name": "stderr",
     "output_type": "stream",
     "text": [
      "\r",
      " 15%|█▌        | 119/785 [00:40<04:01,  2.75it/s]"
     ]
    },
    {
     "name": "stdout",
     "output_type": "stream",
     "text": [
      "Found 11 instances in image ring_front_center_315978417454756272.jpg\n",
      "5070 keypoints deleted in total\n",
      "\n"
     ]
    },
    {
     "name": "stderr",
     "output_type": "stream",
     "text": [
      "\r",
      " 15%|█▌        | 120/785 [00:41<04:05,  2.71it/s]"
     ]
    },
    {
     "name": "stdout",
     "output_type": "stream",
     "text": [
      "Found 12 instances in image ring_front_center_315978417488056232.jpg\n",
      "5092 keypoints deleted in total\n",
      "\n"
     ]
    },
    {
     "name": "stderr",
     "output_type": "stream",
     "text": [
      "\r",
      " 15%|█▌        | 121/785 [00:41<03:56,  2.81it/s]"
     ]
    },
    {
     "name": "stdout",
     "output_type": "stream",
     "text": [
      "Found 10 instances in image ring_front_center_315978417621256232.jpg\n",
      "5116 keypoints deleted in total\n",
      "\n"
     ]
    },
    {
     "name": "stderr",
     "output_type": "stream",
     "text": [
      "\r",
      " 16%|█▌        | 122/785 [00:41<03:55,  2.82it/s]"
     ]
    },
    {
     "name": "stdout",
     "output_type": "stream",
     "text": [
      "Found 11 instances in image ring_front_center_315978417787756232.jpg\n",
      "5166 keypoints deleted in total\n",
      "\n"
     ]
    },
    {
     "name": "stderr",
     "output_type": "stream",
     "text": [
      "\r",
      " 16%|█▌        | 123/785 [00:42<04:03,  2.71it/s]"
     ]
    },
    {
     "name": "stdout",
     "output_type": "stream",
     "text": [
      "Found 13 instances in image ring_front_center_315978418020856072.jpg\n",
      "5205 keypoints deleted in total\n",
      "\n"
     ]
    },
    {
     "name": "stderr",
     "output_type": "stream",
     "text": [
      "\r",
      " 16%|█▌        | 124/785 [00:42<04:34,  2.40it/s]"
     ]
    },
    {
     "name": "stdout",
     "output_type": "stream",
     "text": [
      "Found 13 instances in image ring_front_center_315978418187356032.jpg\n",
      "5223 keypoints deleted in total\n",
      "\n"
     ]
    },
    {
     "name": "stderr",
     "output_type": "stream",
     "text": [
      "\r",
      " 16%|█▌        | 125/785 [00:43<04:28,  2.46it/s]"
     ]
    },
    {
     "name": "stdout",
     "output_type": "stream",
     "text": [
      "Found 12 instances in image ring_front_center_315978418420456232.jpg\n",
      "5244 keypoints deleted in total\n",
      "\n"
     ]
    },
    {
     "name": "stderr",
     "output_type": "stream",
     "text": [
      "\r",
      " 16%|█▌        | 126/785 [00:43<04:26,  2.48it/s]"
     ]
    },
    {
     "name": "stdout",
     "output_type": "stream",
     "text": [
      "Found 12 instances in image ring_front_center_315978418453756272.jpg\n",
      "5254 keypoints deleted in total\n",
      "\n"
     ]
    },
    {
     "name": "stderr",
     "output_type": "stream",
     "text": [
      "\r",
      " 16%|█▌        | 127/785 [00:43<04:19,  2.54it/s]"
     ]
    },
    {
     "name": "stdout",
     "output_type": "stream",
     "text": [
      "Found 11 instances in image ring_front_center_315978418520356312.jpg\n",
      "5265 keypoints deleted in total\n",
      "\n"
     ]
    },
    {
     "name": "stderr",
     "output_type": "stream",
     "text": [
      "\r",
      " 16%|█▋        | 128/785 [00:44<04:11,  2.61it/s]"
     ]
    },
    {
     "name": "stdout",
     "output_type": "stream",
     "text": [
      "Found 12 instances in image ring_front_center_315978418820056312.jpg\n",
      "5284 keypoints deleted in total\n",
      "\n"
     ]
    },
    {
     "name": "stderr",
     "output_type": "stream",
     "text": [
      "\r",
      " 16%|█▋        | 129/785 [00:44<04:10,  2.61it/s]"
     ]
    },
    {
     "name": "stdout",
     "output_type": "stream",
     "text": [
      "Found 13 instances in image ring_front_center_315978418919956392.jpg\n",
      "5341 keypoints deleted in total\n",
      "\n"
     ]
    },
    {
     "name": "stderr",
     "output_type": "stream",
     "text": [
      "\r",
      " 17%|█▋        | 130/785 [00:45<04:11,  2.60it/s]"
     ]
    },
    {
     "name": "stdout",
     "output_type": "stream",
     "text": [
      "Found 13 instances in image ring_front_center_315978419252956672.jpg\n",
      "5401 keypoints deleted in total\n",
      "\n"
     ]
    },
    {
     "name": "stderr",
     "output_type": "stream",
     "text": [
      "\r",
      " 17%|█▋        | 131/785 [00:45<04:14,  2.57it/s]"
     ]
    },
    {
     "name": "stdout",
     "output_type": "stream",
     "text": [
      "Found 14 instances in image ring_front_center_315978419286256672.jpg\n",
      "5422 keypoints deleted in total\n",
      "\n"
     ]
    },
    {
     "name": "stderr",
     "output_type": "stream",
     "text": [
      "\r",
      " 17%|█▋        | 132/785 [00:45<04:20,  2.50it/s]"
     ]
    },
    {
     "name": "stdout",
     "output_type": "stream",
     "text": [
      "Found 14 instances in image ring_front_center_315978419352856752.jpg\n",
      "5436 keypoints deleted in total\n",
      "\n"
     ]
    },
    {
     "name": "stderr",
     "output_type": "stream",
     "text": [
      "\r",
      " 17%|█▋        | 133/785 [00:46<04:23,  2.47it/s]"
     ]
    },
    {
     "name": "stdout",
     "output_type": "stream",
     "text": [
      "Found 14 instances in image ring_front_center_315978419452756752.jpg\n",
      "5468 keypoints deleted in total\n",
      "\n"
     ]
    },
    {
     "name": "stderr",
     "output_type": "stream",
     "text": [
      "\r",
      " 17%|█▋        | 134/785 [00:46<04:21,  2.49it/s]"
     ]
    },
    {
     "name": "stdout",
     "output_type": "stream",
     "text": [
      "Found 13 instances in image ring_front_center_315978419585956832.jpg\n",
      "5480 keypoints deleted in total\n",
      "\n"
     ]
    },
    {
     "name": "stderr",
     "output_type": "stream",
     "text": [
      "\r",
      " 17%|█▋        | 135/785 [00:47<04:17,  2.53it/s]"
     ]
    },
    {
     "name": "stdout",
     "output_type": "stream",
     "text": [
      "Found 12 instances in image ring_front_center_315978419652556912.jpg\n",
      "5485 keypoints deleted in total\n",
      "\n"
     ]
    },
    {
     "name": "stderr",
     "output_type": "stream",
     "text": [
      "\r",
      " 17%|█▋        | 136/785 [00:47<04:15,  2.54it/s]"
     ]
    },
    {
     "name": "stdout",
     "output_type": "stream",
     "text": [
      "Found 14 instances in image ring_front_center_315978419819057032.jpg\n",
      "5498 keypoints deleted in total\n",
      "\n"
     ]
    },
    {
     "name": "stderr",
     "output_type": "stream",
     "text": [
      "\r",
      " 17%|█▋        | 137/785 [00:47<04:19,  2.50it/s]"
     ]
    },
    {
     "name": "stdout",
     "output_type": "stream",
     "text": [
      "Found 14 instances in image ring_front_center_315978419852357032.jpg\n",
      "5504 keypoints deleted in total\n",
      "\n"
     ]
    },
    {
     "name": "stderr",
     "output_type": "stream",
     "text": [
      "\r",
      " 18%|█▊        | 138/785 [00:48<04:16,  2.52it/s]"
     ]
    },
    {
     "name": "stdout",
     "output_type": "stream",
     "text": [
      "Found 14 instances in image ring_front_center_315978419885657072.jpg\n",
      "5506 keypoints deleted in total\n",
      "\n"
     ]
    },
    {
     "name": "stderr",
     "output_type": "stream",
     "text": [
      "\r",
      " 18%|█▊        | 139/785 [00:48<04:13,  2.55it/s]"
     ]
    },
    {
     "name": "stdout",
     "output_type": "stream",
     "text": [
      "Found 13 instances in image ring_front_center_315978419918957112.jpg\n",
      "5512 keypoints deleted in total\n",
      "\n"
     ]
    },
    {
     "name": "stderr",
     "output_type": "stream",
     "text": [
      "\r",
      " 18%|█▊        | 140/785 [00:48<04:06,  2.61it/s]"
     ]
    },
    {
     "name": "stdout",
     "output_type": "stream",
     "text": [
      "Found 12 instances in image ring_front_center_315978419985557072.jpg\n",
      "5517 keypoints deleted in total\n",
      "\n"
     ]
    },
    {
     "name": "stderr",
     "output_type": "stream",
     "text": [
      "\r",
      " 18%|█▊        | 141/785 [00:49<04:09,  2.58it/s]"
     ]
    },
    {
     "name": "stdout",
     "output_type": "stream",
     "text": [
      "Found 13 instances in image ring_front_center_315978420085457152.jpg\n",
      "5522 keypoints deleted in total\n",
      "\n"
     ]
    },
    {
     "name": "stderr",
     "output_type": "stream",
     "text": [
      "\r",
      " 18%|█▊        | 142/785 [00:49<04:10,  2.56it/s]"
     ]
    },
    {
     "name": "stdout",
     "output_type": "stream",
     "text": [
      "Found 13 instances in image ring_front_center_315978420185357232.jpg\n",
      "5526 keypoints deleted in total\n",
      "\n"
     ]
    },
    {
     "name": "stderr",
     "output_type": "stream",
     "text": [
      "\r",
      " 18%|█▊        | 143/785 [00:50<04:10,  2.57it/s]"
     ]
    },
    {
     "name": "stdout",
     "output_type": "stream",
     "text": [
      "Found 12 instances in image ring_front_center_315978420251957272.jpg\n",
      "5531 keypoints deleted in total\n",
      "\n"
     ]
    },
    {
     "name": "stderr",
     "output_type": "stream",
     "text": [
      "\r",
      " 18%|█▊        | 144/785 [00:50<04:20,  2.46it/s]"
     ]
    },
    {
     "name": "stdout",
     "output_type": "stream",
     "text": [
      "Found 15 instances in image ring_front_center_315978420418457512.jpg\n",
      "5543 keypoints deleted in total\n",
      "\n"
     ]
    },
    {
     "name": "stderr",
     "output_type": "stream",
     "text": [
      "\r",
      " 18%|█▊        | 145/785 [00:50<04:14,  2.51it/s]"
     ]
    },
    {
     "name": "stdout",
     "output_type": "stream",
     "text": [
      "Found 13 instances in image ring_front_center_315978420485057552.jpg\n",
      "5556 keypoints deleted in total\n",
      "\n"
     ]
    },
    {
     "name": "stderr",
     "output_type": "stream",
     "text": [
      "\r",
      " 19%|█▊        | 146/785 [00:51<04:21,  2.45it/s]"
     ]
    },
    {
     "name": "stdout",
     "output_type": "stream",
     "text": [
      "Found 16 instances in image ring_front_center_315978420518357592.jpg\n",
      "5567 keypoints deleted in total\n",
      "\n"
     ]
    },
    {
     "name": "stderr",
     "output_type": "stream",
     "text": [
      "\r",
      " 19%|█▊        | 147/785 [00:51<04:19,  2.46it/s]"
     ]
    },
    {
     "name": "stdout",
     "output_type": "stream",
     "text": [
      "Found 16 instances in image ring_front_center_315978420551657592.jpg\n",
      "5585 keypoints deleted in total\n",
      "\n"
     ]
    },
    {
     "name": "stderr",
     "output_type": "stream",
     "text": [
      "\r",
      " 19%|█▉        | 148/785 [00:52<04:19,  2.45it/s]"
     ]
    },
    {
     "name": "stdout",
     "output_type": "stream",
     "text": [
      "Found 14 instances in image ring_front_center_315978420818057672.jpg\n",
      "5615 keypoints deleted in total\n",
      "\n"
     ]
    },
    {
     "name": "stderr",
     "output_type": "stream",
     "text": [
      "\r",
      " 19%|█▉        | 149/785 [00:52<04:17,  2.47it/s]"
     ]
    },
    {
     "name": "stdout",
     "output_type": "stream",
     "text": [
      "Found 15 instances in image ring_front_center_315978420851357672.jpg\n",
      "5638 keypoints deleted in total\n",
      "\n"
     ]
    },
    {
     "name": "stderr",
     "output_type": "stream",
     "text": [
      "\r",
      " 19%|█▉        | 150/785 [00:53<04:51,  2.18it/s]"
     ]
    },
    {
     "name": "stdout",
     "output_type": "stream",
     "text": [
      "Found 16 instances in image ring_front_center_315978420917957752.jpg\n",
      "5655 keypoints deleted in total\n",
      "\n"
     ]
    },
    {
     "name": "stderr",
     "output_type": "stream",
     "text": [
      "\r",
      " 19%|█▉        | 151/785 [00:53<04:40,  2.26it/s]"
     ]
    },
    {
     "name": "stdout",
     "output_type": "stream",
     "text": [
      "Found 13 instances in image ring_front_center_315978421051157752.jpg\n",
      "5666 keypoints deleted in total\n",
      "\n"
     ]
    },
    {
     "name": "stderr",
     "output_type": "stream",
     "text": [
      "\r",
      " 19%|█▉        | 152/785 [00:54<04:30,  2.34it/s]"
     ]
    },
    {
     "name": "stdout",
     "output_type": "stream",
     "text": [
      "Found 12 instances in image ring_front_center_315978421184357872.jpg\n",
      "5695 keypoints deleted in total\n",
      "\n"
     ]
    },
    {
     "name": "stderr",
     "output_type": "stream",
     "text": [
      "\r",
      " 19%|█▉        | 153/785 [00:54<04:18,  2.44it/s]"
     ]
    },
    {
     "name": "stdout",
     "output_type": "stream",
     "text": [
      "Found 12 instances in image ring_front_center_315978421350857752.jpg\n",
      "5733 keypoints deleted in total\n",
      "\n"
     ]
    },
    {
     "name": "stderr",
     "output_type": "stream",
     "text": [
      "\r",
      " 20%|█▉        | 154/785 [00:54<04:15,  2.47it/s]"
     ]
    },
    {
     "name": "stdout",
     "output_type": "stream",
     "text": [
      "Found 13 instances in image ring_front_center_315978421417457608.jpg\n",
      "5746 keypoints deleted in total\n",
      "\n"
     ]
    },
    {
     "name": "stderr",
     "output_type": "stream",
     "text": [
      "\r",
      " 20%|█▉        | 155/785 [00:55<04:12,  2.49it/s]"
     ]
    },
    {
     "name": "stdout",
     "output_type": "stream",
     "text": [
      "Found 13 instances in image ring_front_center_315978421484057440.jpg\n",
      "5763 keypoints deleted in total\n",
      "\n"
     ]
    },
    {
     "name": "stderr",
     "output_type": "stream",
     "text": [
      "\r",
      " 20%|█▉        | 156/785 [00:55<04:08,  2.53it/s]"
     ]
    },
    {
     "name": "stdout",
     "output_type": "stream",
     "text": [
      "Found 14 instances in image ring_front_center_315978421517357424.jpg\n",
      "5773 keypoints deleted in total\n",
      "\n"
     ]
    },
    {
     "name": "stderr",
     "output_type": "stream",
     "text": [
      "\r",
      " 20%|██        | 157/785 [00:55<04:15,  2.46it/s]"
     ]
    },
    {
     "name": "stdout",
     "output_type": "stream",
     "text": [
      "Found 15 instances in image ring_front_center_315978421617257184.jpg\n",
      "5788 keypoints deleted in total\n",
      "\n"
     ]
    },
    {
     "name": "stderr",
     "output_type": "stream",
     "text": [
      "\r",
      " 20%|██        | 158/785 [00:56<03:57,  2.64it/s]"
     ]
    },
    {
     "name": "stdout",
     "output_type": "stream",
     "text": [
      "Found 8 instances in image ring_front_left_315978406032855208.jpg\n",
      "5889 keypoints deleted in total\n",
      "\n"
     ]
    },
    {
     "name": "stderr",
     "output_type": "stream",
     "text": [
      "\r",
      " 20%|██        | 159/785 [00:56<03:44,  2.79it/s]"
     ]
    },
    {
     "name": "stdout",
     "output_type": "stream",
     "text": [
      "Found 9 instances in image ring_front_left_315978406132755288.jpg\n",
      "5946 keypoints deleted in total\n",
      "\n"
     ]
    },
    {
     "name": "stderr",
     "output_type": "stream",
     "text": [
      "\r",
      " 20%|██        | 160/785 [00:56<03:39,  2.85it/s]"
     ]
    },
    {
     "name": "stdout",
     "output_type": "stream",
     "text": [
      "Found 9 instances in image ring_front_left_315978406166055352.jpg\n",
      "5990 keypoints deleted in total\n",
      "\n"
     ]
    },
    {
     "name": "stderr",
     "output_type": "stream",
     "text": [
      "\r",
      " 21%|██        | 161/785 [00:57<03:34,  2.91it/s]"
     ]
    },
    {
     "name": "stdout",
     "output_type": "stream",
     "text": [
      "Found 10 instances in image ring_front_left_315978406199355400.jpg\n",
      "6021 keypoints deleted in total\n",
      "\n"
     ]
    },
    {
     "name": "stderr",
     "output_type": "stream",
     "text": [
      "\r",
      " 21%|██        | 162/785 [00:57<03:33,  2.92it/s]"
     ]
    },
    {
     "name": "stdout",
     "output_type": "stream",
     "text": [
      "Found 10 instances in image ring_front_left_315978406265955512.jpg\n",
      "6059 keypoints deleted in total\n",
      "\n"
     ]
    },
    {
     "name": "stderr",
     "output_type": "stream",
     "text": [
      "\r",
      " 21%|██        | 163/785 [00:57<03:24,  3.04it/s]"
     ]
    },
    {
     "name": "stdout",
     "output_type": "stream",
     "text": [
      "Found 8 instances in image ring_front_left_315978406499055880.jpg\n",
      "6120 keypoints deleted in total\n",
      "\n"
     ]
    },
    {
     "name": "stderr",
     "output_type": "stream",
     "text": [
      "\r",
      " 21%|██        | 164/785 [00:58<03:22,  3.07it/s]"
     ]
    },
    {
     "name": "stdout",
     "output_type": "stream",
     "text": [
      "Found 10 instances in image ring_front_left_315978406565655992.jpg\n",
      "6170 keypoints deleted in total\n",
      "\n"
     ]
    },
    {
     "name": "stderr",
     "output_type": "stream",
     "text": [
      "\r",
      " 21%|██        | 165/785 [00:58<03:21,  3.08it/s]"
     ]
    },
    {
     "name": "stdout",
     "output_type": "stream",
     "text": [
      "Found 11 instances in image ring_front_left_315978406598956040.jpg\n",
      "6210 keypoints deleted in total\n",
      "\n"
     ]
    },
    {
     "name": "stderr",
     "output_type": "stream",
     "text": [
      "\r",
      " 21%|██        | 166/785 [00:58<03:18,  3.11it/s]"
     ]
    },
    {
     "name": "stdout",
     "output_type": "stream",
     "text": [
      "Found 11 instances in image ring_front_left_315978406665556232.jpg\n",
      "6253 keypoints deleted in total\n",
      "\n"
     ]
    },
    {
     "name": "stderr",
     "output_type": "stream",
     "text": [
      "\r",
      " 21%|██▏       | 167/785 [00:59<03:17,  3.13it/s]"
     ]
    },
    {
     "name": "stdout",
     "output_type": "stream",
     "text": [
      "Found 10 instances in image ring_front_left_315978406732156344.jpg\n",
      "6284 keypoints deleted in total\n",
      "\n"
     ]
    },
    {
     "name": "stderr",
     "output_type": "stream",
     "text": [
      "\r",
      " 21%|██▏       | 168/785 [00:59<03:16,  3.14it/s]"
     ]
    },
    {
     "name": "stdout",
     "output_type": "stream",
     "text": [
      "Found 11 instances in image ring_front_left_315978406798756440.jpg\n",
      "6319 keypoints deleted in total\n",
      "\n"
     ]
    },
    {
     "name": "stderr",
     "output_type": "stream",
     "text": [
      "\r",
      " 22%|██▏       | 169/785 [00:59<03:17,  3.12it/s]"
     ]
    },
    {
     "name": "stdout",
     "output_type": "stream",
     "text": [
      "Found 11 instances in image ring_front_left_315978406865356632.jpg\n",
      "6342 keypoints deleted in total\n",
      "\n"
     ]
    },
    {
     "name": "stderr",
     "output_type": "stream",
     "text": [
      "\r",
      " 22%|██▏       | 170/785 [01:00<03:19,  3.08it/s]"
     ]
    },
    {
     "name": "stdout",
     "output_type": "stream",
     "text": [
      "Found 12 instances in image ring_front_left_315978406965256792.jpg\n",
      "6365 keypoints deleted in total\n",
      "\n"
     ]
    },
    {
     "name": "stderr",
     "output_type": "stream",
     "text": [
      "\r",
      " 22%|██▏       | 171/785 [01:00<03:13,  3.17it/s]"
     ]
    },
    {
     "name": "stdout",
     "output_type": "stream",
     "text": [
      "Found 8 instances in image ring_front_left_315978407231657144.jpg\n",
      "6411 keypoints deleted in total\n",
      "\n"
     ]
    },
    {
     "name": "stderr",
     "output_type": "stream",
     "text": [
      "\r",
      " 22%|██▏       | 172/785 [01:00<03:10,  3.22it/s]"
     ]
    },
    {
     "name": "stdout",
     "output_type": "stream",
     "text": [
      "Found 10 instances in image ring_front_left_315978407398157240.jpg\n",
      "6456 keypoints deleted in total\n",
      "\n"
     ]
    },
    {
     "name": "stderr",
     "output_type": "stream",
     "text": [
      "\r",
      " 22%|██▏       | 173/785 [01:01<03:10,  3.22it/s]"
     ]
    },
    {
     "name": "stdout",
     "output_type": "stream",
     "text": [
      "Found 10 instances in image ring_front_left_315978407564657432.jpg\n",
      "6499 keypoints deleted in total\n",
      "\n"
     ]
    },
    {
     "name": "stderr",
     "output_type": "stream",
     "text": [
      "\r",
      " 22%|██▏       | 174/785 [01:01<03:06,  3.28it/s]"
     ]
    },
    {
     "name": "stdout",
     "output_type": "stream",
     "text": [
      "Found 8 instances in image ring_front_left_315978407664557592.jpg\n",
      "6524 keypoints deleted in total\n",
      "\n"
     ]
    },
    {
     "name": "stderr",
     "output_type": "stream",
     "text": [
      "\r",
      " 22%|██▏       | 175/785 [01:01<03:03,  3.32it/s]"
     ]
    },
    {
     "name": "stdout",
     "output_type": "stream",
     "text": [
      "Found 8 instances in image ring_front_left_315978407797757536.jpg\n",
      "6573 keypoints deleted in total\n",
      "\n"
     ]
    },
    {
     "name": "stderr",
     "output_type": "stream",
     "text": [
      "\r",
      " 22%|██▏       | 176/785 [01:01<03:04,  3.31it/s]"
     ]
    },
    {
     "name": "stdout",
     "output_type": "stream",
     "text": [
      "Found 9 instances in image ring_front_left_315978407831057376.jpg\n",
      "6605 keypoints deleted in total\n",
      "\n"
     ]
    },
    {
     "name": "stderr",
     "output_type": "stream",
     "text": [
      "\r",
      " 23%|██▎       | 177/785 [01:02<02:59,  3.39it/s]"
     ]
    },
    {
     "name": "stdout",
     "output_type": "stream",
     "text": [
      "Found 7 instances in image ring_front_left_315978407864357256.jpg\n",
      "6610 keypoints deleted in total\n",
      "\n"
     ]
    },
    {
     "name": "stderr",
     "output_type": "stream",
     "text": [
      "\r",
      " 23%|██▎       | 178/785 [01:02<02:54,  3.47it/s]"
     ]
    },
    {
     "name": "stdout",
     "output_type": "stream",
     "text": [
      "Found 7 instances in image ring_front_left_315978407930956896.jpg\n",
      "6661 keypoints deleted in total\n",
      "\n"
     ]
    },
    {
     "name": "stderr",
     "output_type": "stream",
     "text": [
      "\r",
      " 23%|██▎       | 179/785 [01:02<02:52,  3.52it/s]"
     ]
    },
    {
     "name": "stdout",
     "output_type": "stream",
     "text": [
      "Found 6 instances in image ring_front_left_315978408030856416.jpg\n",
      "6669 keypoints deleted in total\n",
      "\n"
     ]
    },
    {
     "name": "stderr",
     "output_type": "stream",
     "text": [
      "\r",
      " 23%|██▎       | 180/785 [01:03<02:50,  3.55it/s]"
     ]
    },
    {
     "name": "stdout",
     "output_type": "stream",
     "text": [
      "Found 5 instances in image ring_front_left_315978408130756016.jpg\n",
      "6680 keypoints deleted in total\n",
      "\n"
     ]
    },
    {
     "name": "stderr",
     "output_type": "stream",
     "text": [
      "\r",
      " 23%|██▎       | 181/785 [01:03<02:45,  3.64it/s]"
     ]
    },
    {
     "name": "stdout",
     "output_type": "stream",
     "text": [
      "Found 5 instances in image ring_front_left_315978408197355696.jpg\n",
      "6688 keypoints deleted in total\n",
      "\n"
     ]
    },
    {
     "name": "stderr",
     "output_type": "stream",
     "text": [
      "\r",
      " 23%|██▎       | 182/785 [01:03<02:45,  3.64it/s]"
     ]
    },
    {
     "name": "stdout",
     "output_type": "stream",
     "text": [
      "Found 6 instances in image ring_front_left_315978408330555056.jpg\n",
      "6767 keypoints deleted in total\n",
      "\n"
     ]
    },
    {
     "name": "stderr",
     "output_type": "stream",
     "text": [
      "\r",
      " 23%|██▎       | 183/785 [01:03<02:45,  3.64it/s]"
     ]
    },
    {
     "name": "stdout",
     "output_type": "stream",
     "text": [
      "Found 6 instances in image ring_front_left_315978408397154776.jpg\n",
      "6809 keypoints deleted in total\n",
      "\n"
     ]
    },
    {
     "name": "stderr",
     "output_type": "stream",
     "text": [
      "\r",
      " 23%|██▎       | 184/785 [01:04<02:39,  3.78it/s]"
     ]
    },
    {
     "name": "stdout",
     "output_type": "stream",
     "text": [
      "Found 4 instances in image ring_front_left_315978408530354336.jpg\n",
      "6858 keypoints deleted in total\n",
      "\n"
     ]
    },
    {
     "name": "stderr",
     "output_type": "stream",
     "text": [
      "\r",
      " 24%|██▎       | 185/785 [01:04<02:35,  3.86it/s]"
     ]
    },
    {
     "name": "stdout",
     "output_type": "stream",
     "text": [
      "Found 4 instances in image ring_front_left_315978408563654216.jpg\n",
      "6881 keypoints deleted in total\n",
      "\n"
     ]
    },
    {
     "name": "stderr",
     "output_type": "stream",
     "text": [
      "\r",
      " 24%|██▎       | 186/785 [01:04<02:31,  3.95it/s]"
     ]
    },
    {
     "name": "stdout",
     "output_type": "stream",
     "text": [
      "Found 4 instances in image ring_front_left_315978408630254016.jpg\n",
      "6896 keypoints deleted in total\n",
      "\n"
     ]
    },
    {
     "name": "stderr",
     "output_type": "stream",
     "text": [
      "\r",
      " 24%|██▍       | 187/785 [01:04<02:28,  4.02it/s]"
     ]
    },
    {
     "name": "stdout",
     "output_type": "stream",
     "text": [
      "Found 4 instances in image ring_front_left_315978408663553896.jpg\n",
      "6904 keypoints deleted in total\n",
      "\n"
     ]
    },
    {
     "name": "stderr",
     "output_type": "stream",
     "text": [
      "\r",
      " 24%|██▍       | 188/785 [01:05<02:24,  4.14it/s]"
     ]
    },
    {
     "name": "stdout",
     "output_type": "stream",
     "text": [
      "Found 3 instances in image ring_front_left_315978408796753496.jpg\n",
      "6904 keypoints deleted in total\n",
      "\n"
     ]
    },
    {
     "name": "stderr",
     "output_type": "stream",
     "text": [
      "\r",
      " 24%|██▍       | 189/785 [01:05<02:24,  4.14it/s]"
     ]
    },
    {
     "name": "stdout",
     "output_type": "stream",
     "text": [
      "Found 5 instances in image ring_front_left_315978408929953056.jpg\n",
      "6907 keypoints deleted in total\n",
      "\n"
     ]
    },
    {
     "name": "stderr",
     "output_type": "stream",
     "text": [
      "\r",
      " 24%|██▍       | 190/785 [01:05<02:23,  4.16it/s]"
     ]
    },
    {
     "name": "stdout",
     "output_type": "stream",
     "text": [
      "Found 5 instances in image ring_front_left_315978409129752336.jpg\n",
      "6908 keypoints deleted in total\n",
      "\n"
     ]
    },
    {
     "name": "stderr",
     "output_type": "stream",
     "text": [
      "\r",
      " 24%|██▍       | 191/785 [01:05<02:19,  4.25it/s]"
     ]
    },
    {
     "name": "stdout",
     "output_type": "stream",
     "text": [
      "Found 3 instances in image ring_front_left_315978409196352136.jpg\n",
      "6910 keypoints deleted in total\n",
      "\n"
     ]
    },
    {
     "name": "stderr",
     "output_type": "stream",
     "text": [
      "\r",
      " 24%|██▍       | 192/785 [01:05<02:18,  4.28it/s]"
     ]
    },
    {
     "name": "stdout",
     "output_type": "stream",
     "text": [
      "Found 3 instances in image ring_front_left_315978409296251816.jpg\n",
      "6911 keypoints deleted in total\n",
      "\n"
     ]
    },
    {
     "name": "stderr",
     "output_type": "stream",
     "text": [
      "\r",
      " 25%|██▍       | 193/785 [01:06<02:20,  4.23it/s]"
     ]
    },
    {
     "name": "stdout",
     "output_type": "stream",
     "text": [
      "Found 4 instances in image ring_front_left_315978409429452536.jpg\n",
      "6943 keypoints deleted in total\n",
      "\n"
     ]
    },
    {
     "name": "stderr",
     "output_type": "stream",
     "text": [
      "\r",
      " 25%|██▍       | 194/785 [01:06<02:21,  4.18it/s]"
     ]
    },
    {
     "name": "stdout",
     "output_type": "stream",
     "text": [
      "Found 4 instances in image ring_front_left_315978409729153976.jpg\n",
      "6962 keypoints deleted in total\n",
      "\n"
     ]
    },
    {
     "name": "stderr",
     "output_type": "stream",
     "text": [
      "\r",
      " 25%|██▍       | 195/785 [01:06<02:28,  3.97it/s]"
     ]
    },
    {
     "name": "stdout",
     "output_type": "stream",
     "text": [
      "Found 6 instances in image ring_front_left_315978409829054456.jpg\n",
      "6989 keypoints deleted in total\n",
      "\n"
     ]
    },
    {
     "name": "stderr",
     "output_type": "stream",
     "text": [
      "\r",
      " 25%|██▍       | 196/785 [01:07<02:35,  3.80it/s]"
     ]
    },
    {
     "name": "stdout",
     "output_type": "stream",
     "text": [
      "Found 6 instances in image ring_front_left_315978409995555176.jpg\n",
      "7010 keypoints deleted in total\n",
      "\n"
     ]
    },
    {
     "name": "stderr",
     "output_type": "stream",
     "text": [
      "\r",
      " 25%|██▌       | 197/785 [01:07<02:34,  3.80it/s]"
     ]
    },
    {
     "name": "stdout",
     "output_type": "stream",
     "text": [
      "Found 6 instances in image ring_front_left_315978410028855336.jpg\n",
      "7032 keypoints deleted in total\n",
      "\n"
     ]
    },
    {
     "name": "stderr",
     "output_type": "stream",
     "text": [
      "\r",
      " 25%|██▌       | 198/785 [01:07<03:05,  3.17it/s]"
     ]
    },
    {
     "name": "stdout",
     "output_type": "stream",
     "text": [
      "Found 6 instances in image ring_front_left_315978410062155496.jpg\n",
      "7041 keypoints deleted in total\n",
      "\n"
     ]
    },
    {
     "name": "stderr",
     "output_type": "stream",
     "text": [
      "\r",
      " 25%|██▌       | 199/785 [01:08<03:04,  3.18it/s]"
     ]
    },
    {
     "name": "stdout",
     "output_type": "stream",
     "text": [
      "Found 8 instances in image ring_front_left_315978410395156776.jpg\n",
      "7079 keypoints deleted in total\n",
      "\n"
     ]
    },
    {
     "name": "stderr",
     "output_type": "stream",
     "text": [
      "\r",
      " 25%|██▌       | 200/785 [01:08<03:02,  3.20it/s]"
     ]
    },
    {
     "name": "stdout",
     "output_type": "stream",
     "text": [
      "Found 8 instances in image ring_front_left_315978410495057176.jpg\n",
      "7096 keypoints deleted in total\n",
      "\n"
     ]
    },
    {
     "name": "stderr",
     "output_type": "stream",
     "text": [
      "\r",
      " 26%|██▌       | 201/785 [01:08<02:54,  3.35it/s]"
     ]
    },
    {
     "name": "stdout",
     "output_type": "stream",
     "text": [
      "Found 5 instances in image ring_front_left_315978410594957496.jpg\n",
      "7110 keypoints deleted in total\n",
      "\n"
     ]
    },
    {
     "name": "stderr",
     "output_type": "stream",
     "text": [
      "\r",
      " 26%|██▌       | 202/785 [01:08<02:47,  3.47it/s]"
     ]
    },
    {
     "name": "stdout",
     "output_type": "stream",
     "text": [
      "Found 5 instances in image ring_front_left_315978410628257656.jpg\n",
      "7122 keypoints deleted in total\n",
      "\n"
     ]
    },
    {
     "name": "stderr",
     "output_type": "stream",
     "text": [
      "\r",
      " 26%|██▌       | 203/785 [01:09<02:47,  3.47it/s]"
     ]
    },
    {
     "name": "stdout",
     "output_type": "stream",
     "text": [
      "Found 7 instances in image ring_front_left_315978410694857896.jpg\n",
      "7145 keypoints deleted in total\n",
      "\n"
     ]
    },
    {
     "name": "stderr",
     "output_type": "stream",
     "text": [
      "\r",
      " 26%|██▌       | 204/785 [01:09<02:47,  3.46it/s]"
     ]
    },
    {
     "name": "stdout",
     "output_type": "stream",
     "text": [
      "Found 6 instances in image ring_front_left_315978410794758176.jpg\n",
      "7157 keypoints deleted in total\n",
      "\n"
     ]
    },
    {
     "name": "stderr",
     "output_type": "stream",
     "text": [
      "\r",
      " 26%|██▌       | 205/785 [01:09<02:43,  3.54it/s]"
     ]
    },
    {
     "name": "stdout",
     "output_type": "stream",
     "text": [
      "Found 6 instances in image ring_front_left_315978410828058056.jpg\n",
      "7175 keypoints deleted in total\n",
      "\n"
     ]
    },
    {
     "name": "stderr",
     "output_type": "stream",
     "text": [
      "\r",
      " 26%|██▌       | 206/785 [01:09<02:35,  3.73it/s]"
     ]
    },
    {
     "name": "stdout",
     "output_type": "stream",
     "text": [
      "Found 3 instances in image ring_front_left_315978410894657696.jpg\n",
      "7197 keypoints deleted in total\n",
      "\n"
     ]
    },
    {
     "name": "stderr",
     "output_type": "stream",
     "text": [
      "\r",
      " 26%|██▋       | 207/785 [01:10<02:28,  3.89it/s]"
     ]
    },
    {
     "name": "stdout",
     "output_type": "stream",
     "text": [
      "Found 3 instances in image ring_front_left_315978410927957576.jpg\n",
      "7211 keypoints deleted in total\n",
      "\n"
     ]
    },
    {
     "name": "stderr",
     "output_type": "stream",
     "text": [
      "\r",
      " 26%|██▋       | 208/785 [01:10<02:24,  4.00it/s]"
     ]
    },
    {
     "name": "stdout",
     "output_type": "stream",
     "text": [
      "Found 3 instances in image ring_front_left_315978411027857096.jpg\n",
      "7237 keypoints deleted in total\n",
      "\n"
     ]
    },
    {
     "name": "stderr",
     "output_type": "stream",
     "text": [
      "\r",
      " 27%|██▋       | 209/785 [01:10<02:23,  4.01it/s]"
     ]
    },
    {
     "name": "stdout",
     "output_type": "stream",
     "text": [
      "Found 4 instances in image ring_front_left_315978411094456816.jpg\n",
      "7258 keypoints deleted in total\n",
      "\n"
     ]
    },
    {
     "name": "stderr",
     "output_type": "stream",
     "text": [
      "\r",
      " 27%|██▋       | 210/785 [01:10<02:22,  4.03it/s]"
     ]
    },
    {
     "name": "stdout",
     "output_type": "stream",
     "text": [
      "Found 4 instances in image ring_front_left_315978411127756696.jpg\n",
      "7277 keypoints deleted in total\n",
      "\n"
     ]
    },
    {
     "name": "stderr",
     "output_type": "stream",
     "text": [
      "\r",
      " 27%|██▋       | 211/785 [01:11<02:21,  4.05it/s]"
     ]
    },
    {
     "name": "stdout",
     "output_type": "stream",
     "text": [
      "Found 4 instances in image ring_front_left_315978411260956136.jpg\n",
      "7309 keypoints deleted in total\n",
      "\n"
     ]
    },
    {
     "name": "stderr",
     "output_type": "stream",
     "text": [
      "\r",
      " 27%|██▋       | 212/785 [01:11<02:21,  4.04it/s]"
     ]
    },
    {
     "name": "stdout",
     "output_type": "stream",
     "text": [
      "Found 5 instances in image ring_front_left_315978411494055296.jpg\n",
      "7381 keypoints deleted in total\n",
      "\n"
     ]
    },
    {
     "name": "stderr",
     "output_type": "stream",
     "text": [
      "\r",
      " 27%|██▋       | 213/785 [01:11<02:23,  4.00it/s]"
     ]
    },
    {
     "name": "stdout",
     "output_type": "stream",
     "text": [
      "Found 5 instances in image ring_front_left_315978411527355176.jpg\n",
      "7406 keypoints deleted in total\n",
      "\n"
     ]
    },
    {
     "name": "stderr",
     "output_type": "stream",
     "text": [
      "\r",
      " 27%|██▋       | 214/785 [01:11<02:23,  3.99it/s]"
     ]
    },
    {
     "name": "stdout",
     "output_type": "stream",
     "text": [
      "Found 4 instances in image ring_front_left_315978411727154416.jpg\n",
      "7463 keypoints deleted in total\n",
      "\n",
      "Found 2 instances in image ring_front_left_315978411827054016.jpg\n",
      "7483 keypoints deleted in total\n"
     ]
    },
    {
     "name": "stderr",
     "output_type": "stream",
     "text": [
      "\r",
      " 27%|██▋       | 215/785 [01:12<02:18,  4.12it/s]"
     ]
    },
    {
     "name": "stdout",
     "output_type": "stream",
     "text": [
      "\n"
     ]
    },
    {
     "name": "stderr",
     "output_type": "stream",
     "text": [
      "\r",
      " 28%|██▊       | 216/785 [01:12<02:21,  4.03it/s]"
     ]
    },
    {
     "name": "stdout",
     "output_type": "stream",
     "text": [
      "Found 4 instances in image ring_front_left_315978411993553376.jpg\n",
      "7526 keypoints deleted in total\n",
      "\n"
     ]
    },
    {
     "name": "stderr",
     "output_type": "stream",
     "text": [
      "\r",
      " 28%|██▊       | 217/785 [01:12<02:20,  4.04it/s]"
     ]
    },
    {
     "name": "stdout",
     "output_type": "stream",
     "text": [
      "Found 3 instances in image ring_front_left_315978412126752896.jpg\n",
      "7548 keypoints deleted in total\n",
      "\n"
     ]
    },
    {
     "name": "stderr",
     "output_type": "stream",
     "text": [
      "\r",
      " 28%|██▊       | 218/785 [01:12<02:22,  3.97it/s]"
     ]
    },
    {
     "name": "stdout",
     "output_type": "stream",
     "text": [
      "Found 4 instances in image ring_front_left_315978412293252448.jpg\n",
      "7592 keypoints deleted in total\n",
      "\n",
      "Found 1 instances in image ring_front_left_315978412359852584.jpg\n",
      "7599 keypoints deleted in total\n"
     ]
    },
    {
     "name": "stderr",
     "output_type": "stream",
     "text": [
      "\r",
      " 28%|██▊       | 219/785 [01:13<02:15,  4.17it/s]"
     ]
    },
    {
     "name": "stdout",
     "output_type": "stream",
     "text": [
      "\n",
      "Found 2 instances in image ring_front_left_315978412426452800.jpg\n",
      "7604 keypoints deleted in total\n"
     ]
    },
    {
     "name": "stderr",
     "output_type": "stream",
     "text": [
      "\r",
      " 28%|██▊       | 220/785 [01:13<02:13,  4.23it/s]"
     ]
    },
    {
     "name": "stdout",
     "output_type": "stream",
     "text": [
      "\n"
     ]
    },
    {
     "name": "stderr",
     "output_type": "stream",
     "text": [
      "\r",
      " 28%|██▊       | 221/785 [01:13<02:18,  4.07it/s]"
     ]
    },
    {
     "name": "stdout",
     "output_type": "stream",
     "text": [
      "Found 5 instances in image ring_front_left_315978412659553384.jpg\n",
      "7616 keypoints deleted in total\n",
      "\n"
     ]
    },
    {
     "name": "stderr",
     "output_type": "stream",
     "text": [
      "\r",
      " 28%|██▊       | 222/785 [01:13<02:21,  3.97it/s]"
     ]
    },
    {
     "name": "stdout",
     "output_type": "stream",
     "text": [
      "Found 5 instances in image ring_front_left_315978412726153520.jpg\n",
      "7740 keypoints deleted in total\n",
      "\n"
     ]
    },
    {
     "name": "stderr",
     "output_type": "stream",
     "text": [
      "\r",
      " 28%|██▊       | 223/785 [01:14<02:23,  3.90it/s]"
     ]
    },
    {
     "name": "stdout",
     "output_type": "stream",
     "text": [
      "Found 4 instances in image ring_front_left_315978412826053760.jpg\n",
      "7752 keypoints deleted in total\n",
      "\n"
     ]
    },
    {
     "name": "stderr",
     "output_type": "stream",
     "text": [
      "\r",
      " 29%|██▊       | 224/785 [01:14<02:25,  3.84it/s]"
     ]
    },
    {
     "name": "stdout",
     "output_type": "stream",
     "text": [
      "Found 4 instances in image ring_front_left_315978412892653888.jpg\n",
      "7852 keypoints deleted in total\n",
      "\n"
     ]
    },
    {
     "name": "stderr",
     "output_type": "stream",
     "text": [
      "\r",
      " 29%|██▊       | 225/785 [01:14<02:28,  3.76it/s]"
     ]
    },
    {
     "name": "stdout",
     "output_type": "stream",
     "text": [
      "Found 5 instances in image ring_front_left_315978413025854240.jpg\n",
      "7933 keypoints deleted in total\n",
      "\n"
     ]
    },
    {
     "name": "stderr",
     "output_type": "stream",
     "text": [
      "\r",
      " 29%|██▉       | 226/785 [01:14<02:25,  3.83it/s]"
     ]
    },
    {
     "name": "stdout",
     "output_type": "stream",
     "text": [
      "Found 4 instances in image ring_front_left_315978413092454448.jpg\n",
      "8004 keypoints deleted in total\n",
      "\n"
     ]
    },
    {
     "name": "stderr",
     "output_type": "stream",
     "text": [
      "\r",
      " 29%|██▉       | 227/785 [01:15<02:30,  3.71it/s]"
     ]
    },
    {
     "name": "stdout",
     "output_type": "stream",
     "text": [
      "Found 5 instances in image ring_front_left_315978413125754560.jpg\n",
      "8059 keypoints deleted in total\n",
      "\n"
     ]
    },
    {
     "name": "stderr",
     "output_type": "stream",
     "text": [
      "\r",
      " 29%|██▉       | 228/785 [01:15<02:28,  3.75it/s]"
     ]
    },
    {
     "name": "stdout",
     "output_type": "stream",
     "text": [
      "Found 5 instances in image ring_front_left_315978413159054664.jpg\n",
      "8102 keypoints deleted in total\n",
      "\n"
     ]
    },
    {
     "name": "stderr",
     "output_type": "stream",
     "text": [
      "\r",
      " 29%|██▉       | 229/785 [01:15<02:25,  3.83it/s]"
     ]
    },
    {
     "name": "stdout",
     "output_type": "stream",
     "text": [
      "Found 4 instances in image ring_front_left_315978413192354848.jpg\n",
      "8140 keypoints deleted in total\n",
      "\n"
     ]
    },
    {
     "name": "stderr",
     "output_type": "stream",
     "text": [
      "\r",
      " 29%|██▉       | 230/785 [01:16<02:26,  3.80it/s]"
     ]
    },
    {
     "name": "stdout",
     "output_type": "stream",
     "text": [
      "Found 5 instances in image ring_front_left_315978413225654960.jpg\n",
      "8185 keypoints deleted in total\n",
      "\n"
     ]
    },
    {
     "name": "stderr",
     "output_type": "stream",
     "text": [
      "\r",
      " 29%|██▉       | 231/785 [01:16<02:23,  3.85it/s]"
     ]
    },
    {
     "name": "stdout",
     "output_type": "stream",
     "text": [
      "Found 3 instances in image ring_front_left_315978413292255168.jpg\n",
      "8218 keypoints deleted in total\n",
      "\n"
     ]
    },
    {
     "name": "stderr",
     "output_type": "stream",
     "text": [
      "\r",
      " 30%|██▉       | 232/785 [01:16<02:19,  3.96it/s]"
     ]
    },
    {
     "name": "stdout",
     "output_type": "stream",
     "text": [
      "Found 3 instances in image ring_front_left_315978413325555280.jpg\n",
      "8254 keypoints deleted in total\n",
      "\n"
     ]
    },
    {
     "name": "stderr",
     "output_type": "stream",
     "text": [
      "\r",
      " 30%|██▉       | 233/785 [01:16<02:19,  3.95it/s]"
     ]
    },
    {
     "name": "stdout",
     "output_type": "stream",
     "text": [
      "Found 4 instances in image ring_front_left_315978413425455520.jpg\n",
      "8303 keypoints deleted in total\n",
      "\n"
     ]
    },
    {
     "name": "stderr",
     "output_type": "stream",
     "text": [
      "\r",
      " 30%|██▉       | 234/785 [01:17<02:21,  3.91it/s]"
     ]
    },
    {
     "name": "stdout",
     "output_type": "stream",
     "text": [
      "Found 4 instances in image ring_front_left_315978413458755624.jpg\n",
      "8346 keypoints deleted in total\n",
      "\n"
     ]
    },
    {
     "name": "stderr",
     "output_type": "stream",
     "text": [
      "\r",
      " 30%|██▉       | 235/785 [01:17<02:20,  3.91it/s]"
     ]
    },
    {
     "name": "stdout",
     "output_type": "stream",
     "text": [
      "Found 3 instances in image ring_front_left_315978413492055736.jpg\n",
      "8380 keypoints deleted in total\n",
      "\n"
     ]
    },
    {
     "name": "stderr",
     "output_type": "stream",
     "text": [
      "\r",
      " 30%|███       | 236/785 [01:17<02:20,  3.90it/s]"
     ]
    },
    {
     "name": "stdout",
     "output_type": "stream",
     "text": [
      "Found 3 instances in image ring_front_left_315978413525355840.jpg\n",
      "8402 keypoints deleted in total\n",
      "\n"
     ]
    },
    {
     "name": "stderr",
     "output_type": "stream",
     "text": [
      "\r",
      " 30%|███       | 237/785 [01:17<02:16,  4.01it/s]"
     ]
    },
    {
     "name": "stdout",
     "output_type": "stream",
     "text": [
      "Found 3 instances in image ring_front_left_315978413558655944.jpg\n",
      "8418 keypoints deleted in total\n",
      "\n"
     ]
    },
    {
     "name": "stderr",
     "output_type": "stream",
     "text": [
      "\r",
      " 30%|███       | 238/785 [01:18<02:24,  3.80it/s]"
     ]
    },
    {
     "name": "stdout",
     "output_type": "stream",
     "text": [
      "Found 6 instances in image ring_front_left_315978413758456504.jpg\n",
      "8481 keypoints deleted in total\n",
      "\n"
     ]
    },
    {
     "name": "stderr",
     "output_type": "stream",
     "text": [
      "\r",
      " 30%|███       | 239/785 [01:18<02:25,  3.76it/s]"
     ]
    },
    {
     "name": "stdout",
     "output_type": "stream",
     "text": [
      "Found 5 instances in image ring_front_left_315978413825056448.jpg\n",
      "8526 keypoints deleted in total\n",
      "\n"
     ]
    },
    {
     "name": "stderr",
     "output_type": "stream",
     "text": [
      "\r",
      " 31%|███       | 240/785 [01:18<02:27,  3.69it/s]"
     ]
    },
    {
     "name": "stdout",
     "output_type": "stream",
     "text": [
      "Found 5 instances in image ring_front_left_315978413891656376.jpg\n",
      "8569 keypoints deleted in total\n",
      "\n"
     ]
    },
    {
     "name": "stderr",
     "output_type": "stream",
     "text": [
      "\r",
      " 31%|███       | 241/785 [01:18<02:29,  3.64it/s]"
     ]
    },
    {
     "name": "stdout",
     "output_type": "stream",
     "text": [
      "Found 5 instances in image ring_front_left_315978413924956368.jpg\n",
      "8604 keypoints deleted in total\n",
      "\n"
     ]
    },
    {
     "name": "stderr",
     "output_type": "stream",
     "text": [
      "\r",
      " 31%|███       | 242/785 [01:19<02:32,  3.57it/s]"
     ]
    },
    {
     "name": "stdout",
     "output_type": "stream",
     "text": [
      "Found 6 instances in image ring_front_left_315978413991556216.jpg\n",
      "8639 keypoints deleted in total\n",
      "\n"
     ]
    },
    {
     "name": "stderr",
     "output_type": "stream",
     "text": [
      "\r",
      " 31%|███       | 243/785 [01:19<02:26,  3.69it/s]"
     ]
    },
    {
     "name": "stdout",
     "output_type": "stream",
     "text": [
      "Found 3 instances in image ring_front_left_315978414024856128.jpg\n",
      "8660 keypoints deleted in total\n",
      "\n"
     ]
    },
    {
     "name": "stderr",
     "output_type": "stream",
     "text": [
      "\r",
      " 31%|███       | 244/785 [01:19<02:26,  3.70it/s]"
     ]
    },
    {
     "name": "stdout",
     "output_type": "stream",
     "text": [
      "Found 4 instances in image ring_front_left_315978414091456056.jpg\n",
      "8679 keypoints deleted in total\n",
      "\n"
     ]
    },
    {
     "name": "stderr",
     "output_type": "stream",
     "text": [
      "\r",
      " 31%|███       | 245/785 [01:19<02:26,  3.68it/s]"
     ]
    },
    {
     "name": "stdout",
     "output_type": "stream",
     "text": [
      "Found 5 instances in image ring_front_left_315978414357855800.jpg\n",
      "8726 keypoints deleted in total\n",
      "\n"
     ]
    },
    {
     "name": "stderr",
     "output_type": "stream",
     "text": [
      "\r",
      " 31%|███▏      | 246/785 [01:20<02:27,  3.64it/s]"
     ]
    },
    {
     "name": "stdout",
     "output_type": "stream",
     "text": [
      "Found 5 instances in image ring_front_left_315978414457755720.jpg\n",
      "8750 keypoints deleted in total\n",
      "\n"
     ]
    },
    {
     "name": "stderr",
     "output_type": "stream",
     "text": [
      "\r",
      " 31%|███▏      | 247/785 [01:20<02:36,  3.44it/s]"
     ]
    },
    {
     "name": "stdout",
     "output_type": "stream",
     "text": [
      "Found 6 instances in image ring_front_left_315978414491055736.jpg\n",
      "8761 keypoints deleted in total\n",
      "\n"
     ]
    },
    {
     "name": "stderr",
     "output_type": "stream",
     "text": [
      "\r",
      " 32%|███▏      | 248/785 [01:20<02:32,  3.51it/s]"
     ]
    },
    {
     "name": "stdout",
     "output_type": "stream",
     "text": [
      "Found 4 instances in image ring_front_left_315978414557655640.jpg\n",
      "8770 keypoints deleted in total\n",
      "\n"
     ]
    },
    {
     "name": "stderr",
     "output_type": "stream",
     "text": [
      "\r",
      " 32%|███▏      | 249/785 [01:21<02:31,  3.53it/s]"
     ]
    },
    {
     "name": "stdout",
     "output_type": "stream",
     "text": [
      "Found 4 instances in image ring_front_left_315978414657555480.jpg\n",
      "8780 keypoints deleted in total\n",
      "\n"
     ]
    },
    {
     "name": "stderr",
     "output_type": "stream",
     "text": [
      "\r",
      " 32%|███▏      | 250/785 [01:21<02:31,  3.52it/s]"
     ]
    },
    {
     "name": "stdout",
     "output_type": "stream",
     "text": [
      "Found 5 instances in image ring_front_left_315978414790755336.jpg\n",
      "8784 keypoints deleted in total\n",
      "\n"
     ]
    },
    {
     "name": "stderr",
     "output_type": "stream",
     "text": [
      "\r",
      " 32%|███▏      | 251/785 [01:21<02:35,  3.42it/s]"
     ]
    },
    {
     "name": "stdout",
     "output_type": "stream",
     "text": [
      "Found 6 instances in image ring_front_left_315978414890655256.jpg\n",
      "8875 keypoints deleted in total\n",
      "\n"
     ]
    },
    {
     "name": "stderr",
     "output_type": "stream",
     "text": [
      "\r",
      " 32%|███▏      | 252/785 [01:22<02:33,  3.46it/s]"
     ]
    },
    {
     "name": "stdout",
     "output_type": "stream",
     "text": [
      "Found 4 instances in image ring_front_left_315978415090454936.jpg\n",
      "8880 keypoints deleted in total\n",
      "\n"
     ]
    },
    {
     "name": "stderr",
     "output_type": "stream",
     "text": [
      "\r",
      " 32%|███▏      | 253/785 [01:22<02:27,  3.61it/s]"
     ]
    },
    {
     "name": "stdout",
     "output_type": "stream",
     "text": [
      "Found 3 instances in image ring_front_left_315978415123754848.jpg\n",
      "8953 keypoints deleted in total\n",
      "\n"
     ]
    },
    {
     "name": "stderr",
     "output_type": "stream",
     "text": [
      "\r",
      " 32%|███▏      | 254/785 [01:22<02:28,  3.58it/s]"
     ]
    },
    {
     "name": "stdout",
     "output_type": "stream",
     "text": [
      "Found 4 instances in image ring_front_left_315978415256954704.jpg\n",
      "8975 keypoints deleted in total\n",
      "\n",
      "Found 1 instances in image ring_front_left_315978415356854768.jpg\n",
      "8975 keypoints deleted in total\n"
     ]
    },
    {
     "name": "stderr",
     "output_type": "stream",
     "text": [
      "\r",
      " 32%|███▏      | 255/785 [01:22<02:18,  3.83it/s]"
     ]
    },
    {
     "name": "stdout",
     "output_type": "stream",
     "text": [
      "\n"
     ]
    },
    {
     "name": "stderr",
     "output_type": "stream",
     "text": [
      "\r",
      " 33%|███▎      | 256/785 [01:23<02:18,  3.82it/s]"
     ]
    },
    {
     "name": "stdout",
     "output_type": "stream",
     "text": [
      "Found 3 instances in image ring_front_left_315978415390154792.jpg\n",
      "9056 keypoints deleted in total\n",
      "\n"
     ]
    },
    {
     "name": "stderr",
     "output_type": "stream",
     "text": [
      "\r",
      " 33%|███▎      | 257/785 [01:23<02:24,  3.66it/s]"
     ]
    },
    {
     "name": "stdout",
     "output_type": "stream",
     "text": [
      "Found 5 instances in image ring_front_left_315978415523354976.jpg\n",
      "9114 keypoints deleted in total\n",
      "\n"
     ]
    },
    {
     "name": "stderr",
     "output_type": "stream",
     "text": [
      "\r",
      " 33%|███▎      | 258/785 [01:23<02:21,  3.72it/s]"
     ]
    },
    {
     "name": "stdout",
     "output_type": "stream",
     "text": [
      "Found 3 instances in image ring_front_left_315978415623255136.jpg\n",
      "9127 keypoints deleted in total\n",
      "\n"
     ]
    },
    {
     "name": "stderr",
     "output_type": "stream",
     "text": [
      "\r",
      " 33%|███▎      | 259/785 [01:23<02:32,  3.44it/s]"
     ]
    },
    {
     "name": "stdout",
     "output_type": "stream",
     "text": [
      "Found 7 instances in image ring_front_left_315978416089455832.jpg\n",
      "9210 keypoints deleted in total\n",
      "\n"
     ]
    },
    {
     "name": "stderr",
     "output_type": "stream",
     "text": [
      "\r",
      " 33%|███▎      | 260/785 [01:24<02:33,  3.42it/s]"
     ]
    },
    {
     "name": "stdout",
     "output_type": "stream",
     "text": [
      "Found 5 instances in image ring_front_left_315978416156055968.jpg\n",
      "9253 keypoints deleted in total\n",
      "\n"
     ]
    },
    {
     "name": "stderr",
     "output_type": "stream",
     "text": [
      "\r",
      " 33%|███▎      | 261/785 [01:24<02:37,  3.33it/s]"
     ]
    },
    {
     "name": "stdout",
     "output_type": "stream",
     "text": [
      "Found 6 instances in image ring_front_left_315978416222656016.jpg\n",
      "9319 keypoints deleted in total\n",
      "\n"
     ]
    },
    {
     "name": "stderr",
     "output_type": "stream",
     "text": [
      "\r",
      " 33%|███▎      | 262/785 [01:24<02:36,  3.33it/s]"
     ]
    },
    {
     "name": "stdout",
     "output_type": "stream",
     "text": [
      "Found 6 instances in image ring_front_left_315978416355856208.jpg\n",
      "9375 keypoints deleted in total\n",
      "\n"
     ]
    },
    {
     "name": "stderr",
     "output_type": "stream",
     "text": [
      "\r",
      " 34%|███▎      | 263/785 [01:25<02:47,  3.12it/s]"
     ]
    },
    {
     "name": "stdout",
     "output_type": "stream",
     "text": [
      "Found 9 instances in image ring_front_left_315978416455756368.jpg\n",
      "9437 keypoints deleted in total\n",
      "\n"
     ]
    },
    {
     "name": "stderr",
     "output_type": "stream",
     "text": [
      "\r",
      " 34%|███▎      | 264/785 [01:25<02:53,  3.01it/s]"
     ]
    },
    {
     "name": "stdout",
     "output_type": "stream",
     "text": [
      "Found 8 instances in image ring_front_left_315978416522356416.jpg\n",
      "9488 keypoints deleted in total\n",
      "\n"
     ]
    },
    {
     "name": "stderr",
     "output_type": "stream",
     "text": [
      "\r",
      " 34%|███▍      | 265/785 [01:25<02:50,  3.05it/s]"
     ]
    },
    {
     "name": "stdout",
     "output_type": "stream",
     "text": [
      "Found 6 instances in image ring_front_left_315978416555656528.jpg\n",
      "9551 keypoints deleted in total\n",
      "\n"
     ]
    },
    {
     "name": "stderr",
     "output_type": "stream",
     "text": [
      "\r",
      " 34%|███▍      | 266/785 [01:26<02:51,  3.03it/s]"
     ]
    },
    {
     "name": "stdout",
     "output_type": "stream",
     "text": [
      "Found 7 instances in image ring_front_left_315978416655556688.jpg\n",
      "9652 keypoints deleted in total\n",
      "\n"
     ]
    },
    {
     "name": "stderr",
     "output_type": "stream",
     "text": [
      "\r",
      " 34%|███▍      | 267/785 [01:26<02:51,  3.01it/s]"
     ]
    },
    {
     "name": "stdout",
     "output_type": "stream",
     "text": [
      "Found 7 instances in image ring_front_left_315978416688856712.jpg\n",
      "9700 keypoints deleted in total\n",
      "\n"
     ]
    },
    {
     "name": "stderr",
     "output_type": "stream",
     "text": [
      "\r",
      " 34%|███▍      | 268/785 [01:26<02:52,  3.00it/s]"
     ]
    },
    {
     "name": "stdout",
     "output_type": "stream",
     "text": [
      "Found 8 instances in image ring_front_left_315978416755456848.jpg\n",
      "9754 keypoints deleted in total\n",
      "\n"
     ]
    },
    {
     "name": "stderr",
     "output_type": "stream",
     "text": [
      "\r",
      " 34%|███▍      | 269/785 [01:27<02:52,  2.99it/s]"
     ]
    },
    {
     "name": "stdout",
     "output_type": "stream",
     "text": [
      "Found 7 instances in image ring_front_left_315978416788756840.jpg\n",
      "9794 keypoints deleted in total\n",
      "\n"
     ]
    },
    {
     "name": "stderr",
     "output_type": "stream",
     "text": [
      "\r",
      " 34%|███▍      | 270/785 [01:27<02:50,  3.03it/s]"
     ]
    },
    {
     "name": "stdout",
     "output_type": "stream",
     "text": [
      "Found 7 instances in image ring_front_left_315978416888656680.jpg\n",
      "9848 keypoints deleted in total\n",
      "\n"
     ]
    },
    {
     "name": "stderr",
     "output_type": "stream",
     "text": [
      "\r",
      " 35%|███▍      | 271/785 [01:27<02:45,  3.12it/s]"
     ]
    },
    {
     "name": "stdout",
     "output_type": "stream",
     "text": [
      "Found 5 instances in image ring_front_left_315978416988556520.jpg\n",
      "9899 keypoints deleted in total\n",
      "\n"
     ]
    },
    {
     "name": "stderr",
     "output_type": "stream",
     "text": [
      "\r",
      " 35%|███▍      | 272/785 [01:28<02:39,  3.23it/s]"
     ]
    },
    {
     "name": "stdout",
     "output_type": "stream",
     "text": [
      "Found 4 instances in image ring_front_left_315978417088456360.jpg\n",
      "9941 keypoints deleted in total\n",
      "\n"
     ]
    },
    {
     "name": "stderr",
     "output_type": "stream",
     "text": [
      "\r",
      " 35%|███▍      | 273/785 [01:28<02:33,  3.33it/s]"
     ]
    },
    {
     "name": "stdout",
     "output_type": "stream",
     "text": [
      "Found 4 instances in image ring_front_left_315978417221656216.jpg\n",
      "10000 keypoints deleted in total\n",
      "\n"
     ]
    },
    {
     "name": "stderr",
     "output_type": "stream",
     "text": [
      "\r",
      " 35%|███▍      | 274/785 [01:28<02:29,  3.42it/s]"
     ]
    },
    {
     "name": "stdout",
     "output_type": "stream",
     "text": [
      "Found 4 instances in image ring_front_left_315978417254956208.jpg\n",
      "10040 keypoints deleted in total\n",
      "\n"
     ]
    },
    {
     "name": "stderr",
     "output_type": "stream",
     "text": [
      "\r",
      " 35%|███▌      | 275/785 [01:29<02:30,  3.38it/s]"
     ]
    },
    {
     "name": "stdout",
     "output_type": "stream",
     "text": [
      "Found 5 instances in image ring_front_left_315978417288256120.jpg\n",
      "10077 keypoints deleted in total\n",
      "\n"
     ]
    },
    {
     "name": "stderr",
     "output_type": "stream",
     "text": [
      "\r",
      " 35%|███▌      | 276/785 [01:29<02:52,  2.94it/s]"
     ]
    },
    {
     "name": "stdout",
     "output_type": "stream",
     "text": [
      "Found 6 instances in image ring_front_left_315978417488055960.jpg\n",
      "10102 keypoints deleted in total\n",
      "\n"
     ]
    },
    {
     "name": "stderr",
     "output_type": "stream",
     "text": [
      "\r",
      " 35%|███▌      | 277/785 [01:29<02:49,  3.00it/s]"
     ]
    },
    {
     "name": "stdout",
     "output_type": "stream",
     "text": [
      "Found 6 instances in image ring_front_left_315978417587955880.jpg\n",
      "10123 keypoints deleted in total\n",
      "\n"
     ]
    },
    {
     "name": "stderr",
     "output_type": "stream",
     "text": [
      "\r",
      " 35%|███▌      | 278/785 [01:30<02:47,  3.03it/s]"
     ]
    },
    {
     "name": "stdout",
     "output_type": "stream",
     "text": [
      "Found 6 instances in image ring_front_left_315978417654555808.jpg\n",
      "10137 keypoints deleted in total\n",
      "\n"
     ]
    },
    {
     "name": "stderr",
     "output_type": "stream",
     "text": [
      "\r",
      " 36%|███▌      | 279/785 [01:30<02:44,  3.07it/s]"
     ]
    },
    {
     "name": "stdout",
     "output_type": "stream",
     "text": [
      "Found 6 instances in image ring_front_left_315978417687855720.jpg\n",
      "10145 keypoints deleted in total\n",
      "\n"
     ]
    },
    {
     "name": "stderr",
     "output_type": "stream",
     "text": [
      "\r",
      " 36%|███▌      | 280/785 [01:30<02:43,  3.10it/s]"
     ]
    },
    {
     "name": "stdout",
     "output_type": "stream",
     "text": [
      "Found 6 instances in image ring_front_left_315978417721155736.jpg\n",
      "10161 keypoints deleted in total\n",
      "\n"
     ]
    },
    {
     "name": "stderr",
     "output_type": "stream",
     "text": [
      "\r",
      " 36%|███▌      | 281/785 [01:31<02:43,  3.09it/s]"
     ]
    },
    {
     "name": "stdout",
     "output_type": "stream",
     "text": [
      "Found 7 instances in image ring_front_left_315978417787755560.jpg\n",
      "10179 keypoints deleted in total\n",
      "\n"
     ]
    },
    {
     "name": "stderr",
     "output_type": "stream",
     "text": [
      "\r",
      " 36%|███▌      | 282/785 [01:31<02:46,  3.01it/s]"
     ]
    },
    {
     "name": "stdout",
     "output_type": "stream",
     "text": [
      "Found 8 instances in image ring_front_left_315978417854355408.jpg\n",
      "10186 keypoints deleted in total\n",
      "\n"
     ]
    },
    {
     "name": "stderr",
     "output_type": "stream",
     "text": [
      "\r",
      " 36%|███▌      | 283/785 [01:31<02:45,  3.04it/s]"
     ]
    },
    {
     "name": "stdout",
     "output_type": "stream",
     "text": [
      "Found 8 instances in image ring_front_left_315978417920955336.jpg\n",
      "10202 keypoints deleted in total\n",
      "\n"
     ]
    },
    {
     "name": "stderr",
     "output_type": "stream",
     "text": [
      "\r",
      " 36%|███▌      | 284/785 [01:32<02:47,  2.99it/s]"
     ]
    },
    {
     "name": "stdout",
     "output_type": "stream",
     "text": [
      "Found 8 instances in image ring_front_left_315978417954255248.jpg\n",
      "10211 keypoints deleted in total\n",
      "\n"
     ]
    },
    {
     "name": "stderr",
     "output_type": "stream",
     "text": [
      "\r",
      " 36%|███▋      | 285/785 [01:32<02:43,  3.05it/s]"
     ]
    },
    {
     "name": "stdout",
     "output_type": "stream",
     "text": [
      "Found 6 instances in image ring_front_left_315978418020855096.jpg\n",
      "10222 keypoints deleted in total\n",
      "\n"
     ]
    },
    {
     "name": "stderr",
     "output_type": "stream",
     "text": [
      "\r",
      " 36%|███▋      | 286/785 [01:32<02:43,  3.06it/s]"
     ]
    },
    {
     "name": "stdout",
     "output_type": "stream",
     "text": [
      "Found 8 instances in image ring_front_left_315978418054155088.jpg\n",
      "10231 keypoints deleted in total\n",
      "\n"
     ]
    },
    {
     "name": "stderr",
     "output_type": "stream",
     "text": [
      "\r",
      " 37%|███▋      | 287/785 [01:33<02:47,  2.98it/s]"
     ]
    },
    {
     "name": "stdout",
     "output_type": "stream",
     "text": [
      "Found 8 instances in image ring_front_left_315978418253954688.jpg\n",
      "10243 keypoints deleted in total\n",
      "\n"
     ]
    },
    {
     "name": "stderr",
     "output_type": "stream",
     "text": [
      "\r",
      " 37%|███▋      | 288/785 [01:33<02:45,  3.00it/s]"
     ]
    },
    {
     "name": "stdout",
     "output_type": "stream",
     "text": [
      "Found 7 instances in image ring_front_left_315978418320554744.jpg\n",
      "10247 keypoints deleted in total\n",
      "\n"
     ]
    },
    {
     "name": "stderr",
     "output_type": "stream",
     "text": [
      "\r",
      " 37%|███▋      | 289/785 [01:33<02:45,  2.99it/s]"
     ]
    },
    {
     "name": "stdout",
     "output_type": "stream",
     "text": [
      "Found 8 instances in image ring_front_left_315978418886656320.jpg\n",
      "10260 keypoints deleted in total\n",
      "\n"
     ]
    },
    {
     "name": "stderr",
     "output_type": "stream",
     "text": [
      "\r",
      " 37%|███▋      | 290/785 [01:34<02:44,  3.01it/s]"
     ]
    },
    {
     "name": "stdout",
     "output_type": "stream",
     "text": [
      "Found 7 instances in image ring_front_left_315978418953256528.jpg\n",
      "10268 keypoints deleted in total\n",
      "\n"
     ]
    },
    {
     "name": "stderr",
     "output_type": "stream",
     "text": [
      "\r",
      " 37%|███▋      | 291/785 [01:34<02:43,  3.03it/s]"
     ]
    },
    {
     "name": "stdout",
     "output_type": "stream",
     "text": [
      "Found 7 instances in image ring_front_left_315978418986556560.jpg\n",
      "10276 keypoints deleted in total\n",
      "\n"
     ]
    },
    {
     "name": "stderr",
     "output_type": "stream",
     "text": [
      "\r",
      " 37%|███▋      | 292/785 [01:34<02:44,  2.99it/s]"
     ]
    },
    {
     "name": "stdout",
     "output_type": "stream",
     "text": [
      "Found 8 instances in image ring_front_left_315978419219657224.jpg\n",
      "10294 keypoints deleted in total\n",
      "\n"
     ]
    },
    {
     "name": "stderr",
     "output_type": "stream",
     "text": [
      "\r",
      " 37%|███▋      | 293/785 [01:35<02:41,  3.04it/s]"
     ]
    },
    {
     "name": "stdout",
     "output_type": "stream",
     "text": [
      "Found 7 instances in image ring_front_left_315978419286257360.jpg\n",
      "10296 keypoints deleted in total\n",
      "\n"
     ]
    },
    {
     "name": "stderr",
     "output_type": "stream",
     "text": [
      "\r",
      " 37%|███▋      | 294/785 [01:35<02:44,  2.99it/s]"
     ]
    },
    {
     "name": "stdout",
     "output_type": "stream",
     "text": [
      "Found 8 instances in image ring_front_left_315978419352857568.jpg\n",
      "10298 keypoints deleted in total\n",
      "\n"
     ]
    },
    {
     "name": "stderr",
     "output_type": "stream",
     "text": [
      "\r",
      " 38%|███▊      | 295/785 [01:35<02:42,  3.01it/s]"
     ]
    },
    {
     "name": "stdout",
     "output_type": "stream",
     "text": [
      "Found 7 instances in image ring_front_left_315978419419457784.jpg\n",
      "10302 keypoints deleted in total\n",
      "\n"
     ]
    },
    {
     "name": "stderr",
     "output_type": "stream",
     "text": [
      "\r",
      " 38%|███▊      | 296/785 [01:36<02:38,  3.09it/s]"
     ]
    },
    {
     "name": "stdout",
     "output_type": "stream",
     "text": [
      "Found 6 instances in image ring_front_left_315978419519358104.jpg\n",
      "10308 keypoints deleted in total\n",
      "\n"
     ]
    },
    {
     "name": "stderr",
     "output_type": "stream",
     "text": [
      "\r",
      " 38%|███▊      | 297/785 [01:36<02:39,  3.06it/s]"
     ]
    },
    {
     "name": "stdout",
     "output_type": "stream",
     "text": [
      "Found 9 instances in image ring_front_left_315978419752458688.jpg\n",
      "10325 keypoints deleted in total\n",
      "\n"
     ]
    },
    {
     "name": "stderr",
     "output_type": "stream",
     "text": [
      "\r",
      " 38%|███▊      | 298/785 [01:36<02:43,  2.98it/s]"
     ]
    },
    {
     "name": "stdout",
     "output_type": "stream",
     "text": [
      "Found 9 instances in image ring_front_left_315978419952258096.jpg\n",
      "10358 keypoints deleted in total\n",
      "\n"
     ]
    },
    {
     "name": "stderr",
     "output_type": "stream",
     "text": [
      "\r",
      " 38%|███▊      | 299/785 [01:37<02:46,  2.92it/s]"
     ]
    },
    {
     "name": "stdout",
     "output_type": "stream",
     "text": [
      "Found 9 instances in image ring_front_left_315978419985558016.jpg\n",
      "10368 keypoints deleted in total\n",
      "\n"
     ]
    },
    {
     "name": "stderr",
     "output_type": "stream",
     "text": [
      "\r",
      " 38%|███▊      | 300/785 [01:37<02:36,  3.11it/s]"
     ]
    },
    {
     "name": "stdout",
     "output_type": "stream",
     "text": [
      "Found 6 instances in image ring_front_left_315978420251957176.jpg\n",
      "10400 keypoints deleted in total\n",
      "\n"
     ]
    },
    {
     "name": "stderr",
     "output_type": "stream",
     "text": [
      "\r",
      " 38%|███▊      | 301/785 [01:37<02:31,  3.20it/s]"
     ]
    },
    {
     "name": "stdout",
     "output_type": "stream",
     "text": [
      "Found 7 instances in image ring_front_left_315978420318556936.jpg\n",
      "10437 keypoints deleted in total\n",
      "\n"
     ]
    },
    {
     "name": "stderr",
     "output_type": "stream",
     "text": [
      "\r",
      " 38%|███▊      | 302/785 [01:37<02:28,  3.26it/s]"
     ]
    },
    {
     "name": "stdout",
     "output_type": "stream",
     "text": [
      "Found 7 instances in image ring_front_left_315978420351856856.jpg\n",
      "10458 keypoints deleted in total\n",
      "\n"
     ]
    },
    {
     "name": "stderr",
     "output_type": "stream",
     "text": [
      "\r",
      " 39%|███▊      | 303/785 [01:38<02:22,  3.39it/s]"
     ]
    },
    {
     "name": "stdout",
     "output_type": "stream",
     "text": [
      "Found 5 instances in image ring_front_left_315978420385156736.jpg\n",
      "10474 keypoints deleted in total\n",
      "\n"
     ]
    },
    {
     "name": "stderr",
     "output_type": "stream",
     "text": [
      "\r",
      " 39%|███▊      | 304/785 [01:38<02:19,  3.44it/s]"
     ]
    },
    {
     "name": "stdout",
     "output_type": "stream",
     "text": [
      "Found 6 instances in image ring_front_left_315978420418456616.jpg\n",
      "10481 keypoints deleted in total\n",
      "\n"
     ]
    },
    {
     "name": "stderr",
     "output_type": "stream",
     "text": [
      "\r",
      " 39%|███▉      | 305/785 [01:38<02:19,  3.44it/s]"
     ]
    },
    {
     "name": "stdout",
     "output_type": "stream",
     "text": [
      "Found 7 instances in image ring_front_left_315978420651555896.jpg\n",
      "10513 keypoints deleted in total\n",
      "\n"
     ]
    },
    {
     "name": "stderr",
     "output_type": "stream",
     "text": [
      "\r",
      " 39%|███▉      | 306/785 [01:39<02:23,  3.33it/s]"
     ]
    },
    {
     "name": "stdout",
     "output_type": "stream",
     "text": [
      "Found 9 instances in image ring_front_left_315978420684855776.jpg\n",
      "10528 keypoints deleted in total\n",
      "\n"
     ]
    },
    {
     "name": "stderr",
     "output_type": "stream",
     "text": [
      "\r",
      " 39%|███▉      | 307/785 [01:39<02:25,  3.28it/s]"
     ]
    },
    {
     "name": "stdout",
     "output_type": "stream",
     "text": [
      "Found 8 instances in image ring_front_left_315978420718155656.jpg\n",
      "10543 keypoints deleted in total\n",
      "\n"
     ]
    },
    {
     "name": "stderr",
     "output_type": "stream",
     "text": [
      "\r",
      " 39%|███▉      | 308/785 [01:39<02:27,  3.24it/s]"
     ]
    },
    {
     "name": "stdout",
     "output_type": "stream",
     "text": [
      "Found 9 instances in image ring_front_left_315978420751455576.jpg\n",
      "10557 keypoints deleted in total\n",
      "\n"
     ]
    },
    {
     "name": "stderr",
     "output_type": "stream",
     "text": [
      "\r",
      " 39%|███▉      | 309/785 [01:40<02:34,  3.09it/s]"
     ]
    },
    {
     "name": "stdout",
     "output_type": "stream",
     "text": [
      "Found 9 instances in image ring_front_left_315978420784755456.jpg\n",
      "10570 keypoints deleted in total\n",
      "\n"
     ]
    },
    {
     "name": "stderr",
     "output_type": "stream",
     "text": [
      "\r",
      " 39%|███▉      | 310/785 [01:40<02:35,  3.06it/s]"
     ]
    },
    {
     "name": "stdout",
     "output_type": "stream",
     "text": [
      "Found 10 instances in image ring_front_left_315978420851355336.jpg\n",
      "10579 keypoints deleted in total\n",
      "\n"
     ]
    },
    {
     "name": "stderr",
     "output_type": "stream",
     "text": [
      "\r",
      " 40%|███▉      | 311/785 [01:40<02:32,  3.11it/s]"
     ]
    },
    {
     "name": "stdout",
     "output_type": "stream",
     "text": [
      "Found 8 instances in image ring_front_left_315978420917955096.jpg\n",
      "10590 keypoints deleted in total\n",
      "\n"
     ]
    },
    {
     "name": "stderr",
     "output_type": "stream",
     "text": [
      "\r",
      " 40%|███▉      | 312/785 [01:41<02:30,  3.14it/s]"
     ]
    },
    {
     "name": "stdout",
     "output_type": "stream",
     "text": [
      "Found 7 instances in image ring_front_left_315978421117754456.jpg\n",
      "10608 keypoints deleted in total\n",
      "\n"
     ]
    },
    {
     "name": "stderr",
     "output_type": "stream",
     "text": [
      "\r",
      " 40%|███▉      | 313/785 [01:41<02:28,  3.18it/s]"
     ]
    },
    {
     "name": "stdout",
     "output_type": "stream",
     "text": [
      "Found 7 instances in image ring_front_left_315978421184354256.jpg\n",
      "10616 keypoints deleted in total\n",
      "\n"
     ]
    },
    {
     "name": "stderr",
     "output_type": "stream",
     "text": [
      "\r",
      " 40%|████      | 314/785 [01:41<02:27,  3.18it/s]"
     ]
    },
    {
     "name": "stdout",
     "output_type": "stream",
     "text": [
      "Found 7 instances in image ring_front_left_315978421284254000.jpg\n",
      "10628 keypoints deleted in total\n",
      "\n"
     ]
    },
    {
     "name": "stderr",
     "output_type": "stream",
     "text": [
      "\r",
      " 40%|████      | 315/785 [01:41<02:19,  3.37it/s]"
     ]
    },
    {
     "name": "stdout",
     "output_type": "stream",
     "text": [
      "Found 5 instances in image ring_front_right_315978406066156720.jpg\n",
      "10684 keypoints deleted in total\n",
      "\n"
     ]
    },
    {
     "name": "stderr",
     "output_type": "stream",
     "text": [
      "\r",
      " 40%|████      | 316/785 [01:42<02:14,  3.48it/s]"
     ]
    },
    {
     "name": "stdout",
     "output_type": "stream",
     "text": [
      "Found 6 instances in image ring_front_right_315978406332556904.jpg\n",
      "10709 keypoints deleted in total\n",
      "\n"
     ]
    },
    {
     "name": "stderr",
     "output_type": "stream",
     "text": [
      "\r",
      " 40%|████      | 317/785 [01:42<02:11,  3.56it/s]"
     ]
    },
    {
     "name": "stdout",
     "output_type": "stream",
     "text": [
      "Found 5 instances in image ring_front_right_315978406399156880.jpg\n",
      "10722 keypoints deleted in total\n",
      "\n"
     ]
    },
    {
     "name": "stderr",
     "output_type": "stream",
     "text": [
      "\r",
      " 41%|████      | 318/785 [01:42<02:09,  3.60it/s]"
     ]
    },
    {
     "name": "stdout",
     "output_type": "stream",
     "text": [
      "Found 6 instances in image ring_front_right_315978406465756856.jpg\n",
      "10740 keypoints deleted in total\n",
      "\n"
     ]
    },
    {
     "name": "stderr",
     "output_type": "stream",
     "text": [
      "\r",
      " 41%|████      | 319/785 [01:42<02:07,  3.66it/s]"
     ]
    },
    {
     "name": "stdout",
     "output_type": "stream",
     "text": [
      "Found 5 instances in image ring_front_right_315978406532356824.jpg\n",
      "10752 keypoints deleted in total\n",
      "\n"
     ]
    },
    {
     "name": "stderr",
     "output_type": "stream",
     "text": [
      "\r",
      " 41%|████      | 320/785 [01:43<02:06,  3.67it/s]"
     ]
    },
    {
     "name": "stdout",
     "output_type": "stream",
     "text": [
      "Found 6 instances in image ring_front_right_315978406598956800.jpg\n",
      "10756 keypoints deleted in total\n",
      "\n"
     ]
    },
    {
     "name": "stderr",
     "output_type": "stream",
     "text": [
      "\r",
      " 41%|████      | 321/785 [01:43<02:04,  3.73it/s]"
     ]
    },
    {
     "name": "stdout",
     "output_type": "stream",
     "text": [
      "Found 5 instances in image ring_front_right_315978406832056744.jpg\n",
      "10768 keypoints deleted in total\n",
      "\n"
     ]
    },
    {
     "name": "stderr",
     "output_type": "stream",
     "text": [
      "\r",
      " 41%|████      | 322/785 [01:43<01:59,  3.87it/s]"
     ]
    },
    {
     "name": "stdout",
     "output_type": "stream",
     "text": [
      "Found 3 instances in image ring_front_right_315978406931956744.jpg\n",
      "10784 keypoints deleted in total\n",
      "\n"
     ]
    },
    {
     "name": "stderr",
     "output_type": "stream",
     "text": [
      "\r",
      " 41%|████      | 323/785 [01:44<02:00,  3.85it/s]"
     ]
    },
    {
     "name": "stdout",
     "output_type": "stream",
     "text": [
      "Found 4 instances in image ring_front_right_315978406965256696.jpg\n",
      "10790 keypoints deleted in total\n",
      "\n"
     ]
    },
    {
     "name": "stderr",
     "output_type": "stream",
     "text": [
      "\r",
      " 41%|████▏     | 324/785 [01:44<01:55,  3.98it/s]"
     ]
    },
    {
     "name": "stdout",
     "output_type": "stream",
     "text": [
      "Found 3 instances in image ring_front_right_315978407031856664.jpg\n",
      "10793 keypoints deleted in total\n",
      "\n"
     ]
    },
    {
     "name": "stderr",
     "output_type": "stream",
     "text": [
      "\r",
      " 41%|████▏     | 325/785 [01:44<01:51,  4.14it/s]"
     ]
    },
    {
     "name": "stdout",
     "output_type": "stream",
     "text": [
      "Found 2 instances in image ring_front_right_315978407198356640.jpg\n",
      "10794 keypoints deleted in total\n",
      "\n"
     ]
    },
    {
     "name": "stderr",
     "output_type": "stream",
     "text": [
      "\r",
      " 42%|████▏     | 326/785 [01:44<01:52,  4.08it/s]"
     ]
    },
    {
     "name": "stdout",
     "output_type": "stream",
     "text": [
      "Found 4 instances in image ring_front_right_315978407264956696.jpg\n",
      "10795 keypoints deleted in total\n",
      "\n"
     ]
    },
    {
     "name": "stderr",
     "output_type": "stream",
     "text": [
      "\r",
      " 42%|████▏     | 327/785 [01:44<01:50,  4.14it/s]"
     ]
    },
    {
     "name": "stdout",
     "output_type": "stream",
     "text": [
      "Found 2 instances in image ring_front_right_315978407298256640.jpg\n",
      "10796 keypoints deleted in total\n",
      "\n"
     ]
    },
    {
     "name": "stderr",
     "output_type": "stream",
     "text": [
      "\r",
      " 42%|████▏     | 328/785 [01:45<02:10,  3.51it/s]"
     ]
    },
    {
     "name": "stdout",
     "output_type": "stream",
     "text": [
      "Found 2 instances in image ring_front_right_315978407364856696.jpg\n",
      "10797 keypoints deleted in total\n",
      "\n"
     ]
    },
    {
     "name": "stderr",
     "output_type": "stream",
     "text": [
      "\r",
      " 42%|████▏     | 329/785 [01:45<02:02,  3.71it/s]"
     ]
    },
    {
     "name": "stdout",
     "output_type": "stream",
     "text": [
      "Found 2 instances in image ring_front_right_315978407398156640.jpg\n",
      "10800 keypoints deleted in total\n",
      "\n",
      "Found 2 instances in image ring_front_right_315978407431456664.jpg\n",
      "10801 keypoints deleted in total\n"
     ]
    },
    {
     "name": "stderr",
     "output_type": "stream",
     "text": [
      "\r",
      " 42%|████▏     | 330/785 [01:45<01:57,  3.86it/s]"
     ]
    },
    {
     "name": "stdout",
     "output_type": "stream",
     "text": [
      "\n"
     ]
    },
    {
     "name": "stderr",
     "output_type": "stream",
     "text": [
      "\r",
      " 42%|████▏     | 331/785 [01:46<01:55,  3.94it/s]"
     ]
    },
    {
     "name": "stdout",
     "output_type": "stream",
     "text": [
      "Found 2 instances in image ring_front_right_315978407464756616.jpg\n",
      "10802 keypoints deleted in total\n",
      "\n"
     ]
    },
    {
     "name": "stderr",
     "output_type": "stream",
     "text": [
      "\r",
      " 42%|████▏     | 332/785 [01:46<02:01,  3.74it/s]"
     ]
    },
    {
     "name": "stdout",
     "output_type": "stream",
     "text": [
      "Found 5 instances in image ring_front_right_315978407797756560.jpg\n",
      "10805 keypoints deleted in total\n",
      "\n"
     ]
    },
    {
     "name": "stderr",
     "output_type": "stream",
     "text": [
      "\r",
      " 42%|████▏     | 333/785 [01:46<02:04,  3.63it/s]"
     ]
    },
    {
     "name": "stdout",
     "output_type": "stream",
     "text": [
      "Found 5 instances in image ring_front_right_315978407897656640.jpg\n",
      "10811 keypoints deleted in total\n",
      "\n"
     ]
    },
    {
     "name": "stderr",
     "output_type": "stream",
     "text": [
      "\r",
      " 43%|████▎     | 334/785 [01:46<02:02,  3.67it/s]"
     ]
    },
    {
     "name": "stdout",
     "output_type": "stream",
     "text": [
      "Found 3 instances in image ring_front_right_315978407964256616.jpg\n",
      "10815 keypoints deleted in total\n",
      "\n"
     ]
    },
    {
     "name": "stderr",
     "output_type": "stream",
     "text": [
      "\r",
      " 43%|████▎     | 335/785 [01:47<02:04,  3.63it/s]"
     ]
    },
    {
     "name": "stdout",
     "output_type": "stream",
     "text": [
      "Found 5 instances in image ring_front_right_315978408164056616.jpg\n",
      "10824 keypoints deleted in total\n",
      "\n"
     ]
    },
    {
     "name": "stderr",
     "output_type": "stream",
     "text": [
      "\r",
      " 43%|████▎     | 336/785 [01:47<02:07,  3.53it/s]"
     ]
    },
    {
     "name": "stdout",
     "output_type": "stream",
     "text": [
      "Found 5 instances in image ring_front_right_315978408230656672.jpg\n",
      "10833 keypoints deleted in total\n",
      "\n"
     ]
    },
    {
     "name": "stderr",
     "output_type": "stream",
     "text": [
      "\r",
      " 43%|████▎     | 337/785 [01:47<02:07,  3.51it/s]"
     ]
    },
    {
     "name": "stdout",
     "output_type": "stream",
     "text": [
      "Found 5 instances in image ring_front_right_315978408330556592.jpg\n",
      "10853 keypoints deleted in total\n",
      "\n"
     ]
    },
    {
     "name": "stderr",
     "output_type": "stream",
     "text": [
      "\r",
      " 43%|████▎     | 338/785 [01:48<02:13,  3.35it/s]"
     ]
    },
    {
     "name": "stdout",
     "output_type": "stream",
     "text": [
      "Found 7 instances in image ring_front_right_315978408397156560.jpg\n",
      "10878 keypoints deleted in total\n",
      "\n"
     ]
    },
    {
     "name": "stderr",
     "output_type": "stream",
     "text": [
      "\r",
      " 43%|████▎     | 339/785 [01:48<02:18,  3.21it/s]"
     ]
    },
    {
     "name": "stdout",
     "output_type": "stream",
     "text": [
      "Found 7 instances in image ring_front_right_315978408430456512.jpg\n",
      "10892 keypoints deleted in total\n",
      "\n"
     ]
    },
    {
     "name": "stderr",
     "output_type": "stream",
     "text": [
      "\r",
      " 43%|████▎     | 340/785 [01:48<02:20,  3.18it/s]"
     ]
    },
    {
     "name": "stdout",
     "output_type": "stream",
     "text": [
      "Found 7 instances in image ring_front_right_315978408463756536.jpg\n",
      "10909 keypoints deleted in total\n",
      "\n"
     ]
    },
    {
     "name": "stderr",
     "output_type": "stream",
     "text": [
      "\r",
      " 43%|████▎     | 341/785 [01:49<02:15,  3.28it/s]"
     ]
    },
    {
     "name": "stdout",
     "output_type": "stream",
     "text": [
      "Found 5 instances in image ring_front_right_315978408630256432.jpg\n",
      "10932 keypoints deleted in total\n",
      "\n"
     ]
    },
    {
     "name": "stderr",
     "output_type": "stream",
     "text": [
      "\r",
      " 44%|████▎     | 342/785 [01:49<02:13,  3.31it/s]"
     ]
    },
    {
     "name": "stdout",
     "output_type": "stream",
     "text": [
      "Found 6 instances in image ring_front_right_315978408663556456.jpg\n",
      "10959 keypoints deleted in total\n",
      "\n"
     ]
    },
    {
     "name": "stderr",
     "output_type": "stream",
     "text": [
      "\r",
      " 44%|████▎     | 343/785 [01:49<02:13,  3.31it/s]"
     ]
    },
    {
     "name": "stdout",
     "output_type": "stream",
     "text": [
      "Found 5 instances in image ring_front_right_315978408730156432.jpg\n",
      "10995 keypoints deleted in total\n",
      "\n"
     ]
    },
    {
     "name": "stderr",
     "output_type": "stream",
     "text": [
      "\r",
      " 44%|████▍     | 344/785 [01:49<02:09,  3.41it/s]"
     ]
    },
    {
     "name": "stdout",
     "output_type": "stream",
     "text": [
      "Found 4 instances in image ring_front_right_315978408763456376.jpg\n",
      "11019 keypoints deleted in total\n",
      "\n"
     ]
    },
    {
     "name": "stderr",
     "output_type": "stream",
     "text": [
      "\r",
      " 44%|████▍     | 345/785 [01:50<02:08,  3.43it/s]"
     ]
    },
    {
     "name": "stdout",
     "output_type": "stream",
     "text": [
      "Found 5 instances in image ring_front_right_315978408796756400.jpg\n",
      "11043 keypoints deleted in total\n",
      "\n"
     ]
    },
    {
     "name": "stderr",
     "output_type": "stream",
     "text": [
      "\r",
      " 44%|████▍     | 346/785 [01:50<02:04,  3.53it/s]"
     ]
    },
    {
     "name": "stdout",
     "output_type": "stream",
     "text": [
      "Found 4 instances in image ring_front_right_315978408896656320.jpg\n",
      "11110 keypoints deleted in total\n",
      "\n"
     ]
    },
    {
     "name": "stderr",
     "output_type": "stream",
     "text": [
      "\r",
      " 44%|████▍     | 347/785 [01:50<01:58,  3.69it/s]"
     ]
    },
    {
     "name": "stdout",
     "output_type": "stream",
     "text": [
      "Found 3 instances in image ring_front_right_315978408963256376.jpg\n",
      "11149 keypoints deleted in total\n",
      "\n"
     ]
    },
    {
     "name": "stderr",
     "output_type": "stream",
     "text": [
      "\r",
      " 44%|████▍     | 348/785 [01:50<01:54,  3.80it/s]"
     ]
    },
    {
     "name": "stdout",
     "output_type": "stream",
     "text": [
      "Found 5 instances in image ring_front_right_315978409063156376.jpg\n",
      "11215 keypoints deleted in total\n",
      "\n"
     ]
    },
    {
     "name": "stderr",
     "output_type": "stream",
     "text": [
      "\r",
      " 44%|████▍     | 349/785 [01:51<01:56,  3.75it/s]"
     ]
    },
    {
     "name": "stdout",
     "output_type": "stream",
     "text": [
      "Found 8 instances in image ring_front_right_315978409129756432.jpg\n",
      "11274 keypoints deleted in total\n",
      "\n"
     ]
    },
    {
     "name": "stderr",
     "output_type": "stream",
     "text": [
      "\r",
      " 45%|████▍     | 350/785 [01:51<01:58,  3.66it/s]"
     ]
    },
    {
     "name": "stdout",
     "output_type": "stream",
     "text": [
      "Found 9 instances in image ring_front_right_315978409163056456.jpg\n",
      "11334 keypoints deleted in total\n",
      "\n"
     ]
    },
    {
     "name": "stderr",
     "output_type": "stream",
     "text": [
      "\r",
      " 45%|████▍     | 351/785 [01:51<01:59,  3.63it/s]"
     ]
    },
    {
     "name": "stdout",
     "output_type": "stream",
     "text": [
      "Found 9 instances in image ring_front_right_315978409196356480.jpg\n",
      "11376 keypoints deleted in total\n",
      "\n"
     ]
    },
    {
     "name": "stderr",
     "output_type": "stream",
     "text": [
      "\r",
      " 45%|████▍     | 352/785 [01:52<01:59,  3.61it/s]"
     ]
    },
    {
     "name": "stdout",
     "output_type": "stream",
     "text": [
      "Found 8 instances in image ring_front_right_315978409229656432.jpg\n",
      "11405 keypoints deleted in total\n",
      "\n"
     ]
    },
    {
     "name": "stderr",
     "output_type": "stream",
     "text": [
      "\r",
      " 45%|████▍     | 353/785 [01:52<02:00,  3.59it/s]"
     ]
    },
    {
     "name": "stdout",
     "output_type": "stream",
     "text": [
      "Found 8 instances in image ring_front_right_315978409296256480.jpg\n",
      "11432 keypoints deleted in total\n",
      "\n"
     ]
    },
    {
     "name": "stderr",
     "output_type": "stream",
     "text": [
      "\r",
      " 45%|████▌     | 354/785 [01:52<02:02,  3.51it/s]"
     ]
    },
    {
     "name": "stdout",
     "output_type": "stream",
     "text": [
      "Found 10 instances in image ring_front_right_315978409429456432.jpg\n",
      "11445 keypoints deleted in total\n",
      "\n"
     ]
    },
    {
     "name": "stderr",
     "output_type": "stream",
     "text": [
      "\r",
      " 45%|████▌     | 355/785 [01:52<02:04,  3.45it/s]"
     ]
    },
    {
     "name": "stdout",
     "output_type": "stream",
     "text": [
      "Found 10 instances in image ring_front_right_315978409462756456.jpg\n",
      "11455 keypoints deleted in total\n",
      "\n"
     ]
    },
    {
     "name": "stderr",
     "output_type": "stream",
     "text": [
      "\r",
      " 45%|████▌     | 356/785 [01:53<02:06,  3.39it/s]"
     ]
    },
    {
     "name": "stdout",
     "output_type": "stream",
     "text": [
      "Found 10 instances in image ring_front_right_315978409496056400.jpg\n",
      "11458 keypoints deleted in total\n",
      "\n"
     ]
    },
    {
     "name": "stderr",
     "output_type": "stream",
     "text": [
      "\r",
      " 45%|████▌     | 357/785 [01:53<02:06,  3.39it/s]"
     ]
    },
    {
     "name": "stdout",
     "output_type": "stream",
     "text": [
      "Found 9 instances in image ring_front_right_315978409595956488.jpg\n",
      "11462 keypoints deleted in total\n",
      "\n"
     ]
    },
    {
     "name": "stderr",
     "output_type": "stream",
     "text": [
      "\r",
      " 46%|████▌     | 358/785 [01:53<02:05,  3.40it/s]"
     ]
    },
    {
     "name": "stdout",
     "output_type": "stream",
     "text": [
      "Found 8 instances in image ring_front_right_315978409862356616.jpg\n",
      "11479 keypoints deleted in total\n",
      "\n"
     ]
    },
    {
     "name": "stderr",
     "output_type": "stream",
     "text": [
      "\r",
      " 46%|████▌     | 359/785 [01:54<02:03,  3.45it/s]"
     ]
    },
    {
     "name": "stdout",
     "output_type": "stream",
     "text": [
      "Found 7 instances in image ring_front_right_315978409895656648.jpg\n",
      "11489 keypoints deleted in total\n",
      "\n"
     ]
    },
    {
     "name": "stderr",
     "output_type": "stream",
     "text": [
      "\r",
      " 46%|████▌     | 360/785 [01:54<01:59,  3.57it/s]"
     ]
    },
    {
     "name": "stdout",
     "output_type": "stream",
     "text": [
      "Found 6 instances in image ring_front_right_315978409928956672.jpg\n",
      "11505 keypoints deleted in total\n",
      "\n"
     ]
    },
    {
     "name": "stderr",
     "output_type": "stream",
     "text": [
      "\r",
      " 46%|████▌     | 361/785 [01:54<01:57,  3.60it/s]"
     ]
    },
    {
     "name": "stdout",
     "output_type": "stream",
     "text": [
      "Found 7 instances in image ring_front_right_315978410062156776.jpg\n",
      "11530 keypoints deleted in total\n",
      "\n"
     ]
    },
    {
     "name": "stderr",
     "output_type": "stream",
     "text": [
      "\r",
      " 46%|████▌     | 362/785 [01:54<01:58,  3.57it/s]"
     ]
    },
    {
     "name": "stdout",
     "output_type": "stream",
     "text": [
      "Found 8 instances in image ring_front_right_315978410228656912.jpg\n",
      "11551 keypoints deleted in total\n",
      "\n"
     ]
    },
    {
     "name": "stderr",
     "output_type": "stream",
     "text": [
      "\r",
      " 46%|████▌     | 363/785 [01:55<01:58,  3.56it/s]"
     ]
    },
    {
     "name": "stdout",
     "output_type": "stream",
     "text": [
      "Found 8 instances in image ring_front_right_315978410261956936.jpg\n",
      "11564 keypoints deleted in total\n",
      "\n"
     ]
    },
    {
     "name": "stderr",
     "output_type": "stream",
     "text": [
      "\r",
      " 46%|████▋     | 364/785 [01:55<01:57,  3.57it/s]"
     ]
    },
    {
     "name": "stdout",
     "output_type": "stream",
     "text": [
      "Found 7 instances in image ring_front_right_315978410295256968.jpg\n",
      "11579 keypoints deleted in total\n",
      "\n"
     ]
    },
    {
     "name": "stderr",
     "output_type": "stream",
     "text": [
      "\r",
      " 46%|████▋     | 365/785 [01:55<01:56,  3.60it/s]"
     ]
    },
    {
     "name": "stdout",
     "output_type": "stream",
     "text": [
      "Found 7 instances in image ring_front_right_315978410328556992.jpg\n",
      "11598 keypoints deleted in total\n",
      "\n"
     ]
    },
    {
     "name": "stderr",
     "output_type": "stream",
     "text": [
      "\r",
      " 47%|████▋     | 366/785 [01:56<02:00,  3.49it/s]"
     ]
    },
    {
     "name": "stdout",
     "output_type": "stream",
     "text": [
      "Found 8 instances in image ring_front_right_315978410428456992.jpg\n",
      "11628 keypoints deleted in total\n",
      "\n"
     ]
    },
    {
     "name": "stderr",
     "output_type": "stream",
     "text": [
      "\r",
      " 47%|████▋     | 367/785 [01:56<02:01,  3.43it/s]"
     ]
    },
    {
     "name": "stdout",
     "output_type": "stream",
     "text": [
      "Found 7 instances in image ring_front_right_315978410628257072.jpg\n",
      "11672 keypoints deleted in total\n",
      "\n"
     ]
    },
    {
     "name": "stderr",
     "output_type": "stream",
     "text": [
      "\r",
      " 47%|████▋     | 368/785 [01:56<02:01,  3.43it/s]"
     ]
    },
    {
     "name": "stdout",
     "output_type": "stream",
     "text": [
      "Found 7 instances in image ring_front_right_315978410661557096.jpg\n",
      "11703 keypoints deleted in total\n",
      "\n"
     ]
    },
    {
     "name": "stderr",
     "output_type": "stream",
     "text": [
      "\r",
      " 47%|████▋     | 369/785 [01:56<02:02,  3.39it/s]"
     ]
    },
    {
     "name": "stdout",
     "output_type": "stream",
     "text": [
      "Found 8 instances in image ring_front_right_315978410828057016.jpg\n",
      "11754 keypoints deleted in total\n",
      "\n"
     ]
    },
    {
     "name": "stderr",
     "output_type": "stream",
     "text": [
      "\r",
      " 47%|████▋     | 370/785 [01:57<02:01,  3.41it/s]"
     ]
    },
    {
     "name": "stdout",
     "output_type": "stream",
     "text": [
      "Found 8 instances in image ring_front_right_315978410894656888.jpg\n",
      "11776 keypoints deleted in total\n",
      "\n"
     ]
    },
    {
     "name": "stderr",
     "output_type": "stream",
     "text": [
      "\r",
      " 47%|████▋     | 371/785 [01:57<01:57,  3.51it/s]"
     ]
    },
    {
     "name": "stdout",
     "output_type": "stream",
     "text": [
      "Found 7 instances in image ring_front_right_315978411161056344.jpg\n",
      "11863 keypoints deleted in total\n",
      "\n"
     ]
    },
    {
     "name": "stderr",
     "output_type": "stream",
     "text": [
      "\r",
      " 47%|████▋     | 372/785 [01:57<01:57,  3.53it/s]"
     ]
    },
    {
     "name": "stdout",
     "output_type": "stream",
     "text": [
      "Found 8 instances in image ring_front_right_315978411294256088.jpg\n",
      "11993 keypoints deleted in total\n",
      "\n"
     ]
    },
    {
     "name": "stderr",
     "output_type": "stream",
     "text": [
      "\r",
      " 48%|████▊     | 373/785 [01:58<01:54,  3.60it/s]"
     ]
    },
    {
     "name": "stdout",
     "output_type": "stream",
     "text": [
      "Found 7 instances in image ring_front_right_315978411327555976.jpg\n",
      "12032 keypoints deleted in total\n",
      "\n"
     ]
    },
    {
     "name": "stderr",
     "output_type": "stream",
     "text": [
      "\r",
      " 48%|████▊     | 374/785 [01:58<01:52,  3.64it/s]"
     ]
    },
    {
     "name": "stdout",
     "output_type": "stream",
     "text": [
      "Found 7 instances in image ring_front_right_315978411360855960.jpg\n",
      "12058 keypoints deleted in total\n",
      "\n"
     ]
    },
    {
     "name": "stderr",
     "output_type": "stream",
     "text": [
      "\r",
      " 48%|████▊     | 375/785 [01:58<01:49,  3.76it/s]"
     ]
    },
    {
     "name": "stdout",
     "output_type": "stream",
     "text": [
      "Found 5 instances in image ring_front_right_315978411527355656.jpg\n",
      "12093 keypoints deleted in total\n",
      "\n"
     ]
    },
    {
     "name": "stderr",
     "output_type": "stream",
     "text": [
      "\r",
      " 48%|████▊     | 376/785 [01:58<01:48,  3.77it/s]"
     ]
    },
    {
     "name": "stdout",
     "output_type": "stream",
     "text": [
      "Found 6 instances in image ring_front_right_315978411627255416.jpg\n",
      "12122 keypoints deleted in total\n",
      "\n"
     ]
    },
    {
     "name": "stderr",
     "output_type": "stream",
     "text": [
      "\r",
      " 48%|████▊     | 377/785 [01:59<01:46,  3.82it/s]"
     ]
    },
    {
     "name": "stdout",
     "output_type": "stream",
     "text": [
      "Found 5 instances in image ring_front_right_315978411793755128.jpg\n",
      "12159 keypoints deleted in total\n",
      "\n"
     ]
    },
    {
     "name": "stderr",
     "output_type": "stream",
     "text": [
      "\r",
      " 48%|████▊     | 378/785 [01:59<01:44,  3.90it/s]"
     ]
    },
    {
     "name": "stdout",
     "output_type": "stream",
     "text": [
      "Found 4 instances in image ring_front_right_315978411860354920.jpg\n",
      "12187 keypoints deleted in total\n",
      "\n"
     ]
    },
    {
     "name": "stderr",
     "output_type": "stream",
     "text": [
      "\r",
      " 48%|████▊     | 379/785 [01:59<01:44,  3.88it/s]"
     ]
    },
    {
     "name": "stdout",
     "output_type": "stream",
     "text": [
      "Found 5 instances in image ring_front_right_315978411993554648.jpg\n",
      "12237 keypoints deleted in total\n",
      "\n"
     ]
    },
    {
     "name": "stderr",
     "output_type": "stream",
     "text": [
      "\r",
      " 48%|████▊     | 380/785 [01:59<01:43,  3.90it/s]"
     ]
    },
    {
     "name": "stdout",
     "output_type": "stream",
     "text": [
      "Found 5 instances in image ring_front_right_315978412060154520.jpg\n",
      "12284 keypoints deleted in total\n",
      "\n"
     ]
    },
    {
     "name": "stderr",
     "output_type": "stream",
     "text": [
      "\r",
      " 49%|████▊     | 381/785 [02:00<01:59,  3.38it/s]"
     ]
    },
    {
     "name": "stdout",
     "output_type": "stream",
     "text": [
      "Found 6 instances in image ring_front_right_315978412093454488.jpg\n",
      "12313 keypoints deleted in total\n",
      "\n"
     ]
    },
    {
     "name": "stderr",
     "output_type": "stream",
     "text": [
      "\r",
      " 49%|████▊     | 382/785 [02:00<01:52,  3.58it/s]"
     ]
    },
    {
     "name": "stdout",
     "output_type": "stream",
     "text": [
      "Found 5 instances in image ring_front_right_315978412259954120.jpg\n",
      "12373 keypoints deleted in total\n",
      "\n"
     ]
    },
    {
     "name": "stderr",
     "output_type": "stream",
     "text": [
      "\r",
      " 49%|████▉     | 383/785 [02:00<01:49,  3.68it/s]"
     ]
    },
    {
     "name": "stdout",
     "output_type": "stream",
     "text": [
      "Found 5 instances in image ring_front_right_315978412326554104.jpg\n",
      "12411 keypoints deleted in total\n",
      "\n"
     ]
    },
    {
     "name": "stderr",
     "output_type": "stream",
     "text": [
      "\r",
      " 49%|████▉     | 384/785 [02:01<01:47,  3.73it/s]"
     ]
    },
    {
     "name": "stdout",
     "output_type": "stream",
     "text": [
      "Found 5 instances in image ring_front_right_315978412426454264.jpg\n",
      "12459 keypoints deleted in total\n",
      "\n"
     ]
    },
    {
     "name": "stderr",
     "output_type": "stream",
     "text": [
      "\r",
      " 49%|████▉     | 385/785 [02:01<01:42,  3.90it/s]"
     ]
    },
    {
     "name": "stdout",
     "output_type": "stream",
     "text": [
      "Found 3 instances in image ring_front_right_315978412493054344.jpg\n",
      "12482 keypoints deleted in total\n",
      "\n"
     ]
    },
    {
     "name": "stderr",
     "output_type": "stream",
     "text": [
      "\r",
      " 49%|████▉     | 386/785 [02:01<01:41,  3.95it/s]"
     ]
    },
    {
     "name": "stdout",
     "output_type": "stream",
     "text": [
      "Found 4 instances in image ring_front_right_315978412559654504.jpg\n",
      "12488 keypoints deleted in total\n",
      "\n"
     ]
    },
    {
     "name": "stderr",
     "output_type": "stream",
     "text": [
      "\r",
      " 49%|████▉     | 387/785 [02:01<01:37,  4.09it/s]"
     ]
    },
    {
     "name": "stdout",
     "output_type": "stream",
     "text": [
      "Found 2 instances in image ring_front_right_315978412859354904.jpg\n",
      "12505 keypoints deleted in total\n",
      "\n"
     ]
    },
    {
     "name": "stderr",
     "output_type": "stream",
     "text": [
      "\r",
      " 49%|████▉     | 388/785 [02:01<01:35,  4.17it/s]"
     ]
    },
    {
     "name": "stdout",
     "output_type": "stream",
     "text": [
      "Found 2 instances in image ring_front_right_315978413025855144.jpg\n",
      "12518 keypoints deleted in total\n",
      "\n"
     ]
    },
    {
     "name": "stderr",
     "output_type": "stream",
     "text": [
      "\r",
      " 50%|████▉     | 389/785 [02:02<01:35,  4.16it/s]"
     ]
    },
    {
     "name": "stdout",
     "output_type": "stream",
     "text": [
      "Found 3 instances in image ring_front_right_315978413258955544.jpg\n",
      "12575 keypoints deleted in total\n",
      "\n"
     ]
    },
    {
     "name": "stderr",
     "output_type": "stream",
     "text": [
      "\r",
      " 50%|████▉     | 390/785 [02:02<01:35,  4.14it/s]"
     ]
    },
    {
     "name": "stdout",
     "output_type": "stream",
     "text": [
      "Found 3 instances in image ring_front_right_315978413292255544.jpg\n",
      "12604 keypoints deleted in total\n",
      "\n"
     ]
    },
    {
     "name": "stderr",
     "output_type": "stream",
     "text": [
      "\r",
      " 50%|████▉     | 391/785 [02:02<01:35,  4.13it/s]"
     ]
    },
    {
     "name": "stdout",
     "output_type": "stream",
     "text": [
      "Found 2 instances in image ring_front_right_315978413425455704.jpg\n",
      "12656 keypoints deleted in total\n",
      "\n"
     ]
    },
    {
     "name": "stderr",
     "output_type": "stream",
     "text": [
      "\r",
      " 50%|████▉     | 392/785 [02:02<01:33,  4.20it/s]"
     ]
    },
    {
     "name": "stdout",
     "output_type": "stream",
     "text": [
      "Found 2 instances in image ring_front_right_315978413492055784.jpg\n",
      "12678 keypoints deleted in total\n",
      "\n"
     ]
    },
    {
     "name": "stderr",
     "output_type": "stream",
     "text": [
      "\r",
      " 50%|█████     | 393/785 [02:03<01:33,  4.21it/s]"
     ]
    },
    {
     "name": "stdout",
     "output_type": "stream",
     "text": [
      "Found 2 instances in image ring_front_right_315978413758456184.jpg\n",
      "12782 keypoints deleted in total\n",
      "\n"
     ]
    },
    {
     "name": "stderr",
     "output_type": "stream",
     "text": [
      "\r",
      " 50%|█████     | 394/785 [02:03<01:40,  3.88it/s]"
     ]
    },
    {
     "name": "stdout",
     "output_type": "stream",
     "text": [
      "Found 4 instances in image ring_front_right_315978413825056208.jpg\n",
      "12844 keypoints deleted in total\n",
      "\n"
     ]
    },
    {
     "name": "stderr",
     "output_type": "stream",
     "text": [
      "\r",
      " 50%|█████     | 395/785 [02:03<01:43,  3.75it/s]"
     ]
    },
    {
     "name": "stdout",
     "output_type": "stream",
     "text": [
      "Found 3 instances in image ring_front_right_315978413858356232.jpg\n",
      "12875 keypoints deleted in total\n",
      "\n"
     ]
    },
    {
     "name": "stderr",
     "output_type": "stream",
     "text": [
      "\r",
      " 50%|█████     | 396/785 [02:03<01:43,  3.78it/s]"
     ]
    },
    {
     "name": "stdout",
     "output_type": "stream",
     "text": [
      "Found 3 instances in image ring_front_right_315978413924956208.jpg\n",
      "12909 keypoints deleted in total\n",
      "\n"
     ]
    },
    {
     "name": "stderr",
     "output_type": "stream",
     "text": [
      "\r",
      " 51%|█████     | 397/785 [02:04<01:42,  3.79it/s]"
     ]
    },
    {
     "name": "stdout",
     "output_type": "stream",
     "text": [
      "Found 3 instances in image ring_front_right_315978413958256152.jpg\n",
      "12939 keypoints deleted in total\n",
      "\n"
     ]
    },
    {
     "name": "stderr",
     "output_type": "stream",
     "text": [
      "\r",
      " 51%|█████     | 398/785 [02:04<01:42,  3.79it/s]"
     ]
    },
    {
     "name": "stdout",
     "output_type": "stream",
     "text": [
      "Found 3 instances in image ring_front_right_315978413991556176.jpg\n",
      "12950 keypoints deleted in total\n",
      "\n"
     ]
    },
    {
     "name": "stderr",
     "output_type": "stream",
     "text": [
      "\r",
      " 51%|█████     | 399/785 [02:04<01:40,  3.85it/s]"
     ]
    },
    {
     "name": "stdout",
     "output_type": "stream",
     "text": [
      "Found 3 instances in image ring_front_right_315978414058156152.jpg\n",
      "12965 keypoints deleted in total\n",
      "\n"
     ]
    },
    {
     "name": "stderr",
     "output_type": "stream",
     "text": [
      "\r",
      " 51%|█████     | 400/785 [02:05<01:40,  3.84it/s]"
     ]
    },
    {
     "name": "stdout",
     "output_type": "stream",
     "text": [
      "Found 2 instances in image ring_front_right_315978414357855992.jpg\n",
      "13012 keypoints deleted in total\n",
      "\n",
      "Found 2 instances in image ring_front_right_315978414424455968.jpg\n",
      "13035 keypoints deleted in total\n"
     ]
    },
    {
     "name": "stderr",
     "output_type": "stream",
     "text": [
      "\r",
      " 51%|█████     | 401/785 [02:05<01:39,  3.85it/s]"
     ]
    },
    {
     "name": "stdout",
     "output_type": "stream",
     "text": [
      "\n"
     ]
    },
    {
     "name": "stderr",
     "output_type": "stream",
     "text": [
      "\r",
      " 51%|█████     | 402/785 [02:05<01:38,  3.90it/s]"
     ]
    },
    {
     "name": "stdout",
     "output_type": "stream",
     "text": [
      "Found 3 instances in image ring_front_right_315978414624255888.jpg\n",
      "13097 keypoints deleted in total\n",
      "\n"
     ]
    },
    {
     "name": "stderr",
     "output_type": "stream",
     "text": [
      "\r",
      " 51%|█████▏    | 403/785 [02:05<01:36,  3.97it/s]"
     ]
    },
    {
     "name": "stdout",
     "output_type": "stream",
     "text": [
      "Found 3 instances in image ring_front_right_315978414657555832.jpg\n",
      "13120 keypoints deleted in total\n",
      "\n"
     ]
    },
    {
     "name": "stderr",
     "output_type": "stream",
     "text": [
      "\r",
      " 51%|█████▏    | 404/785 [02:06<01:36,  3.95it/s]"
     ]
    },
    {
     "name": "stdout",
     "output_type": "stream",
     "text": [
      "Found 4 instances in image ring_front_right_315978414857355752.jpg\n",
      "13137 keypoints deleted in total\n",
      "\n"
     ]
    },
    {
     "name": "stderr",
     "output_type": "stream",
     "text": [
      "\r",
      " 52%|█████▏    | 405/785 [02:06<01:36,  3.96it/s]"
     ]
    },
    {
     "name": "stdout",
     "output_type": "stream",
     "text": [
      "Found 4 instances in image ring_front_right_315978415123755568.jpg\n",
      "13156 keypoints deleted in total\n",
      "\n"
     ]
    },
    {
     "name": "stderr",
     "output_type": "stream",
     "text": [
      "\r",
      " 52%|█████▏    | 406/785 [02:06<01:35,  3.96it/s]"
     ]
    },
    {
     "name": "stdout",
     "output_type": "stream",
     "text": [
      "Found 3 instances in image ring_front_right_315978415256955512.jpg\n",
      "13161 keypoints deleted in total\n",
      "\n"
     ]
    },
    {
     "name": "stderr",
     "output_type": "stream",
     "text": [
      "\r",
      " 52%|█████▏    | 407/785 [02:06<01:35,  3.95it/s]"
     ]
    },
    {
     "name": "stdout",
     "output_type": "stream",
     "text": [
      "Found 4 instances in image ring_front_right_315978415523355488.jpg\n",
      "13168 keypoints deleted in total\n",
      "\n"
     ]
    },
    {
     "name": "stderr",
     "output_type": "stream",
     "text": [
      "\r",
      " 52%|█████▏    | 408/785 [02:07<01:33,  4.01it/s]"
     ]
    },
    {
     "name": "stdout",
     "output_type": "stream",
     "text": [
      "Found 3 instances in image ring_front_right_315978415589955464.jpg\n",
      "13175 keypoints deleted in total\n",
      "\n"
     ]
    },
    {
     "name": "stderr",
     "output_type": "stream",
     "text": [
      "\r",
      " 52%|█████▏    | 409/785 [02:07<01:35,  3.94it/s]"
     ]
    },
    {
     "name": "stdout",
     "output_type": "stream",
     "text": [
      "Found 4 instances in image ring_front_right_315978415989555304.jpg\n",
      "13191 keypoints deleted in total\n",
      "\n"
     ]
    },
    {
     "name": "stderr",
     "output_type": "stream",
     "text": [
      "\r",
      " 52%|█████▏    | 410/785 [02:07<01:36,  3.90it/s]"
     ]
    },
    {
     "name": "stdout",
     "output_type": "stream",
     "text": [
      "Found 4 instances in image ring_front_right_315978416056155272.jpg\n",
      "13200 keypoints deleted in total\n",
      "\n"
     ]
    },
    {
     "name": "stderr",
     "output_type": "stream",
     "text": [
      "\r",
      " 52%|█████▏    | 411/785 [02:07<01:36,  3.87it/s]"
     ]
    },
    {
     "name": "stdout",
     "output_type": "stream",
     "text": [
      "Found 4 instances in image ring_front_right_315978416089455224.jpg\n",
      "13206 keypoints deleted in total\n",
      "\n"
     ]
    },
    {
     "name": "stderr",
     "output_type": "stream",
     "text": [
      "\r",
      " 52%|█████▏    | 412/785 [02:08<01:36,  3.86it/s]"
     ]
    },
    {
     "name": "stdout",
     "output_type": "stream",
     "text": [
      "Found 4 instances in image ring_front_right_315978416156055192.jpg\n",
      "13212 keypoints deleted in total\n",
      "\n"
     ]
    },
    {
     "name": "stderr",
     "output_type": "stream",
     "text": [
      "\r",
      " 53%|█████▎    | 413/785 [02:08<01:37,  3.81it/s]"
     ]
    },
    {
     "name": "stdout",
     "output_type": "stream",
     "text": [
      "Found 4 instances in image ring_front_right_315978416289255144.jpg\n",
      "13220 keypoints deleted in total\n",
      "\n"
     ]
    },
    {
     "name": "stderr",
     "output_type": "stream",
     "text": [
      "\r",
      " 53%|█████▎    | 414/785 [02:08<01:37,  3.81it/s]"
     ]
    },
    {
     "name": "stdout",
     "output_type": "stream",
     "text": [
      "Found 4 instances in image ring_front_right_315978416322555168.jpg\n",
      "13223 keypoints deleted in total\n",
      "\n"
     ]
    },
    {
     "name": "stderr",
     "output_type": "stream",
     "text": [
      "\r",
      " 53%|█████▎    | 415/785 [02:08<01:37,  3.81it/s]"
     ]
    },
    {
     "name": "stdout",
     "output_type": "stream",
     "text": [
      "Found 4 instances in image ring_front_right_315978416389155144.jpg\n",
      "13234 keypoints deleted in total\n",
      "\n"
     ]
    },
    {
     "name": "stderr",
     "output_type": "stream",
     "text": [
      "\r",
      " 53%|█████▎    | 416/785 [02:09<01:40,  3.66it/s]"
     ]
    },
    {
     "name": "stdout",
     "output_type": "stream",
     "text": [
      "Found 6 instances in image ring_front_right_315978416522355088.jpg\n",
      "13248 keypoints deleted in total\n",
      "\n"
     ]
    },
    {
     "name": "stderr",
     "output_type": "stream",
     "text": [
      "\r",
      " 53%|█████▎    | 417/785 [02:09<01:43,  3.57it/s]"
     ]
    },
    {
     "name": "stdout",
     "output_type": "stream",
     "text": [
      "Found 6 instances in image ring_front_right_315978416655555040.jpg\n",
      "13270 keypoints deleted in total\n",
      "\n"
     ]
    },
    {
     "name": "stderr",
     "output_type": "stream",
     "text": [
      "\r",
      " 53%|█████▎    | 418/785 [02:09<01:42,  3.60it/s]"
     ]
    },
    {
     "name": "stdout",
     "output_type": "stream",
     "text": [
      "Found 5 instances in image ring_front_right_315978416722155008.jpg\n",
      "13281 keypoints deleted in total\n",
      "\n"
     ]
    },
    {
     "name": "stderr",
     "output_type": "stream",
     "text": [
      "\r",
      " 53%|█████▎    | 419/785 [02:10<01:41,  3.61it/s]"
     ]
    },
    {
     "name": "stdout",
     "output_type": "stream",
     "text": [
      "Found 5 instances in image ring_front_right_315978416822054992.jpg\n",
      "13300 keypoints deleted in total\n",
      "\n"
     ]
    },
    {
     "name": "stderr",
     "output_type": "stream",
     "text": [
      "\r",
      " 54%|█████▎    | 420/785 [02:10<01:49,  3.34it/s]"
     ]
    },
    {
     "name": "stdout",
     "output_type": "stream",
     "text": [
      "Found 6 instances in image ring_front_right_315978416921955152.jpg\n",
      "13314 keypoints deleted in total\n",
      "\n"
     ]
    },
    {
     "name": "stderr",
     "output_type": "stream",
     "text": [
      "\r",
      " 54%|█████▎    | 421/785 [02:10<01:48,  3.37it/s]"
     ]
    },
    {
     "name": "stdout",
     "output_type": "stream",
     "text": [
      "Found 6 instances in image ring_front_right_315978416955255152.jpg\n",
      "13320 keypoints deleted in total\n",
      "\n"
     ]
    },
    {
     "name": "stderr",
     "output_type": "stream",
     "text": [
      "\r",
      " 54%|█████▍    | 422/785 [02:10<01:45,  3.45it/s]"
     ]
    },
    {
     "name": "stdout",
     "output_type": "stream",
     "text": [
      "Found 5 instances in image ring_front_right_315978416988555232.jpg\n",
      "13330 keypoints deleted in total\n",
      "\n"
     ]
    },
    {
     "name": "stderr",
     "output_type": "stream",
     "text": [
      "\r",
      " 54%|█████▍    | 423/785 [02:11<01:48,  3.32it/s]"
     ]
    },
    {
     "name": "stdout",
     "output_type": "stream",
     "text": [
      "Found 7 instances in image ring_front_right_315978417021855232.jpg\n",
      "13341 keypoints deleted in total\n",
      "\n"
     ]
    },
    {
     "name": "stderr",
     "output_type": "stream",
     "text": [
      "\r",
      " 54%|█████▍    | 424/785 [02:11<01:49,  3.31it/s]"
     ]
    },
    {
     "name": "stdout",
     "output_type": "stream",
     "text": [
      "Found 6 instances in image ring_front_right_315978417088455312.jpg\n",
      "13354 keypoints deleted in total\n",
      "\n"
     ]
    },
    {
     "name": "stderr",
     "output_type": "stream",
     "text": [
      "\r",
      " 54%|█████▍    | 425/785 [02:11<01:50,  3.25it/s]"
     ]
    },
    {
     "name": "stdout",
     "output_type": "stream",
     "text": [
      "Found 7 instances in image ring_front_right_315978417221655472.jpg\n",
      "13380 keypoints deleted in total\n",
      "\n"
     ]
    },
    {
     "name": "stderr",
     "output_type": "stream",
     "text": [
      "\r",
      " 54%|█████▍    | 426/785 [02:12<01:49,  3.27it/s]"
     ]
    },
    {
     "name": "stdout",
     "output_type": "stream",
     "text": [
      "Found 7 instances in image ring_front_right_315978417354855632.jpg\n",
      "13411 keypoints deleted in total\n",
      "\n"
     ]
    },
    {
     "name": "stderr",
     "output_type": "stream",
     "text": [
      "\r",
      " 54%|█████▍    | 427/785 [02:12<01:49,  3.27it/s]"
     ]
    },
    {
     "name": "stdout",
     "output_type": "stream",
     "text": [
      "Found 8 instances in image ring_front_right_315978417454755712.jpg\n",
      "13481 keypoints deleted in total\n",
      "\n"
     ]
    },
    {
     "name": "stderr",
     "output_type": "stream",
     "text": [
      "\r",
      " 55%|█████▍    | 428/785 [02:12<01:49,  3.26it/s]"
     ]
    },
    {
     "name": "stdout",
     "output_type": "stream",
     "text": [
      "Found 7 instances in image ring_front_right_315978417488055712.jpg\n",
      "13494 keypoints deleted in total\n",
      "\n"
     ]
    },
    {
     "name": "stderr",
     "output_type": "stream",
     "text": [
      "\r",
      " 55%|█████▍    | 429/785 [02:13<01:50,  3.23it/s]"
     ]
    },
    {
     "name": "stdout",
     "output_type": "stream",
     "text": [
      "Found 8 instances in image ring_front_right_315978417654555952.jpg\n",
      "13540 keypoints deleted in total\n",
      "\n"
     ]
    },
    {
     "name": "stderr",
     "output_type": "stream",
     "text": [
      "\r",
      " 55%|█████▍    | 430/785 [02:13<01:51,  3.19it/s]"
     ]
    },
    {
     "name": "stdout",
     "output_type": "stream",
     "text": [
      "Found 8 instances in image ring_front_right_315978417687855952.jpg\n",
      "13561 keypoints deleted in total\n",
      "\n"
     ]
    },
    {
     "name": "stderr",
     "output_type": "stream",
     "text": [
      "\r",
      " 55%|█████▍    | 431/785 [02:13<01:49,  3.24it/s]"
     ]
    },
    {
     "name": "stdout",
     "output_type": "stream",
     "text": [
      "Found 7 instances in image ring_front_right_315978417754456032.jpg\n",
      "13578 keypoints deleted in total\n",
      "\n"
     ]
    },
    {
     "name": "stderr",
     "output_type": "stream",
     "text": [
      "\r",
      " 55%|█████▌    | 432/785 [02:14<01:49,  3.23it/s]"
     ]
    },
    {
     "name": "stdout",
     "output_type": "stream",
     "text": [
      "Found 8 instances in image ring_front_right_315978417821056112.jpg\n",
      "13599 keypoints deleted in total\n",
      "\n"
     ]
    },
    {
     "name": "stderr",
     "output_type": "stream",
     "text": [
      "\r",
      " 55%|█████▌    | 433/785 [02:14<01:51,  3.17it/s]"
     ]
    },
    {
     "name": "stdout",
     "output_type": "stream",
     "text": [
      "Found 9 instances in image ring_front_right_315978417887656192.jpg\n",
      "13627 keypoints deleted in total\n",
      "\n"
     ]
    },
    {
     "name": "stderr",
     "output_type": "stream",
     "text": [
      "\r",
      " 55%|█████▌    | 434/785 [02:14<01:50,  3.19it/s]"
     ]
    },
    {
     "name": "stdout",
     "output_type": "stream",
     "text": [
      "Found 8 instances in image ring_front_right_315978417920956272.jpg\n",
      "13637 keypoints deleted in total\n",
      "\n"
     ]
    },
    {
     "name": "stderr",
     "output_type": "stream",
     "text": [
      "\r",
      " 55%|█████▌    | 435/785 [02:14<01:48,  3.22it/s]"
     ]
    },
    {
     "name": "stdout",
     "output_type": "stream",
     "text": [
      "Found 7 instances in image ring_front_right_315978418054156432.jpg\n",
      "13655 keypoints deleted in total\n",
      "\n"
     ]
    },
    {
     "name": "stderr",
     "output_type": "stream",
     "text": [
      "\r",
      " 56%|█████▌    | 436/785 [02:15<01:47,  3.26it/s]"
     ]
    },
    {
     "name": "stdout",
     "output_type": "stream",
     "text": [
      "Found 6 instances in image ring_front_right_315978418087456432.jpg\n",
      "13669 keypoints deleted in total\n",
      "\n"
     ]
    },
    {
     "name": "stderr",
     "output_type": "stream",
     "text": [
      "\r",
      " 56%|█████▌    | 437/785 [02:15<01:45,  3.30it/s]"
     ]
    },
    {
     "name": "stdout",
     "output_type": "stream",
     "text": [
      "Found 6 instances in image ring_front_right_315978418154056512.jpg\n",
      "13690 keypoints deleted in total\n",
      "\n"
     ]
    },
    {
     "name": "stderr",
     "output_type": "stream",
     "text": [
      "\r",
      " 56%|█████▌    | 438/785 [02:15<01:45,  3.30it/s]"
     ]
    },
    {
     "name": "stdout",
     "output_type": "stream",
     "text": [
      "Found 7 instances in image ring_front_right_315978418187356512.jpg\n",
      "13700 keypoints deleted in total\n",
      "\n"
     ]
    },
    {
     "name": "stderr",
     "output_type": "stream",
     "text": [
      "\r",
      " 56%|█████▌    | 439/785 [02:16<01:44,  3.30it/s]"
     ]
    },
    {
     "name": "stdout",
     "output_type": "stream",
     "text": [
      "Found 7 instances in image ring_front_right_315978418220656592.jpg\n",
      "13710 keypoints deleted in total\n",
      "\n"
     ]
    },
    {
     "name": "stderr",
     "output_type": "stream",
     "text": [
      "\r",
      " 56%|█████▌    | 440/785 [02:16<01:46,  3.24it/s]"
     ]
    },
    {
     "name": "stdout",
     "output_type": "stream",
     "text": [
      "Found 7 instances in image ring_front_right_315978418320556608.jpg\n",
      "13728 keypoints deleted in total\n",
      "\n"
     ]
    },
    {
     "name": "stderr",
     "output_type": "stream",
     "text": [
      "\r",
      " 56%|█████▌    | 441/785 [02:16<01:46,  3.24it/s]"
     ]
    },
    {
     "name": "stdout",
     "output_type": "stream",
     "text": [
      "Found 7 instances in image ring_front_right_315978418353856632.jpg\n",
      "13739 keypoints deleted in total\n",
      "\n"
     ]
    },
    {
     "name": "stderr",
     "output_type": "stream",
     "text": [
      "\r",
      " 56%|█████▋    | 442/785 [02:17<01:44,  3.29it/s]"
     ]
    },
    {
     "name": "stdout",
     "output_type": "stream",
     "text": [
      "Found 6 instances in image ring_front_right_315978418586956496.jpg\n",
      "13775 keypoints deleted in total\n",
      "\n"
     ]
    },
    {
     "name": "stderr",
     "output_type": "stream",
     "text": [
      "\r",
      " 56%|█████▋    | 443/785 [02:17<01:43,  3.31it/s]"
     ]
    },
    {
     "name": "stdout",
     "output_type": "stream",
     "text": [
      "Found 6 instances in image ring_front_right_315978418686856416.jpg\n",
      "13809 keypoints deleted in total\n",
      "\n"
     ]
    },
    {
     "name": "stderr",
     "output_type": "stream",
     "text": [
      "\r",
      " 57%|█████▋    | 444/785 [02:17<01:42,  3.34it/s]"
     ]
    },
    {
     "name": "stdout",
     "output_type": "stream",
     "text": [
      "Found 6 instances in image ring_front_right_315978418720156448.jpg\n",
      "13835 keypoints deleted in total\n",
      "\n"
     ]
    },
    {
     "name": "stderr",
     "output_type": "stream",
     "text": [
      "\r",
      " 57%|█████▋    | 445/785 [02:18<01:43,  3.29it/s]"
     ]
    },
    {
     "name": "stdout",
     "output_type": "stream",
     "text": [
      "Found 7 instances in image ring_front_right_315978418853356392.jpg\n",
      "13848 keypoints deleted in total\n",
      "\n"
     ]
    },
    {
     "name": "stderr",
     "output_type": "stream",
     "text": [
      "\r",
      " 57%|█████▋    | 446/785 [02:18<01:47,  3.15it/s]"
     ]
    },
    {
     "name": "stdout",
     "output_type": "stream",
     "text": [
      "Found 8 instances in image ring_front_right_315978418919956368.jpg\n",
      "13856 keypoints deleted in total\n",
      "\n"
     ]
    },
    {
     "name": "stderr",
     "output_type": "stream",
     "text": [
      "\r",
      " 57%|█████▋    | 447/785 [02:18<02:03,  2.74it/s]"
     ]
    },
    {
     "name": "stdout",
     "output_type": "stream",
     "text": [
      "Found 8 instances in image ring_front_right_315978418986556336.jpg\n",
      "13860 keypoints deleted in total\n",
      "\n"
     ]
    },
    {
     "name": "stderr",
     "output_type": "stream",
     "text": [
      "\r",
      " 57%|█████▋    | 448/785 [02:19<01:56,  2.89it/s]"
     ]
    },
    {
     "name": "stdout",
     "output_type": "stream",
     "text": [
      "Found 8 instances in image ring_front_right_315978419019856288.jpg\n",
      "13864 keypoints deleted in total\n",
      "\n"
     ]
    },
    {
     "name": "stderr",
     "output_type": "stream",
     "text": [
      "\r",
      " 57%|█████▋    | 449/785 [02:19<01:54,  2.93it/s]"
     ]
    },
    {
     "name": "stdout",
     "output_type": "stream",
     "text": [
      "Found 9 instances in image ring_front_right_315978419119756288.jpg\n",
      "13875 keypoints deleted in total\n",
      "\n"
     ]
    },
    {
     "name": "stderr",
     "output_type": "stream",
     "text": [
      "\r",
      " 57%|█████▋    | 450/785 [02:19<01:52,  2.97it/s]"
     ]
    },
    {
     "name": "stdout",
     "output_type": "stream",
     "text": [
      "Found 9 instances in image ring_front_right_315978419153056232.jpg\n",
      "13881 keypoints deleted in total\n",
      "\n"
     ]
    },
    {
     "name": "stderr",
     "output_type": "stream",
     "text": [
      "\r",
      " 57%|█████▋    | 451/785 [02:20<01:49,  3.06it/s]"
     ]
    },
    {
     "name": "stdout",
     "output_type": "stream",
     "text": [
      "Found 7 instances in image ring_front_right_315978419286256176.jpg\n",
      "13888 keypoints deleted in total\n",
      "\n"
     ]
    },
    {
     "name": "stderr",
     "output_type": "stream",
     "text": [
      "\r",
      " 58%|█████▊    | 452/785 [02:20<01:47,  3.10it/s]"
     ]
    },
    {
     "name": "stdout",
     "output_type": "stream",
     "text": [
      "Found 7 instances in image ring_front_right_315978419319556208.jpg\n",
      "13894 keypoints deleted in total\n",
      "\n"
     ]
    },
    {
     "name": "stderr",
     "output_type": "stream",
     "text": [
      "\r",
      " 58%|█████▊    | 453/785 [02:20<01:44,  3.17it/s]"
     ]
    },
    {
     "name": "stdout",
     "output_type": "stream",
     "text": [
      "Found 7 instances in image ring_front_right_315978419352856152.jpg\n",
      "13901 keypoints deleted in total\n",
      "\n"
     ]
    },
    {
     "name": "stderr",
     "output_type": "stream",
     "text": [
      "\r",
      " 58%|█████▊    | 454/785 [02:21<01:43,  3.20it/s]"
     ]
    },
    {
     "name": "stdout",
     "output_type": "stream",
     "text": [
      "Found 7 instances in image ring_front_right_315978419386156176.jpg\n",
      "13910 keypoints deleted in total\n",
      "\n"
     ]
    },
    {
     "name": "stderr",
     "output_type": "stream",
     "text": [
      "\r",
      " 58%|█████▊    | 455/785 [02:21<01:43,  3.19it/s]"
     ]
    },
    {
     "name": "stdout",
     "output_type": "stream",
     "text": [
      "Found 8 instances in image ring_front_right_315978419552656072.jpg\n",
      "13929 keypoints deleted in total\n",
      "\n"
     ]
    },
    {
     "name": "stderr",
     "output_type": "stream",
     "text": [
      "\r",
      " 58%|█████▊    | 456/785 [02:21<01:45,  3.12it/s]"
     ]
    },
    {
     "name": "stdout",
     "output_type": "stream",
     "text": [
      "Found 9 instances in image ring_front_right_315978419585956104.jpg\n",
      "13944 keypoints deleted in total\n",
      "\n"
     ]
    },
    {
     "name": "stderr",
     "output_type": "stream",
     "text": [
      "\r",
      " 58%|█████▊    | 457/785 [02:21<01:42,  3.21it/s]"
     ]
    },
    {
     "name": "stdout",
     "output_type": "stream",
     "text": [
      "Found 7 instances in image ring_front_right_315978419685856104.jpg\n",
      "13949 keypoints deleted in total\n",
      "\n"
     ]
    },
    {
     "name": "stderr",
     "output_type": "stream",
     "text": [
      "\r",
      " 58%|█████▊    | 458/785 [02:22<01:40,  3.25it/s]"
     ]
    },
    {
     "name": "stdout",
     "output_type": "stream",
     "text": [
      "Found 7 instances in image ring_front_right_315978419719156048.jpg\n",
      "13957 keypoints deleted in total\n",
      "\n"
     ]
    },
    {
     "name": "stderr",
     "output_type": "stream",
     "text": [
      "\r",
      " 58%|█████▊    | 459/785 [02:22<01:39,  3.26it/s]"
     ]
    },
    {
     "name": "stdout",
     "output_type": "stream",
     "text": [
      "Found 7 instances in image ring_front_right_315978419785756024.jpg\n",
      "13965 keypoints deleted in total\n",
      "\n"
     ]
    },
    {
     "name": "stderr",
     "output_type": "stream",
     "text": [
      "\r",
      " 59%|█████▊    | 460/785 [02:22<01:37,  3.33it/s]"
     ]
    },
    {
     "name": "stdout",
     "output_type": "stream",
     "text": [
      "Found 6 instances in image ring_front_right_315978420251955832.jpg\n",
      "13978 keypoints deleted in total\n",
      "\n"
     ]
    },
    {
     "name": "stderr",
     "output_type": "stream",
     "text": [
      "\r",
      " 59%|█████▊    | 461/785 [02:23<01:37,  3.31it/s]"
     ]
    },
    {
     "name": "stdout",
     "output_type": "stream",
     "text": [
      "Found 7 instances in image ring_front_right_315978420351855832.jpg\n",
      "13993 keypoints deleted in total\n",
      "\n"
     ]
    },
    {
     "name": "stderr",
     "output_type": "stream",
     "text": [
      "\r",
      " 59%|█████▉    | 462/785 [02:23<01:40,  3.21it/s]"
     ]
    },
    {
     "name": "stdout",
     "output_type": "stream",
     "text": [
      "Found 8 instances in image ring_front_right_315978420418455728.jpg\n",
      "14003 keypoints deleted in total\n",
      "\n"
     ]
    },
    {
     "name": "stderr",
     "output_type": "stream",
     "text": [
      "\r",
      " 59%|█████▉    | 463/785 [02:23<01:40,  3.20it/s]"
     ]
    },
    {
     "name": "stdout",
     "output_type": "stream",
     "text": [
      "Found 8 instances in image ring_front_right_315978420451755752.jpg\n",
      "14014 keypoints deleted in total\n",
      "\n"
     ]
    },
    {
     "name": "stderr",
     "output_type": "stream",
     "text": [
      "\r",
      " 59%|█████▉    | 464/785 [02:24<01:39,  3.24it/s]"
     ]
    },
    {
     "name": "stdout",
     "output_type": "stream",
     "text": [
      "Found 7 instances in image ring_front_right_315978420618255648.jpg\n",
      "14024 keypoints deleted in total\n",
      "\n"
     ]
    },
    {
     "name": "stderr",
     "output_type": "stream",
     "text": [
      "\r",
      " 59%|█████▉    | 465/785 [02:24<01:38,  3.25it/s]"
     ]
    },
    {
     "name": "stdout",
     "output_type": "stream",
     "text": [
      "Found 7 instances in image ring_front_right_315978420651555672.jpg\n",
      "14042 keypoints deleted in total\n",
      "\n"
     ]
    },
    {
     "name": "stderr",
     "output_type": "stream",
     "text": [
      "\r",
      " 59%|█████▉    | 466/785 [02:24<01:37,  3.27it/s]"
     ]
    },
    {
     "name": "stdout",
     "output_type": "stream",
     "text": [
      "Found 7 instances in image ring_front_right_315978420751455592.jpg\n",
      "14051 keypoints deleted in total\n",
      "\n"
     ]
    },
    {
     "name": "stderr",
     "output_type": "stream",
     "text": [
      "\r",
      " 59%|█████▉    | 467/785 [02:25<01:39,  3.20it/s]"
     ]
    },
    {
     "name": "stdout",
     "output_type": "stream",
     "text": [
      "Found 9 instances in image ring_front_right_315978421184355624.jpg\n",
      "14074 keypoints deleted in total\n",
      "\n"
     ]
    },
    {
     "name": "stderr",
     "output_type": "stream",
     "text": [
      "\r",
      " 60%|█████▉    | 468/785 [02:25<01:40,  3.15it/s]"
     ]
    },
    {
     "name": "stdout",
     "output_type": "stream",
     "text": [
      "Found 9 instances in image ring_front_right_315978421384155704.jpg\n",
      "14100 keypoints deleted in total\n",
      "\n"
     ]
    },
    {
     "name": "stderr",
     "output_type": "stream",
     "text": [
      "\r",
      " 60%|█████▉    | 469/785 [02:25<01:40,  3.13it/s]"
     ]
    },
    {
     "name": "stdout",
     "output_type": "stream",
     "text": [
      "Found 9 instances in image ring_front_right_315978421417455728.jpg\n",
      "14117 keypoints deleted in total\n",
      "\n"
     ]
    },
    {
     "name": "stderr",
     "output_type": "stream",
     "text": [
      "\r",
      " 60%|█████▉    | 470/785 [02:26<01:41,  3.11it/s]"
     ]
    },
    {
     "name": "stdout",
     "output_type": "stream",
     "text": [
      "Found 9 instances in image ring_front_right_315978421550655680.jpg\n",
      "14125 keypoints deleted in total\n",
      "\n"
     ]
    },
    {
     "name": "stderr",
     "output_type": "stream",
     "text": [
      "\r",
      " 60%|██████    | 471/785 [02:26<01:39,  3.16it/s]"
     ]
    },
    {
     "name": "stdout",
     "output_type": "stream",
     "text": [
      "Found 8 instances in image ring_front_right_315978421617255648.jpg\n",
      "14129 keypoints deleted in total\n",
      "\n"
     ]
    },
    {
     "name": "stderr",
     "output_type": "stream",
     "text": [
      "\r",
      " 60%|██████    | 472/785 [02:26<01:36,  3.24it/s]"
     ]
    },
    {
     "name": "stdout",
     "output_type": "stream",
     "text": [
      "Found 8 instances in image ring_rear_left_315978406132758072.jpg\n",
      "14190 keypoints deleted in total\n",
      "\n"
     ]
    },
    {
     "name": "stderr",
     "output_type": "stream",
     "text": [
      "\r",
      " 60%|██████    | 473/785 [02:26<01:38,  3.17it/s]"
     ]
    },
    {
     "name": "stdout",
     "output_type": "stream",
     "text": [
      "Found 10 instances in image ring_rear_left_315978406332558568.jpg\n",
      "14206 keypoints deleted in total\n",
      "\n"
     ]
    },
    {
     "name": "stderr",
     "output_type": "stream",
     "text": [
      "\r",
      " 60%|██████    | 474/785 [02:27<01:38,  3.14it/s]"
     ]
    },
    {
     "name": "stdout",
     "output_type": "stream",
     "text": [
      "Found 9 instances in image ring_rear_left_315978406365858400.jpg\n",
      "14213 keypoints deleted in total\n",
      "\n"
     ]
    },
    {
     "name": "stderr",
     "output_type": "stream",
     "text": [
      "\r",
      " 61%|██████    | 475/785 [02:27<01:38,  3.14it/s]"
     ]
    },
    {
     "name": "stdout",
     "output_type": "stream",
     "text": [
      "Found 10 instances in image ring_rear_left_315978406399158336.jpg\n",
      "14218 keypoints deleted in total\n",
      "\n"
     ]
    },
    {
     "name": "stderr",
     "output_type": "stream",
     "text": [
      "\r",
      " 61%|██████    | 476/785 [02:27<01:39,  3.11it/s]"
     ]
    },
    {
     "name": "stdout",
     "output_type": "stream",
     "text": [
      "Found 7 instances in image ring_rear_left_315978406465758160.jpg\n",
      "14218 keypoints deleted in total\n",
      "\n"
     ]
    },
    {
     "name": "stderr",
     "output_type": "stream",
     "text": [
      "\r",
      " 61%|██████    | 477/785 [02:28<01:39,  3.08it/s]"
     ]
    },
    {
     "name": "stdout",
     "output_type": "stream",
     "text": [
      "Found 7 instances in image ring_rear_left_315978406532357928.jpg\n",
      "14221 keypoints deleted in total\n",
      "\n"
     ]
    },
    {
     "name": "stderr",
     "output_type": "stream",
     "text": [
      "\r",
      " 61%|██████    | 478/785 [02:28<01:36,  3.19it/s]"
     ]
    },
    {
     "name": "stdout",
     "output_type": "stream",
     "text": [
      "Found 7 instances in image ring_rear_left_315978406665557624.jpg\n",
      "14228 keypoints deleted in total\n",
      "\n"
     ]
    },
    {
     "name": "stderr",
     "output_type": "stream",
     "text": [
      "\r",
      " 61%|██████    | 479/785 [02:28<01:37,  3.13it/s]"
     ]
    },
    {
     "name": "stdout",
     "output_type": "stream",
     "text": [
      "Found 8 instances in image ring_rear_left_315978407131756408.jpg\n",
      "14236 keypoints deleted in total\n",
      "\n"
     ]
    },
    {
     "name": "stderr",
     "output_type": "stream",
     "text": [
      "\r",
      " 61%|██████    | 480/785 [02:29<01:41,  3.01it/s]"
     ]
    },
    {
     "name": "stdout",
     "output_type": "stream",
     "text": [
      "Found 8 instances in image ring_rear_left_315978407165056424.jpg\n",
      "14239 keypoints deleted in total\n",
      "\n"
     ]
    },
    {
     "name": "stderr",
     "output_type": "stream",
     "text": [
      "\r",
      " 61%|██████▏   | 481/785 [02:29<01:41,  2.99it/s]"
     ]
    },
    {
     "name": "stdout",
     "output_type": "stream",
     "text": [
      "Found 8 instances in image ring_rear_left_315978407298256096.jpg\n",
      "14242 keypoints deleted in total\n",
      "\n"
     ]
    },
    {
     "name": "stderr",
     "output_type": "stream",
     "text": [
      "\r",
      " 61%|██████▏   | 482/785 [02:29<01:39,  3.03it/s]"
     ]
    },
    {
     "name": "stdout",
     "output_type": "stream",
     "text": [
      "Found 8 instances in image ring_rear_left_315978407331556008.jpg\n",
      "14242 keypoints deleted in total\n",
      "\n"
     ]
    },
    {
     "name": "stderr",
     "output_type": "stream",
     "text": [
      "\r",
      " 62%|██████▏   | 483/785 [02:30<01:39,  3.02it/s]"
     ]
    },
    {
     "name": "stdout",
     "output_type": "stream",
     "text": [
      "Found 8 instances in image ring_rear_left_315978407498055536.jpg\n",
      "14249 keypoints deleted in total\n",
      "\n"
     ]
    },
    {
     "name": "stderr",
     "output_type": "stream",
     "text": [
      "\r",
      " 62%|██████▏   | 484/785 [02:30<01:39,  3.02it/s]"
     ]
    },
    {
     "name": "stdout",
     "output_type": "stream",
     "text": [
      "Found 8 instances in image ring_rear_left_315978407564655384.jpg\n",
      "14265 keypoints deleted in total\n",
      "\n"
     ]
    },
    {
     "name": "stderr",
     "output_type": "stream",
     "text": [
      "\r",
      " 62%|██████▏   | 485/785 [02:30<01:37,  3.07it/s]"
     ]
    },
    {
     "name": "stdout",
     "output_type": "stream",
     "text": [
      "Found 8 instances in image ring_rear_left_315978407631255128.jpg\n",
      "14284 keypoints deleted in total\n",
      "\n"
     ]
    },
    {
     "name": "stderr",
     "output_type": "stream",
     "text": [
      "\r",
      " 62%|██████▏   | 486/785 [02:31<01:36,  3.10it/s]"
     ]
    },
    {
     "name": "stdout",
     "output_type": "stream",
     "text": [
      "Found 8 instances in image ring_rear_left_315978407697854976.jpg\n",
      "14325 keypoints deleted in total\n",
      "\n"
     ]
    },
    {
     "name": "stderr",
     "output_type": "stream",
     "text": [
      "\r",
      " 62%|██████▏   | 487/785 [02:31<01:34,  3.16it/s]"
     ]
    },
    {
     "name": "stdout",
     "output_type": "stream",
     "text": [
      "Found 7 instances in image ring_rear_left_315978407731154888.jpg\n",
      "14348 keypoints deleted in total\n",
      "\n"
     ]
    },
    {
     "name": "stderr",
     "output_type": "stream",
     "text": [
      "\r",
      " 62%|██████▏   | 488/785 [02:31<01:31,  3.26it/s]"
     ]
    },
    {
     "name": "stdout",
     "output_type": "stream",
     "text": [
      "Found 7 instances in image ring_rear_left_315978407764454824.jpg\n",
      "14359 keypoints deleted in total\n",
      "\n"
     ]
    },
    {
     "name": "stderr",
     "output_type": "stream",
     "text": [
      "\r",
      " 62%|██████▏   | 489/785 [02:32<01:31,  3.25it/s]"
     ]
    },
    {
     "name": "stdout",
     "output_type": "stream",
     "text": [
      "Found 7 instances in image ring_rear_left_315978407864354712.jpg\n",
      "14402 keypoints deleted in total\n",
      "\n"
     ]
    },
    {
     "name": "stderr",
     "output_type": "stream",
     "text": [
      "\r",
      " 62%|██████▏   | 490/785 [02:32<01:28,  3.32it/s]"
     ]
    },
    {
     "name": "stdout",
     "output_type": "stream",
     "text": [
      "Found 6 instances in image ring_rear_left_315978407897654736.jpg\n",
      "14416 keypoints deleted in total\n",
      "\n"
     ]
    },
    {
     "name": "stderr",
     "output_type": "stream",
     "text": [
      "\r",
      " 63%|██████▎   | 491/785 [02:32<01:30,  3.24it/s]"
     ]
    },
    {
     "name": "stdout",
     "output_type": "stream",
     "text": [
      "Found 9 instances in image ring_rear_left_315978407997554816.jpg\n",
      "14454 keypoints deleted in total\n",
      "\n"
     ]
    },
    {
     "name": "stderr",
     "output_type": "stream",
     "text": [
      "\r",
      " 63%|██████▎   | 492/785 [02:33<01:30,  3.25it/s]"
     ]
    },
    {
     "name": "stdout",
     "output_type": "stream",
     "text": [
      "Found 8 instances in image ring_rear_left_315978408030854920.jpg\n",
      "14474 keypoints deleted in total\n",
      "\n"
     ]
    },
    {
     "name": "stderr",
     "output_type": "stream",
     "text": [
      "\r",
      " 63%|██████▎   | 493/785 [02:33<01:29,  3.27it/s]"
     ]
    },
    {
     "name": "stdout",
     "output_type": "stream",
     "text": [
      "Found 8 instances in image ring_rear_left_315978408097454976.jpg\n",
      "14493 keypoints deleted in total\n",
      "\n"
     ]
    },
    {
     "name": "stderr",
     "output_type": "stream",
     "text": [
      "\r",
      " 63%|██████▎   | 494/785 [02:33<01:28,  3.31it/s]"
     ]
    },
    {
     "name": "stdout",
     "output_type": "stream",
     "text": [
      "Found 8 instances in image ring_rear_left_315978408130754920.jpg\n",
      "14502 keypoints deleted in total\n",
      "\n"
     ]
    },
    {
     "name": "stderr",
     "output_type": "stream",
     "text": [
      "\r",
      " 63%|██████▎   | 495/785 [02:33<01:26,  3.35it/s]"
     ]
    },
    {
     "name": "stdout",
     "output_type": "stream",
     "text": [
      "Found 8 instances in image ring_rear_left_315978408164054952.jpg\n",
      "14507 keypoints deleted in total\n",
      "\n"
     ]
    },
    {
     "name": "stderr",
     "output_type": "stream",
     "text": [
      "\r",
      " 63%|██████▎   | 496/785 [02:34<01:35,  3.04it/s]"
     ]
    },
    {
     "name": "stdout",
     "output_type": "stream",
     "text": [
      "Found 8 instances in image ring_rear_left_315978408197354976.jpg\n",
      "14514 keypoints deleted in total\n",
      "\n"
     ]
    },
    {
     "name": "stderr",
     "output_type": "stream",
     "text": [
      "\r",
      " 63%|██████▎   | 497/785 [02:34<01:27,  3.27it/s]"
     ]
    },
    {
     "name": "stdout",
     "output_type": "stream",
     "text": [
      "Found 7 instances in image ring_rear_left_315978408563655432.jpg\n",
      "14532 keypoints deleted in total\n",
      "\n"
     ]
    },
    {
     "name": "stderr",
     "output_type": "stream",
     "text": [
      "\r",
      " 63%|██████▎   | 498/785 [02:34<01:23,  3.45it/s]"
     ]
    },
    {
     "name": "stdout",
     "output_type": "stream",
     "text": [
      "Found 6 instances in image ring_rear_left_315978408696855456.jpg\n",
      "14565 keypoints deleted in total\n",
      "\n"
     ]
    },
    {
     "name": "stderr",
     "output_type": "stream",
     "text": [
      "\r",
      " 64%|██████▎   | 499/785 [02:35<01:20,  3.54it/s]"
     ]
    },
    {
     "name": "stdout",
     "output_type": "stream",
     "text": [
      "Found 7 instances in image ring_rear_left_315978408730155488.jpg\n",
      "14584 keypoints deleted in total\n",
      "\n"
     ]
    },
    {
     "name": "stderr",
     "output_type": "stream",
     "text": [
      "\r",
      " 64%|██████▎   | 500/785 [02:35<01:16,  3.70it/s]"
     ]
    },
    {
     "name": "stdout",
     "output_type": "stream",
     "text": [
      "Found 5 instances in image ring_rear_left_315978408796755536.jpg\n",
      "14602 keypoints deleted in total\n",
      "\n"
     ]
    },
    {
     "name": "stderr",
     "output_type": "stream",
     "text": [
      "\r",
      " 64%|██████▍   | 501/785 [02:35<01:16,  3.72it/s]"
     ]
    },
    {
     "name": "stdout",
     "output_type": "stream",
     "text": [
      "Found 7 instances in image ring_rear_left_315978408863355592.jpg\n",
      "14633 keypoints deleted in total\n",
      "\n"
     ]
    },
    {
     "name": "stderr",
     "output_type": "stream",
     "text": [
      "\r",
      " 64%|██████▍   | 502/785 [02:35<01:15,  3.76it/s]"
     ]
    },
    {
     "name": "stdout",
     "output_type": "stream",
     "text": [
      "Found 7 instances in image ring_rear_left_315978409029855808.jpg\n",
      "14682 keypoints deleted in total\n",
      "\n"
     ]
    },
    {
     "name": "stderr",
     "output_type": "stream",
     "text": [
      "\r",
      " 64%|██████▍   | 503/785 [02:36<01:13,  3.84it/s]"
     ]
    },
    {
     "name": "stdout",
     "output_type": "stream",
     "text": [
      "Found 7 instances in image ring_rear_left_315978409063155832.jpg\n",
      "14698 keypoints deleted in total\n",
      "\n"
     ]
    },
    {
     "name": "stderr",
     "output_type": "stream",
     "text": [
      "\r",
      " 64%|██████▍   | 504/785 [02:36<01:12,  3.88it/s]"
     ]
    },
    {
     "name": "stdout",
     "output_type": "stream",
     "text": [
      "Found 7 instances in image ring_rear_left_315978409096455856.jpg\n",
      "14724 keypoints deleted in total\n",
      "\n"
     ]
    },
    {
     "name": "stderr",
     "output_type": "stream",
     "text": [
      "\r",
      " 64%|██████▍   | 505/785 [02:36<01:12,  3.87it/s]"
     ]
    },
    {
     "name": "stdout",
     "output_type": "stream",
     "text": [
      "Found 8 instances in image ring_rear_left_315978409129755888.jpg\n",
      "14736 keypoints deleted in total\n",
      "\n"
     ]
    },
    {
     "name": "stderr",
     "output_type": "stream",
     "text": [
      "\r",
      " 64%|██████▍   | 506/785 [02:36<01:12,  3.83it/s]"
     ]
    },
    {
     "name": "stdout",
     "output_type": "stream",
     "text": [
      "Found 8 instances in image ring_rear_left_315978409262955912.jpg\n",
      "14770 keypoints deleted in total\n",
      "\n"
     ]
    },
    {
     "name": "stderr",
     "output_type": "stream",
     "text": [
      "\r",
      " 65%|██████▍   | 507/785 [02:37<01:14,  3.75it/s]"
     ]
    },
    {
     "name": "stdout",
     "output_type": "stream",
     "text": [
      "Found 10 instances in image ring_rear_left_315978409362855992.jpg\n",
      "14787 keypoints deleted in total\n",
      "\n"
     ]
    },
    {
     "name": "stderr",
     "output_type": "stream",
     "text": [
      "\r",
      " 65%|██████▍   | 508/785 [02:37<01:16,  3.64it/s]"
     ]
    },
    {
     "name": "stdout",
     "output_type": "stream",
     "text": [
      "Found 10 instances in image ring_rear_left_315978409429456048.jpg\n",
      "14804 keypoints deleted in total\n",
      "\n"
     ]
    },
    {
     "name": "stderr",
     "output_type": "stream",
     "text": [
      "\r",
      " 65%|██████▍   | 509/785 [02:37<01:17,  3.58it/s]"
     ]
    },
    {
     "name": "stdout",
     "output_type": "stream",
     "text": [
      "Found 9 instances in image ring_rear_left_315978409595956096.jpg\n",
      "14823 keypoints deleted in total\n",
      "\n"
     ]
    },
    {
     "name": "stderr",
     "output_type": "stream",
     "text": [
      "\r",
      " 65%|██████▍   | 510/785 [02:38<01:18,  3.51it/s]"
     ]
    },
    {
     "name": "stdout",
     "output_type": "stream",
     "text": [
      "Found 10 instances in image ring_rear_left_315978409629256128.jpg\n",
      "14843 keypoints deleted in total\n",
      "\n"
     ]
    },
    {
     "name": "stderr",
     "output_type": "stream",
     "text": [
      "\r",
      " 65%|██████▌   | 511/785 [02:38<01:17,  3.53it/s]"
     ]
    },
    {
     "name": "stdout",
     "output_type": "stream",
     "text": [
      "Found 8 instances in image ring_rear_left_315978409762456152.jpg\n",
      "14857 keypoints deleted in total\n",
      "\n"
     ]
    },
    {
     "name": "stderr",
     "output_type": "stream",
     "text": [
      "\r",
      " 65%|██████▌   | 512/785 [02:38<01:17,  3.54it/s]"
     ]
    },
    {
     "name": "stdout",
     "output_type": "stream",
     "text": [
      "Found 7 instances in image ring_rear_left_315978409962256152.jpg\n",
      "14887 keypoints deleted in total\n",
      "\n"
     ]
    },
    {
     "name": "stderr",
     "output_type": "stream",
     "text": [
      "\r",
      " 65%|██████▌   | 513/785 [02:38<01:20,  3.37it/s]"
     ]
    },
    {
     "name": "stdout",
     "output_type": "stream",
     "text": [
      "Found 12 instances in image ring_rear_left_315978410062156232.jpg\n",
      "14967 keypoints deleted in total\n",
      "\n"
     ]
    },
    {
     "name": "stderr",
     "output_type": "stream",
     "text": [
      "\r",
      " 65%|██████▌   | 514/785 [02:39<01:20,  3.36it/s]"
     ]
    },
    {
     "name": "stdout",
     "output_type": "stream",
     "text": [
      "Found 8 instances in image ring_rear_left_315978410162056232.jpg\n",
      "14984 keypoints deleted in total\n",
      "\n"
     ]
    },
    {
     "name": "stderr",
     "output_type": "stream",
     "text": [
      "\r",
      " 66%|██████▌   | 515/785 [02:39<01:19,  3.39it/s]"
     ]
    },
    {
     "name": "stdout",
     "output_type": "stream",
     "text": [
      "Found 7 instances in image ring_rear_left_315978410228656288.jpg\n",
      "14990 keypoints deleted in total\n",
      "\n"
     ]
    },
    {
     "name": "stderr",
     "output_type": "stream",
     "text": [
      "\r",
      " 66%|██████▌   | 516/785 [02:39<01:19,  3.39it/s]"
     ]
    },
    {
     "name": "stdout",
     "output_type": "stream",
     "text": [
      "Found 8 instances in image ring_rear_left_315978410395156344.jpg\n",
      "15004 keypoints deleted in total\n",
      "\n"
     ]
    },
    {
     "name": "stderr",
     "output_type": "stream",
     "text": [
      "\r",
      " 66%|██████▌   | 517/785 [02:40<01:19,  3.38it/s]"
     ]
    },
    {
     "name": "stdout",
     "output_type": "stream",
     "text": [
      "Found 9 instances in image ring_rear_left_315978410428456368.jpg\n",
      "15026 keypoints deleted in total\n",
      "\n"
     ]
    },
    {
     "name": "stderr",
     "output_type": "stream",
     "text": [
      "\r",
      " 66%|██████▌   | 518/785 [02:40<01:19,  3.37it/s]"
     ]
    },
    {
     "name": "stdout",
     "output_type": "stream",
     "text": [
      "Found 9 instances in image ring_rear_left_315978410461756392.jpg\n",
      "15036 keypoints deleted in total\n",
      "\n"
     ]
    },
    {
     "name": "stderr",
     "output_type": "stream",
     "text": [
      "\r",
      " 66%|██████▌   | 519/785 [02:40<01:18,  3.39it/s]"
     ]
    },
    {
     "name": "stdout",
     "output_type": "stream",
     "text": [
      "Found 9 instances in image ring_rear_left_315978410661556552.jpg\n",
      "15054 keypoints deleted in total\n",
      "\n"
     ]
    },
    {
     "name": "stderr",
     "output_type": "stream",
     "text": [
      "\r",
      " 66%|██████▌   | 520/785 [02:40<01:19,  3.31it/s]"
     ]
    },
    {
     "name": "stdout",
     "output_type": "stream",
     "text": [
      "Found 10 instances in image ring_rear_left_315978410694856504.jpg\n",
      "15062 keypoints deleted in total\n",
      "\n"
     ]
    },
    {
     "name": "stderr",
     "output_type": "stream",
     "text": [
      "\r",
      " 66%|██████▋   | 521/785 [02:41<01:20,  3.27it/s]"
     ]
    },
    {
     "name": "stdout",
     "output_type": "stream",
     "text": [
      "Found 11 instances in image ring_rear_left_315978411094456184.jpg\n",
      "15082 keypoints deleted in total\n",
      "\n"
     ]
    },
    {
     "name": "stderr",
     "output_type": "stream",
     "text": [
      "\r",
      " 66%|██████▋   | 522/785 [02:41<01:19,  3.30it/s]"
     ]
    },
    {
     "name": "stdout",
     "output_type": "stream",
     "text": [
      "Found 9 instances in image ring_rear_left_315978411460755720.jpg\n",
      "15098 keypoints deleted in total\n",
      "\n"
     ]
    },
    {
     "name": "stderr",
     "output_type": "stream",
     "text": [
      "\r",
      " 67%|██████▋   | 523/785 [02:41<01:19,  3.28it/s]"
     ]
    },
    {
     "name": "stdout",
     "output_type": "stream",
     "text": [
      "Found 10 instances in image ring_rear_left_315978411527355672.jpg\n",
      "15106 keypoints deleted in total\n",
      "\n"
     ]
    },
    {
     "name": "stderr",
     "output_type": "stream",
     "text": [
      "\r",
      " 67%|██████▋   | 524/785 [02:42<01:17,  3.36it/s]"
     ]
    },
    {
     "name": "stdout",
     "output_type": "stream",
     "text": [
      "Found 8 instances in image ring_rear_left_315978411693855464.jpg\n",
      "15117 keypoints deleted in total\n",
      "\n"
     ]
    },
    {
     "name": "stderr",
     "output_type": "stream",
     "text": [
      "\r",
      " 67%|██████▋   | 525/785 [02:42<01:14,  3.48it/s]"
     ]
    },
    {
     "name": "stdout",
     "output_type": "stream",
     "text": [
      "Found 6 instances in image ring_rear_left_315978411727155352.jpg\n",
      "15119 keypoints deleted in total\n",
      "\n"
     ]
    },
    {
     "name": "stderr",
     "output_type": "stream",
     "text": [
      "\r",
      " 67%|██████▋   | 526/785 [02:42<01:14,  3.47it/s]"
     ]
    },
    {
     "name": "stdout",
     "output_type": "stream",
     "text": [
      "Found 10 instances in image ring_rear_left_315978411926955112.jpg\n",
      "15138 keypoints deleted in total\n",
      "\n"
     ]
    },
    {
     "name": "stderr",
     "output_type": "stream",
     "text": [
      "\r",
      " 67%|██████▋   | 527/785 [02:43<01:15,  3.43it/s]"
     ]
    },
    {
     "name": "stdout",
     "output_type": "stream",
     "text": [
      "Found 10 instances in image ring_rear_left_315978412060154936.jpg\n",
      "15175 keypoints deleted in total\n",
      "\n"
     ]
    },
    {
     "name": "stderr",
     "output_type": "stream",
     "text": [
      "\r",
      " 67%|██████▋   | 528/785 [02:43<01:14,  3.47it/s]"
     ]
    },
    {
     "name": "stdout",
     "output_type": "stream",
     "text": [
      "Found 8 instances in image ring_rear_left_315978412093454904.jpg\n",
      "15192 keypoints deleted in total\n",
      "\n"
     ]
    },
    {
     "name": "stderr",
     "output_type": "stream",
     "text": [
      "\r",
      " 67%|██████▋   | 529/785 [02:43<01:13,  3.48it/s]"
     ]
    },
    {
     "name": "stdout",
     "output_type": "stream",
     "text": [
      "Found 9 instances in image ring_rear_left_315978412126754872.jpg\n",
      "15203 keypoints deleted in total\n",
      "\n"
     ]
    },
    {
     "name": "stderr",
     "output_type": "stream",
     "text": [
      "\r",
      " 68%|██████▊   | 530/785 [02:43<01:12,  3.53it/s]"
     ]
    },
    {
     "name": "stdout",
     "output_type": "stream",
     "text": [
      "Found 8 instances in image ring_rear_left_315978412160054776.jpg\n",
      "15208 keypoints deleted in total\n",
      "\n"
     ]
    },
    {
     "name": "stderr",
     "output_type": "stream",
     "text": [
      "\r",
      " 68%|██████▊   | 531/785 [02:44<01:13,  3.47it/s]"
     ]
    },
    {
     "name": "stdout",
     "output_type": "stream",
     "text": [
      "Found 10 instances in image ring_rear_left_315978412226654712.jpg\n",
      "15246 keypoints deleted in total\n",
      "\n"
     ]
    },
    {
     "name": "stderr",
     "output_type": "stream",
     "text": [
      "\r",
      " 68%|██████▊   | 532/785 [02:44<01:14,  3.40it/s]"
     ]
    },
    {
     "name": "stdout",
     "output_type": "stream",
     "text": [
      "Found 10 instances in image ring_rear_left_315978412259954696.jpg\n",
      "15289 keypoints deleted in total\n",
      "\n"
     ]
    },
    {
     "name": "stderr",
     "output_type": "stream",
     "text": [
      "\r",
      " 68%|██████▊   | 533/785 [02:44<01:14,  3.37it/s]"
     ]
    },
    {
     "name": "stdout",
     "output_type": "stream",
     "text": [
      "Found 10 instances in image ring_rear_left_315978412293254584.jpg\n",
      "15330 keypoints deleted in total\n",
      "\n"
     ]
    },
    {
     "name": "stderr",
     "output_type": "stream",
     "text": [
      "\r",
      " 68%|██████▊   | 534/785 [02:45<01:13,  3.41it/s]"
     ]
    },
    {
     "name": "stdout",
     "output_type": "stream",
     "text": [
      "Found 9 instances in image ring_rear_left_315978412359854640.jpg\n",
      "15356 keypoints deleted in total\n",
      "\n"
     ]
    },
    {
     "name": "stderr",
     "output_type": "stream",
     "text": [
      "\r",
      " 68%|██████▊   | 535/785 [02:45<01:12,  3.47it/s]"
     ]
    },
    {
     "name": "stdout",
     "output_type": "stream",
     "text": [
      "Found 8 instances in image ring_rear_left_315978412393154664.jpg\n",
      "15374 keypoints deleted in total\n",
      "\n"
     ]
    },
    {
     "name": "stderr",
     "output_type": "stream",
     "text": [
      "\r",
      " 68%|██████▊   | 536/785 [02:45<01:11,  3.50it/s]"
     ]
    },
    {
     "name": "stdout",
     "output_type": "stream",
     "text": [
      "Found 8 instances in image ring_rear_left_315978412526354688.jpg\n",
      "15428 keypoints deleted in total\n",
      "\n"
     ]
    },
    {
     "name": "stderr",
     "output_type": "stream",
     "text": [
      "\r",
      " 68%|██████▊   | 537/785 [02:45<01:10,  3.50it/s]"
     ]
    },
    {
     "name": "stdout",
     "output_type": "stream",
     "text": [
      "Found 9 instances in image ring_rear_left_315978412592954744.jpg\n",
      "15505 keypoints deleted in total\n",
      "\n"
     ]
    },
    {
     "name": "stderr",
     "output_type": "stream",
     "text": [
      "\r",
      " 69%|██████▊   | 538/785 [02:46<01:18,  3.14it/s]"
     ]
    },
    {
     "name": "stdout",
     "output_type": "stream",
     "text": [
      "Found 9 instances in image ring_rear_left_315978412626254768.jpg\n",
      "15531 keypoints deleted in total\n",
      "\n"
     ]
    },
    {
     "name": "stderr",
     "output_type": "stream",
     "text": [
      "\r",
      " 69%|██████▊   | 539/785 [02:46<01:15,  3.26it/s]"
     ]
    },
    {
     "name": "stdout",
     "output_type": "stream",
     "text": [
      "Found 9 instances in image ring_rear_left_315978412659554800.jpg\n",
      "15572 keypoints deleted in total\n",
      "\n"
     ]
    },
    {
     "name": "stderr",
     "output_type": "stream",
     "text": [
      "\r",
      " 69%|██████▉   | 540/785 [02:46<01:12,  3.38it/s]"
     ]
    },
    {
     "name": "stdout",
     "output_type": "stream",
     "text": [
      "Found 8 instances in image ring_rear_left_315978412759454800.jpg\n",
      "15614 keypoints deleted in total\n",
      "\n"
     ]
    },
    {
     "name": "stderr",
     "output_type": "stream",
     "text": [
      "\r",
      " 69%|██████▉   | 541/785 [02:47<01:10,  3.47it/s]"
     ]
    },
    {
     "name": "stdout",
     "output_type": "stream",
     "text": [
      "Found 8 instances in image ring_rear_left_315978412792754824.jpg\n",
      "15633 keypoints deleted in total\n",
      "\n"
     ]
    },
    {
     "name": "stderr",
     "output_type": "stream",
     "text": [
      "\r",
      " 69%|██████▉   | 542/785 [02:47<01:09,  3.48it/s]"
     ]
    },
    {
     "name": "stdout",
     "output_type": "stream",
     "text": [
      "Found 9 instances in image ring_rear_left_315978413192354984.jpg\n",
      "15696 keypoints deleted in total\n",
      "\n"
     ]
    },
    {
     "name": "stderr",
     "output_type": "stream",
     "text": [
      "\r",
      " 69%|██████▉   | 543/785 [02:47<01:07,  3.57it/s]"
     ]
    },
    {
     "name": "stdout",
     "output_type": "stream",
     "text": [
      "Found 7 instances in image ring_rear_left_315978413325555016.jpg\n",
      "15734 keypoints deleted in total\n",
      "\n"
     ]
    },
    {
     "name": "stderr",
     "output_type": "stream",
     "text": [
      "\r",
      " 69%|██████▉   | 544/785 [02:47<01:08,  3.53it/s]"
     ]
    },
    {
     "name": "stdout",
     "output_type": "stream",
     "text": [
      "Found 9 instances in image ring_rear_left_315978413392154984.jpg\n",
      "15769 keypoints deleted in total\n",
      "\n"
     ]
    },
    {
     "name": "stderr",
     "output_type": "stream",
     "text": [
      "\r",
      " 69%|██████▉   | 545/785 [02:48<01:06,  3.60it/s]"
     ]
    },
    {
     "name": "stdout",
     "output_type": "stream",
     "text": [
      "Found 7 instances in image ring_rear_left_315978413458755040.jpg\n",
      "15787 keypoints deleted in total\n",
      "\n"
     ]
    },
    {
     "name": "stderr",
     "output_type": "stream",
     "text": [
      "\r",
      " 70%|██████▉   | 546/785 [02:48<01:06,  3.61it/s]"
     ]
    },
    {
     "name": "stdout",
     "output_type": "stream",
     "text": [
      "Found 7 instances in image ring_rear_left_315978413558655040.jpg\n",
      "15811 keypoints deleted in total\n",
      "\n"
     ]
    },
    {
     "name": "stderr",
     "output_type": "stream",
     "text": [
      "\r",
      " 70%|██████▉   | 547/785 [02:48<01:09,  3.45it/s]"
     ]
    },
    {
     "name": "stdout",
     "output_type": "stream",
     "text": [
      "Found 11 instances in image ring_rear_left_315978413625255096.jpg\n",
      "15835 keypoints deleted in total\n",
      "\n"
     ]
    },
    {
     "name": "stderr",
     "output_type": "stream",
     "text": [
      "\r",
      " 70%|██████▉   | 548/785 [02:49<01:10,  3.37it/s]"
     ]
    },
    {
     "name": "stdout",
     "output_type": "stream",
     "text": [
      "Found 11 instances in image ring_rear_left_315978413658555120.jpg\n",
      "15854 keypoints deleted in total\n",
      "\n"
     ]
    },
    {
     "name": "stderr",
     "output_type": "stream",
     "text": [
      "\r",
      " 70%|██████▉   | 549/785 [02:49<01:09,  3.39it/s]"
     ]
    },
    {
     "name": "stdout",
     "output_type": "stream",
     "text": [
      "Found 9 instances in image ring_rear_left_315978413725155176.jpg\n",
      "15882 keypoints deleted in total\n",
      "\n"
     ]
    },
    {
     "name": "stderr",
     "output_type": "stream",
     "text": [
      "\r",
      " 70%|███████   | 550/785 [02:49<01:07,  3.47it/s]"
     ]
    },
    {
     "name": "stdout",
     "output_type": "stream",
     "text": [
      "Found 8 instances in image ring_rear_left_315978413958255280.jpg\n",
      "15914 keypoints deleted in total\n",
      "\n"
     ]
    },
    {
     "name": "stderr",
     "output_type": "stream",
     "text": [
      "\r",
      " 70%|███████   | 551/785 [02:50<01:07,  3.48it/s]"
     ]
    },
    {
     "name": "stdout",
     "output_type": "stream",
     "text": [
      "Found 8 instances in image ring_rear_left_315978414058155280.jpg\n",
      "16012 keypoints deleted in total\n",
      "\n"
     ]
    },
    {
     "name": "stderr",
     "output_type": "stream",
     "text": [
      "\r",
      " 70%|███████   | 552/785 [02:50<01:04,  3.61it/s]"
     ]
    },
    {
     "name": "stdout",
     "output_type": "stream",
     "text": [
      "Found 5 instances in image ring_rear_left_315978414091455304.jpg\n",
      "16024 keypoints deleted in total\n",
      "\n"
     ]
    },
    {
     "name": "stderr",
     "output_type": "stream",
     "text": [
      "\r",
      " 70%|███████   | 553/785 [02:50<01:03,  3.65it/s]"
     ]
    },
    {
     "name": "stdout",
     "output_type": "stream",
     "text": [
      "Found 7 instances in image ring_rear_left_315978414324555416.jpg\n",
      "16086 keypoints deleted in total\n",
      "\n"
     ]
    },
    {
     "name": "stderr",
     "output_type": "stream",
     "text": [
      "\r",
      " 71%|███████   | 554/785 [02:50<01:05,  3.55it/s]"
     ]
    },
    {
     "name": "stdout",
     "output_type": "stream",
     "text": [
      "Found 10 instances in image ring_rear_left_315978414624255416.jpg\n",
      "16160 keypoints deleted in total\n",
      "\n"
     ]
    },
    {
     "name": "stderr",
     "output_type": "stream",
     "text": [
      "\r",
      " 71%|███████   | 555/785 [02:51<01:05,  3.53it/s]"
     ]
    },
    {
     "name": "stdout",
     "output_type": "stream",
     "text": [
      "Found 9 instances in image ring_rear_left_315978414657555440.jpg\n",
      "16244 keypoints deleted in total\n",
      "\n"
     ]
    },
    {
     "name": "stderr",
     "output_type": "stream",
     "text": [
      "\r",
      " 71%|███████   | 556/785 [02:51<01:04,  3.54it/s]"
     ]
    },
    {
     "name": "stdout",
     "output_type": "stream",
     "text": [
      "Found 8 instances in image ring_rear_left_315978414824055496.jpg\n",
      "16335 keypoints deleted in total\n",
      "\n"
     ]
    },
    {
     "name": "stderr",
     "output_type": "stream",
     "text": [
      "\r",
      " 71%|███████   | 557/785 [02:51<01:04,  3.54it/s]"
     ]
    },
    {
     "name": "stdout",
     "output_type": "stream",
     "text": [
      "Found 8 instances in image ring_rear_left_315978414890655464.jpg\n",
      "16387 keypoints deleted in total\n",
      "\n"
     ]
    },
    {
     "name": "stderr",
     "output_type": "stream",
     "text": [
      "\r",
      " 71%|███████   | 558/785 [02:51<01:01,  3.66it/s]"
     ]
    },
    {
     "name": "stdout",
     "output_type": "stream",
     "text": [
      "Found 6 instances in image ring_rear_left_315978414923955496.jpg\n",
      "16424 keypoints deleted in total\n",
      "\n"
     ]
    },
    {
     "name": "stderr",
     "output_type": "stream",
     "text": [
      "\r",
      " 71%|███████   | 559/785 [02:52<01:01,  3.66it/s]"
     ]
    },
    {
     "name": "stdout",
     "output_type": "stream",
     "text": [
      "Found 8 instances in image ring_rear_left_315978414957255520.jpg\n",
      "16455 keypoints deleted in total\n",
      "\n"
     ]
    },
    {
     "name": "stderr",
     "output_type": "stream",
     "text": [
      "\r",
      " 71%|███████▏  | 560/785 [02:52<01:01,  3.68it/s]"
     ]
    },
    {
     "name": "stdout",
     "output_type": "stream",
     "text": [
      "Found 8 instances in image ring_rear_left_315978415157055520.jpg\n",
      "16489 keypoints deleted in total\n",
      "\n"
     ]
    },
    {
     "name": "stderr",
     "output_type": "stream",
     "text": [
      "\r",
      " 71%|███████▏  | 561/785 [02:52<01:00,  3.72it/s]"
     ]
    },
    {
     "name": "stdout",
     "output_type": "stream",
     "text": [
      "Found 7 instances in image ring_rear_left_315978415223655576.jpg\n",
      "16518 keypoints deleted in total\n",
      "\n"
     ]
    },
    {
     "name": "stderr",
     "output_type": "stream",
     "text": [
      "\r",
      " 72%|███████▏  | 562/785 [02:53<01:00,  3.66it/s]"
     ]
    },
    {
     "name": "stdout",
     "output_type": "stream",
     "text": [
      "Found 9 instances in image ring_rear_left_315978415290255552.jpg\n",
      "16559 keypoints deleted in total\n",
      "\n"
     ]
    },
    {
     "name": "stderr",
     "output_type": "stream",
     "text": [
      "\r",
      " 72%|███████▏  | 563/785 [02:53<01:00,  3.66it/s]"
     ]
    },
    {
     "name": "stdout",
     "output_type": "stream",
     "text": [
      "Found 7 instances in image ring_rear_left_315978415323555576.jpg\n",
      "16580 keypoints deleted in total\n",
      "\n"
     ]
    },
    {
     "name": "stderr",
     "output_type": "stream",
     "text": [
      "\r",
      " 72%|███████▏  | 564/785 [02:53<00:58,  3.75it/s]"
     ]
    },
    {
     "name": "stdout",
     "output_type": "stream",
     "text": [
      "Found 7 instances in image ring_rear_left_315978415356855600.jpg\n",
      "16602 keypoints deleted in total\n",
      "\n"
     ]
    },
    {
     "name": "stderr",
     "output_type": "stream",
     "text": [
      "\r",
      " 72%|███████▏  | 565/785 [02:53<00:59,  3.69it/s]"
     ]
    },
    {
     "name": "stdout",
     "output_type": "stream",
     "text": [
      "Found 7 instances in image ring_rear_left_315978415689855632.jpg\n",
      "16680 keypoints deleted in total\n",
      "\n"
     ]
    },
    {
     "name": "stderr",
     "output_type": "stream",
     "text": [
      "\r",
      " 72%|███████▏  | 566/785 [02:54<00:59,  3.68it/s]"
     ]
    },
    {
     "name": "stdout",
     "output_type": "stream",
     "text": [
      "Found 8 instances in image ring_rear_left_315978415756455680.jpg\n",
      "16741 keypoints deleted in total\n",
      "\n"
     ]
    },
    {
     "name": "stderr",
     "output_type": "stream",
     "text": [
      "\r",
      " 72%|███████▏  | 567/785 [02:54<01:00,  3.63it/s]"
     ]
    },
    {
     "name": "stdout",
     "output_type": "stream",
     "text": [
      "Found 8 instances in image ring_rear_left_315978415789755632.jpg\n",
      "16781 keypoints deleted in total\n",
      "\n"
     ]
    },
    {
     "name": "stderr",
     "output_type": "stream",
     "text": [
      "\r",
      " 72%|███████▏  | 568/785 [02:54<00:59,  3.67it/s]"
     ]
    },
    {
     "name": "stdout",
     "output_type": "stream",
     "text": [
      "Found 7 instances in image ring_rear_left_315978415989555712.jpg\n",
      "16909 keypoints deleted in total\n",
      "\n"
     ]
    },
    {
     "name": "stderr",
     "output_type": "stream",
     "text": [
      "\r",
      " 72%|███████▏  | 569/785 [02:54<00:57,  3.73it/s]"
     ]
    },
    {
     "name": "stdout",
     "output_type": "stream",
     "text": [
      "Found 7 instances in image ring_rear_left_315978416089455712.jpg\n",
      "16960 keypoints deleted in total\n",
      "\n"
     ]
    },
    {
     "name": "stderr",
     "output_type": "stream",
     "text": [
      "\r",
      " 73%|███████▎  | 570/785 [02:55<00:56,  3.78it/s]"
     ]
    },
    {
     "name": "stdout",
     "output_type": "stream",
     "text": [
      "Found 7 instances in image ring_rear_left_315978416156055760.jpg\n",
      "16994 keypoints deleted in total\n",
      "\n"
     ]
    },
    {
     "name": "stderr",
     "output_type": "stream",
     "text": [
      "\r",
      " 73%|███████▎  | 571/785 [02:55<00:56,  3.79it/s]"
     ]
    },
    {
     "name": "stdout",
     "output_type": "stream",
     "text": [
      "Found 7 instances in image ring_rear_left_315978416189355712.jpg\n",
      "17019 keypoints deleted in total\n",
      "\n"
     ]
    },
    {
     "name": "stderr",
     "output_type": "stream",
     "text": [
      "\r",
      " 73%|███████▎  | 572/785 [02:55<00:56,  3.77it/s]"
     ]
    },
    {
     "name": "stdout",
     "output_type": "stream",
     "text": [
      "Found 7 instances in image ring_rear_left_315978416222655736.jpg\n",
      "17040 keypoints deleted in total\n",
      "\n"
     ]
    },
    {
     "name": "stderr",
     "output_type": "stream",
     "text": [
      "\r",
      " 73%|███████▎  | 573/785 [02:55<00:55,  3.80it/s]"
     ]
    },
    {
     "name": "stdout",
     "output_type": "stream",
     "text": [
      "Found 6 instances in image ring_rear_left_315978416389155792.jpg\n",
      "17066 keypoints deleted in total\n",
      "\n"
     ]
    },
    {
     "name": "stderr",
     "output_type": "stream",
     "text": [
      "\r",
      " 73%|███████▎  | 574/785 [02:56<00:55,  3.79it/s]"
     ]
    },
    {
     "name": "stdout",
     "output_type": "stream",
     "text": [
      "Found 7 instances in image ring_rear_left_315978416555655840.jpg\n",
      "17096 keypoints deleted in total\n",
      "\n"
     ]
    },
    {
     "name": "stderr",
     "output_type": "stream",
     "text": [
      "\r",
      " 73%|███████▎  | 575/785 [02:56<00:55,  3.77it/s]"
     ]
    },
    {
     "name": "stdout",
     "output_type": "stream",
     "text": [
      "Found 8 instances in image ring_rear_left_315978416855355928.jpg\n",
      "17127 keypoints deleted in total\n",
      "\n"
     ]
    },
    {
     "name": "stderr",
     "output_type": "stream",
     "text": [
      "\r",
      " 73%|███████▎  | 576/785 [02:56<00:58,  3.59it/s]"
     ]
    },
    {
     "name": "stdout",
     "output_type": "stream",
     "text": [
      "Found 10 instances in image ring_rear_left_315978417155055928.jpg\n",
      "17149 keypoints deleted in total\n",
      "\n"
     ]
    },
    {
     "name": "stderr",
     "output_type": "stream",
     "text": [
      "\r",
      " 74%|███████▎  | 577/785 [02:57<01:00,  3.43it/s]"
     ]
    },
    {
     "name": "stdout",
     "output_type": "stream",
     "text": [
      "Found 10 instances in image ring_rear_left_315978417221655976.jpg\n",
      "17191 keypoints deleted in total\n",
      "\n"
     ]
    },
    {
     "name": "stderr",
     "output_type": "stream",
     "text": [
      "\r",
      " 74%|███████▎  | 578/785 [02:57<01:07,  3.06it/s]"
     ]
    },
    {
     "name": "stdout",
     "output_type": "stream",
     "text": [
      "Found 9 instances in image ring_rear_left_315978417354855928.jpg\n",
      "17235 keypoints deleted in total\n",
      "\n"
     ]
    },
    {
     "name": "stderr",
     "output_type": "stream",
     "text": [
      "\r",
      " 74%|███████▍  | 579/785 [02:57<01:06,  3.12it/s]"
     ]
    },
    {
     "name": "stdout",
     "output_type": "stream",
     "text": [
      "Found 10 instances in image ring_rear_left_315978417521355976.jpg\n",
      "17273 keypoints deleted in total\n",
      "\n"
     ]
    },
    {
     "name": "stderr",
     "output_type": "stream",
     "text": [
      "\r",
      " 74%|███████▍  | 580/785 [02:58<01:05,  3.12it/s]"
     ]
    },
    {
     "name": "stdout",
     "output_type": "stream",
     "text": [
      "Found 10 instances in image ring_rear_left_315978417554656008.jpg\n",
      "17294 keypoints deleted in total\n",
      "\n"
     ]
    },
    {
     "name": "stderr",
     "output_type": "stream",
     "text": [
      "\r",
      " 74%|███████▍  | 581/785 [02:58<01:03,  3.23it/s]"
     ]
    },
    {
     "name": "stdout",
     "output_type": "stream",
     "text": [
      "Found 9 instances in image ring_rear_left_315978417587955952.jpg\n",
      "17302 keypoints deleted in total\n",
      "\n"
     ]
    },
    {
     "name": "stderr",
     "output_type": "stream",
     "text": [
      "\r",
      " 74%|███████▍  | 582/785 [02:58<01:02,  3.27it/s]"
     ]
    },
    {
     "name": "stdout",
     "output_type": "stream",
     "text": [
      "Found 9 instances in image ring_rear_left_315978417621255976.jpg\n",
      "17311 keypoints deleted in total\n",
      "\n"
     ]
    },
    {
     "name": "stderr",
     "output_type": "stream",
     "text": [
      "\r",
      " 74%|███████▍  | 583/785 [02:59<01:01,  3.26it/s]"
     ]
    },
    {
     "name": "stdout",
     "output_type": "stream",
     "text": [
      "Found 10 instances in image ring_rear_left_315978417854356008.jpg\n",
      "17342 keypoints deleted in total\n",
      "\n"
     ]
    },
    {
     "name": "stderr",
     "output_type": "stream",
     "text": [
      "\r",
      " 74%|███████▍  | 584/785 [02:59<01:01,  3.26it/s]"
     ]
    },
    {
     "name": "stdout",
     "output_type": "stream",
     "text": [
      "Found 10 instances in image ring_rear_left_315978417954256088.jpg\n",
      "17366 keypoints deleted in total\n",
      "\n"
     ]
    },
    {
     "name": "stderr",
     "output_type": "stream",
     "text": [
      "\r",
      " 75%|███████▍  | 585/785 [02:59<01:00,  3.32it/s]"
     ]
    },
    {
     "name": "stdout",
     "output_type": "stream",
     "text": [
      "Found 9 instances in image ring_rear_left_315978417987556032.jpg\n",
      "17379 keypoints deleted in total\n",
      "\n"
     ]
    },
    {
     "name": "stderr",
     "output_type": "stream",
     "text": [
      "\r",
      " 75%|███████▍  | 586/785 [02:59<00:58,  3.40it/s]"
     ]
    },
    {
     "name": "stdout",
     "output_type": "stream",
     "text": [
      "Found 9 instances in image ring_rear_left_315978418120756056.jpg\n",
      "17405 keypoints deleted in total\n",
      "\n"
     ]
    },
    {
     "name": "stderr",
     "output_type": "stream",
     "text": [
      "\r",
      " 75%|███████▍  | 587/785 [03:00<00:58,  3.39it/s]"
     ]
    },
    {
     "name": "stdout",
     "output_type": "stream",
     "text": [
      "Found 9 instances in image ring_rear_left_315978418154056088.jpg\n",
      "17418 keypoints deleted in total\n",
      "\n"
     ]
    },
    {
     "name": "stderr",
     "output_type": "stream",
     "text": [
      "\r",
      " 75%|███████▍  | 588/785 [03:00<00:58,  3.36it/s]"
     ]
    },
    {
     "name": "stdout",
     "output_type": "stream",
     "text": [
      "Found 10 instances in image ring_rear_left_315978418220656136.jpg\n",
      "17428 keypoints deleted in total\n",
      "\n"
     ]
    },
    {
     "name": "stderr",
     "output_type": "stream",
     "text": [
      "\r",
      " 75%|███████▌  | 589/785 [03:00<00:58,  3.35it/s]"
     ]
    },
    {
     "name": "stdout",
     "output_type": "stream",
     "text": [
      "Found 9 instances in image ring_rear_left_315978418320556208.jpg\n",
      "17446 keypoints deleted in total\n",
      "\n"
     ]
    },
    {
     "name": "stderr",
     "output_type": "stream",
     "text": [
      "\r",
      " 75%|███████▌  | 590/785 [03:01<00:58,  3.33it/s]"
     ]
    },
    {
     "name": "stdout",
     "output_type": "stream",
     "text": [
      "Found 10 instances in image ring_rear_left_315978418387156368.jpg\n",
      "17455 keypoints deleted in total\n",
      "\n"
     ]
    },
    {
     "name": "stderr",
     "output_type": "stream",
     "text": [
      "\r",
      " 75%|███████▌  | 591/785 [03:01<00:57,  3.36it/s]"
     ]
    },
    {
     "name": "stdout",
     "output_type": "stream",
     "text": [
      "Found 9 instances in image ring_rear_left_315978418420456368.jpg\n",
      "17465 keypoints deleted in total\n",
      "\n"
     ]
    },
    {
     "name": "stderr",
     "output_type": "stream",
     "text": [
      "\r",
      " 75%|███████▌  | 592/785 [03:01<00:56,  3.39it/s]"
     ]
    },
    {
     "name": "stdout",
     "output_type": "stream",
     "text": [
      "Found 8 instances in image ring_rear_left_315978418520356608.jpg\n",
      "17474 keypoints deleted in total\n",
      "\n"
     ]
    },
    {
     "name": "stderr",
     "output_type": "stream",
     "text": [
      "\r",
      " 76%|███████▌  | 593/785 [03:01<00:55,  3.45it/s]"
     ]
    },
    {
     "name": "stdout",
     "output_type": "stream",
     "text": [
      "Found 8 instances in image ring_rear_left_315978418620256848.jpg\n",
      "17489 keypoints deleted in total\n",
      "\n"
     ]
    },
    {
     "name": "stderr",
     "output_type": "stream",
     "text": [
      "\r",
      " 76%|███████▌  | 594/785 [03:02<00:55,  3.47it/s]"
     ]
    },
    {
     "name": "stdout",
     "output_type": "stream",
     "text": [
      "Found 8 instances in image ring_rear_left_315978418653556928.jpg\n",
      "17499 keypoints deleted in total\n",
      "\n"
     ]
    },
    {
     "name": "stderr",
     "output_type": "stream",
     "text": [
      "\r",
      " 76%|███████▌  | 595/785 [03:02<00:54,  3.50it/s]"
     ]
    },
    {
     "name": "stdout",
     "output_type": "stream",
     "text": [
      "Found 8 instances in image ring_rear_left_315978418686857008.jpg\n",
      "17509 keypoints deleted in total\n",
      "\n"
     ]
    },
    {
     "name": "stderr",
     "output_type": "stream",
     "text": [
      "\r",
      " 76%|███████▌  | 596/785 [03:02<00:53,  3.51it/s]"
     ]
    },
    {
     "name": "stdout",
     "output_type": "stream",
     "text": [
      "Found 8 instances in image ring_rear_left_315978418919957488.jpg\n",
      "17532 keypoints deleted in total\n",
      "\n"
     ]
    },
    {
     "name": "stderr",
     "output_type": "stream",
     "text": [
      "\r",
      " 76%|███████▌  | 597/785 [03:03<00:55,  3.39it/s]"
     ]
    },
    {
     "name": "stdout",
     "output_type": "stream",
     "text": [
      "Found 11 instances in image ring_rear_left_315978419053157728.jpg\n",
      "17553 keypoints deleted in total\n",
      "\n"
     ]
    },
    {
     "name": "stderr",
     "output_type": "stream",
     "text": [
      "\r",
      " 76%|███████▌  | 598/785 [03:03<00:56,  3.33it/s]"
     ]
    },
    {
     "name": "stdout",
     "output_type": "stream",
     "text": [
      "Found 11 instances in image ring_rear_left_315978419119757808.jpg\n",
      "17562 keypoints deleted in total\n",
      "\n"
     ]
    },
    {
     "name": "stderr",
     "output_type": "stream",
     "text": [
      "\r",
      " 76%|███████▋  | 599/785 [03:03<00:55,  3.34it/s]"
     ]
    },
    {
     "name": "stdout",
     "output_type": "stream",
     "text": [
      "Found 11 instances in image ring_rear_left_315978419153057888.jpg\n",
      "17580 keypoints deleted in total\n",
      "\n"
     ]
    },
    {
     "name": "stderr",
     "output_type": "stream",
     "text": [
      "\r",
      " 76%|███████▋  | 600/785 [03:04<00:54,  3.39it/s]"
     ]
    },
    {
     "name": "stdout",
     "output_type": "stream",
     "text": [
      "Found 9 instances in image ring_rear_left_315978419219658048.jpg\n",
      "17617 keypoints deleted in total\n",
      "\n"
     ]
    },
    {
     "name": "stderr",
     "output_type": "stream",
     "text": [
      "\r",
      " 77%|███████▋  | 601/785 [03:04<00:54,  3.39it/s]"
     ]
    },
    {
     "name": "stdout",
     "output_type": "stream",
     "text": [
      "Found 9 instances in image ring_rear_left_315978419252958048.jpg\n",
      "17633 keypoints deleted in total\n",
      "\n"
     ]
    },
    {
     "name": "stderr",
     "output_type": "stream",
     "text": [
      "\r",
      " 77%|███████▋  | 602/785 [03:04<00:54,  3.36it/s]"
     ]
    },
    {
     "name": "stdout",
     "output_type": "stream",
     "text": [
      "Found 10 instances in image ring_rear_left_315978419486058528.jpg\n",
      "17655 keypoints deleted in total\n",
      "\n"
     ]
    },
    {
     "name": "stderr",
     "output_type": "stream",
     "text": [
      "\r",
      " 77%|███████▋  | 603/785 [03:04<00:54,  3.36it/s]"
     ]
    },
    {
     "name": "stdout",
     "output_type": "stream",
     "text": [
      "Found 10 instances in image ring_rear_left_315978419519358528.jpg\n",
      "17661 keypoints deleted in total\n",
      "\n"
     ]
    },
    {
     "name": "stderr",
     "output_type": "stream",
     "text": [
      "\r",
      " 77%|███████▋  | 604/785 [03:05<00:54,  3.32it/s]"
     ]
    },
    {
     "name": "stdout",
     "output_type": "stream",
     "text": [
      "Found 11 instances in image ring_rear_left_315978419585958688.jpg\n",
      "17676 keypoints deleted in total\n",
      "\n"
     ]
    },
    {
     "name": "stderr",
     "output_type": "stream",
     "text": [
      "\r",
      " 77%|███████▋  | 605/785 [03:05<00:55,  3.25it/s]"
     ]
    },
    {
     "name": "stdout",
     "output_type": "stream",
     "text": [
      "Found 12 instances in image ring_rear_left_315978419619258688.jpg\n",
      "17702 keypoints deleted in total\n",
      "\n"
     ]
    },
    {
     "name": "stderr",
     "output_type": "stream",
     "text": [
      "\r",
      " 77%|███████▋  | 606/785 [03:05<00:54,  3.27it/s]"
     ]
    },
    {
     "name": "stdout",
     "output_type": "stream",
     "text": [
      "Found 10 instances in image ring_rear_left_315978419719158848.jpg\n",
      "17707 keypoints deleted in total\n",
      "\n"
     ]
    },
    {
     "name": "stderr",
     "output_type": "stream",
     "text": [
      "\r",
      " 77%|███████▋  | 607/785 [03:06<00:53,  3.30it/s]"
     ]
    },
    {
     "name": "stdout",
     "output_type": "stream",
     "text": [
      "Found 9 instances in image ring_rear_left_315978419918958552.jpg\n",
      "17733 keypoints deleted in total\n",
      "\n"
     ]
    },
    {
     "name": "stderr",
     "output_type": "stream",
     "text": [
      "\r",
      " 77%|███████▋  | 608/785 [03:06<00:52,  3.34it/s]"
     ]
    },
    {
     "name": "stdout",
     "output_type": "stream",
     "text": [
      "Found 8 instances in image ring_rear_left_315978419952258384.jpg\n",
      "17744 keypoints deleted in total\n",
      "\n"
     ]
    },
    {
     "name": "stderr",
     "output_type": "stream",
     "text": [
      "\r",
      " 78%|███████▊  | 609/785 [03:06<00:51,  3.42it/s]"
     ]
    },
    {
     "name": "stdout",
     "output_type": "stream",
     "text": [
      "Found 8 instances in image ring_rear_left_315978420085458000.jpg\n",
      "17772 keypoints deleted in total\n",
      "\n"
     ]
    },
    {
     "name": "stderr",
     "output_type": "stream",
     "text": [
      "\r",
      " 78%|███████▊  | 610/785 [03:07<00:51,  3.43it/s]"
     ]
    },
    {
     "name": "stdout",
     "output_type": "stream",
     "text": [
      "Found 9 instances in image ring_rear_left_315978420118757912.jpg\n",
      "17789 keypoints deleted in total\n",
      "\n"
     ]
    },
    {
     "name": "stderr",
     "output_type": "stream",
     "text": [
      "\r",
      " 78%|███████▊  | 611/785 [03:07<00:49,  3.50it/s]"
     ]
    },
    {
     "name": "stdout",
     "output_type": "stream",
     "text": [
      "Found 8 instances in image ring_rear_left_315978420152057824.jpg\n",
      "17809 keypoints deleted in total\n",
      "\n"
     ]
    },
    {
     "name": "stderr",
     "output_type": "stream",
     "text": [
      "\r",
      " 78%|███████▊  | 612/785 [03:07<00:49,  3.51it/s]"
     ]
    },
    {
     "name": "stdout",
     "output_type": "stream",
     "text": [
      "Found 8 instances in image ring_rear_left_315978420251957504.jpg\n",
      "17833 keypoints deleted in total\n",
      "\n"
     ]
    },
    {
     "name": "stderr",
     "output_type": "stream",
     "text": [
      "\r",
      " 78%|███████▊  | 613/785 [03:07<00:48,  3.52it/s]"
     ]
    },
    {
     "name": "stdout",
     "output_type": "stream",
     "text": [
      "Found 8 instances in image ring_rear_left_315978420285257440.jpg\n",
      "17850 keypoints deleted in total\n",
      "\n"
     ]
    },
    {
     "name": "stderr",
     "output_type": "stream",
     "text": [
      "\r",
      " 78%|███████▊  | 614/785 [03:08<00:48,  3.53it/s]"
     ]
    },
    {
     "name": "stdout",
     "output_type": "stream",
     "text": [
      "Found 8 instances in image ring_rear_left_315978420351857184.jpg\n",
      "17874 keypoints deleted in total\n",
      "\n"
     ]
    },
    {
     "name": "stderr",
     "output_type": "stream",
     "text": [
      "\r",
      " 78%|███████▊  | 615/785 [03:08<00:47,  3.58it/s]"
     ]
    },
    {
     "name": "stdout",
     "output_type": "stream",
     "text": [
      "Found 8 instances in image ring_rear_left_315978420385157120.jpg\n",
      "17893 keypoints deleted in total\n",
      "\n"
     ]
    },
    {
     "name": "stderr",
     "output_type": "stream",
     "text": [
      "\r",
      " 78%|███████▊  | 616/785 [03:08<00:47,  3.55it/s]"
     ]
    },
    {
     "name": "stdout",
     "output_type": "stream",
     "text": [
      "Found 8 instances in image ring_rear_left_315978420418457032.jpg\n",
      "17911 keypoints deleted in total\n",
      "\n"
     ]
    },
    {
     "name": "stderr",
     "output_type": "stream",
     "text": [
      "\r",
      " 79%|███████▊  | 617/785 [03:08<00:47,  3.53it/s]"
     ]
    },
    {
     "name": "stdout",
     "output_type": "stream",
     "text": [
      "Found 9 instances in image ring_rear_left_315978420584956560.jpg\n",
      "17947 keypoints deleted in total\n",
      "\n"
     ]
    },
    {
     "name": "stderr",
     "output_type": "stream",
     "text": [
      "\r",
      " 79%|███████▊  | 618/785 [03:09<00:47,  3.48it/s]"
     ]
    },
    {
     "name": "stdout",
     "output_type": "stream",
     "text": [
      "Found 9 instances in image ring_rear_left_315978420618256472.jpg\n",
      "17962 keypoints deleted in total\n",
      "\n"
     ]
    },
    {
     "name": "stderr",
     "output_type": "stream",
     "text": [
      "\r",
      " 79%|███████▉  | 619/785 [03:09<00:47,  3.46it/s]"
     ]
    },
    {
     "name": "stdout",
     "output_type": "stream",
     "text": [
      "Found 8 instances in image ring_rear_left_315978420751456144.jpg\n",
      "17967 keypoints deleted in total\n",
      "\n"
     ]
    },
    {
     "name": "stderr",
     "output_type": "stream",
     "text": [
      "\r",
      " 79%|███████▉  | 620/785 [03:09<00:46,  3.54it/s]"
     ]
    },
    {
     "name": "stdout",
     "output_type": "stream",
     "text": [
      "Found 6 instances in image ring_rear_left_315978420818055992.jpg\n",
      "17971 keypoints deleted in total\n",
      "\n"
     ]
    },
    {
     "name": "stderr",
     "output_type": "stream",
     "text": [
      "\r",
      " 79%|███████▉  | 621/785 [03:10<00:46,  3.54it/s]"
     ]
    },
    {
     "name": "stdout",
     "output_type": "stream",
     "text": [
      "Found 8 instances in image ring_rear_left_315978420851355904.jpg\n",
      "18021 keypoints deleted in total\n",
      "\n"
     ]
    },
    {
     "name": "stderr",
     "output_type": "stream",
     "text": [
      "\r",
      " 79%|███████▉  | 622/785 [03:10<00:52,  3.09it/s]"
     ]
    },
    {
     "name": "stdout",
     "output_type": "stream",
     "text": [
      "Found 6 instances in image ring_rear_left_315978420951255584.jpg\n",
      "18022 keypoints deleted in total\n",
      "\n"
     ]
    },
    {
     "name": "stderr",
     "output_type": "stream",
     "text": [
      "\r",
      " 79%|███████▉  | 623/785 [03:10<00:50,  3.18it/s]"
     ]
    },
    {
     "name": "stdout",
     "output_type": "stream",
     "text": [
      "Found 8 instances in image ring_rear_left_315978421084455200.jpg\n",
      "18024 keypoints deleted in total\n",
      "\n"
     ]
    },
    {
     "name": "stderr",
     "output_type": "stream",
     "text": [
      "\r",
      " 79%|███████▉  | 624/785 [03:11<00:49,  3.24it/s]"
     ]
    },
    {
     "name": "stdout",
     "output_type": "stream",
     "text": [
      "Found 8 instances in image ring_rear_left_315978421117755112.jpg\n",
      "18024 keypoints deleted in total\n",
      "\n"
     ]
    },
    {
     "name": "stderr",
     "output_type": "stream",
     "text": [
      "\r",
      " 80%|███████▉  | 625/785 [03:11<00:47,  3.38it/s]"
     ]
    },
    {
     "name": "stdout",
     "output_type": "stream",
     "text": [
      "Found 7 instances in image ring_rear_left_315978421350854640.jpg\n",
      "18024 keypoints deleted in total\n",
      "\n"
     ]
    },
    {
     "name": "stderr",
     "output_type": "stream",
     "text": [
      "\r",
      " 80%|███████▉  | 626/785 [03:11<00:46,  3.43it/s]"
     ]
    },
    {
     "name": "stdout",
     "output_type": "stream",
     "text": [
      "Found 7 instances in image ring_rear_left_315978421384154672.jpg\n",
      "18025 keypoints deleted in total\n",
      "\n"
     ]
    },
    {
     "name": "stderr",
     "output_type": "stream",
     "text": [
      "\r",
      " 80%|███████▉  | 627/785 [03:11<00:45,  3.51it/s]"
     ]
    },
    {
     "name": "stdout",
     "output_type": "stream",
     "text": [
      "Found 6 instances in image ring_rear_left_315978421417454696.jpg\n",
      "18025 keypoints deleted in total\n",
      "\n"
     ]
    },
    {
     "name": "stderr",
     "output_type": "stream",
     "text": [
      "\r",
      " 80%|████████  | 628/785 [03:12<00:44,  3.51it/s]"
     ]
    },
    {
     "name": "stdout",
     "output_type": "stream",
     "text": [
      "Found 6 instances in image ring_rear_left_315978421583954672.jpg\n",
      "18026 keypoints deleted in total\n",
      "\n"
     ]
    },
    {
     "name": "stderr",
     "output_type": "stream",
     "text": [
      "\r",
      " 80%|████████  | 629/785 [03:12<00:45,  3.45it/s]"
     ]
    },
    {
     "name": "stdout",
     "output_type": "stream",
     "text": [
      "Found 8 instances in image ring_rear_right_315978406032854176.jpg\n",
      "18087 keypoints deleted in total\n",
      "\n"
     ]
    },
    {
     "name": "stderr",
     "output_type": "stream",
     "text": [
      "\r",
      " 80%|████████  | 630/785 [03:12<00:46,  3.32it/s]"
     ]
    },
    {
     "name": "stdout",
     "output_type": "stream",
     "text": [
      "Found 9 instances in image ring_rear_right_315978406166053744.jpg\n",
      "18109 keypoints deleted in total\n",
      "\n"
     ]
    },
    {
     "name": "stderr",
     "output_type": "stream",
     "text": [
      "\r",
      " 80%|████████  | 631/785 [03:13<00:48,  3.15it/s]"
     ]
    },
    {
     "name": "stdout",
     "output_type": "stream",
     "text": [
      "Found 10 instances in image ring_rear_right_315978406199353568.jpg\n",
      "18200 keypoints deleted in total\n",
      "\n"
     ]
    },
    {
     "name": "stderr",
     "output_type": "stream",
     "text": [
      "\r",
      " 81%|████████  | 632/785 [03:13<00:48,  3.19it/s]"
     ]
    },
    {
     "name": "stdout",
     "output_type": "stream",
     "text": [
      "Found 9 instances in image ring_rear_right_315978406232653456.jpg\n",
      "18209 keypoints deleted in total\n",
      "\n"
     ]
    },
    {
     "name": "stderr",
     "output_type": "stream",
     "text": [
      "\r",
      " 81%|████████  | 633/785 [03:13<00:46,  3.24it/s]"
     ]
    },
    {
     "name": "stdout",
     "output_type": "stream",
     "text": [
      "Found 9 instances in image ring_rear_right_315978406265953344.jpg\n",
      "18217 keypoints deleted in total\n",
      "\n"
     ]
    },
    {
     "name": "stderr",
     "output_type": "stream",
     "text": [
      "\r",
      " 81%|████████  | 634/785 [03:14<00:46,  3.22it/s]"
     ]
    },
    {
     "name": "stdout",
     "output_type": "stream",
     "text": [
      "Found 10 instances in image ring_rear_right_315978406299253248.jpg\n",
      "18267 keypoints deleted in total\n",
      "\n"
     ]
    },
    {
     "name": "stderr",
     "output_type": "stream",
     "text": [
      "\r",
      " 81%|████████  | 635/785 [03:14<00:47,  3.13it/s]"
     ]
    },
    {
     "name": "stdout",
     "output_type": "stream",
     "text": [
      "Found 12 instances in image ring_rear_right_315978406365853544.jpg\n",
      "18359 keypoints deleted in total\n",
      "\n"
     ]
    },
    {
     "name": "stderr",
     "output_type": "stream",
     "text": [
      "\r",
      " 81%|████████  | 636/785 [03:14<00:47,  3.14it/s]"
     ]
    },
    {
     "name": "stdout",
     "output_type": "stream",
     "text": [
      "Found 10 instances in image ring_rear_right_315978406399153608.jpg\n",
      "18381 keypoints deleted in total\n",
      "\n"
     ]
    },
    {
     "name": "stderr",
     "output_type": "stream",
     "text": [
      "\r",
      " 81%|████████  | 637/785 [03:15<00:46,  3.21it/s]"
     ]
    },
    {
     "name": "stdout",
     "output_type": "stream",
     "text": [
      "Found 10 instances in image ring_rear_right_315978406499054088.jpg\n",
      "18413 keypoints deleted in total\n",
      "\n"
     ]
    },
    {
     "name": "stderr",
     "output_type": "stream",
     "text": [
      "\r",
      " 81%|████████▏ | 638/785 [03:15<00:45,  3.22it/s]"
     ]
    },
    {
     "name": "stdout",
     "output_type": "stream",
     "text": [
      "Found 10 instances in image ring_rear_right_315978406798755448.jpg\n",
      "18473 keypoints deleted in total\n",
      "\n"
     ]
    },
    {
     "name": "stderr",
     "output_type": "stream",
     "text": [
      "\r",
      " 81%|████████▏ | 639/785 [03:15<00:45,  3.22it/s]"
     ]
    },
    {
     "name": "stdout",
     "output_type": "stream",
     "text": [
      "Found 11 instances in image ring_rear_right_315978406832055616.jpg\n",
      "18492 keypoints deleted in total\n",
      "\n"
     ]
    },
    {
     "name": "stderr",
     "output_type": "stream",
     "text": [
      "\r",
      " 82%|████████▏ | 640/785 [03:15<00:43,  3.32it/s]"
     ]
    },
    {
     "name": "stdout",
     "output_type": "stream",
     "text": [
      "Found 8 instances in image ring_rear_right_315978406898655848.jpg\n",
      "18508 keypoints deleted in total\n",
      "\n"
     ]
    },
    {
     "name": "stderr",
     "output_type": "stream",
     "text": [
      "\r",
      " 82%|████████▏ | 641/785 [03:16<00:42,  3.37it/s]"
     ]
    },
    {
     "name": "stdout",
     "output_type": "stream",
     "text": [
      "Found 8 instances in image ring_rear_right_315978407098456728.jpg\n",
      "18566 keypoints deleted in total\n",
      "\n"
     ]
    },
    {
     "name": "stderr",
     "output_type": "stream",
     "text": [
      "\r",
      " 82%|████████▏ | 642/785 [03:16<00:41,  3.42it/s]"
     ]
    },
    {
     "name": "stdout",
     "output_type": "stream",
     "text": [
      "Found 8 instances in image ring_rear_right_315978407198357208.jpg\n",
      "18598 keypoints deleted in total\n",
      "\n"
     ]
    },
    {
     "name": "stderr",
     "output_type": "stream",
     "text": [
      "\r",
      " 82%|████████▏ | 643/785 [03:16<00:42,  3.35it/s]"
     ]
    },
    {
     "name": "stdout",
     "output_type": "stream",
     "text": [
      "Found 10 instances in image ring_rear_right_315978407231657376.jpg\n",
      "18620 keypoints deleted in total\n",
      "\n"
     ]
    },
    {
     "name": "stderr",
     "output_type": "stream",
     "text": [
      "\r",
      " 82%|████████▏ | 644/785 [03:17<00:41,  3.41it/s]"
     ]
    },
    {
     "name": "stdout",
     "output_type": "stream",
     "text": [
      "Found 8 instances in image ring_rear_right_315978407331557856.jpg\n",
      "18635 keypoints deleted in total\n",
      "\n"
     ]
    },
    {
     "name": "stderr",
     "output_type": "stream",
     "text": [
      "\r",
      " 82%|████████▏ | 645/785 [03:17<00:42,  3.33it/s]"
     ]
    },
    {
     "name": "stdout",
     "output_type": "stream",
     "text": [
      "Found 10 instances in image ring_rear_right_315978407498058568.jpg\n",
      "18673 keypoints deleted in total\n",
      "\n"
     ]
    },
    {
     "name": "stderr",
     "output_type": "stream",
     "text": [
      "\r",
      " 82%|████████▏ | 646/785 [03:17<00:42,  3.27it/s]"
     ]
    },
    {
     "name": "stdout",
     "output_type": "stream",
     "text": [
      "Found 10 instances in image ring_rear_right_315978407531358816.jpg\n",
      "18688 keypoints deleted in total\n",
      "\n"
     ]
    },
    {
     "name": "stderr",
     "output_type": "stream",
     "text": [
      "\r",
      " 82%|████████▏ | 647/785 [03:18<00:43,  3.19it/s]"
     ]
    },
    {
     "name": "stdout",
     "output_type": "stream",
     "text": [
      "Found 11 instances in image ring_rear_right_315978407564659064.jpg\n",
      "18711 keypoints deleted in total\n",
      "\n"
     ]
    },
    {
     "name": "stderr",
     "output_type": "stream",
     "text": [
      "\r",
      " 83%|████████▎ | 648/785 [03:18<00:42,  3.19it/s]"
     ]
    },
    {
     "name": "stdout",
     "output_type": "stream",
     "text": [
      "Found 10 instances in image ring_rear_right_315978407597959128.jpg\n",
      "18723 keypoints deleted in total\n",
      "\n"
     ]
    },
    {
     "name": "stderr",
     "output_type": "stream",
     "text": [
      "\r",
      " 83%|████████▎ | 649/785 [03:18<00:42,  3.19it/s]"
     ]
    },
    {
     "name": "stdout",
     "output_type": "stream",
     "text": [
      "Found 11 instances in image ring_rear_right_315978407631259296.jpg\n",
      "18744 keypoints deleted in total\n",
      "\n"
     ]
    },
    {
     "name": "stderr",
     "output_type": "stream",
     "text": [
      "\r",
      " 83%|████████▎ | 650/785 [03:19<00:42,  3.21it/s]"
     ]
    },
    {
     "name": "stdout",
     "output_type": "stream",
     "text": [
      "Found 9 instances in image ring_rear_right_315978407697859608.jpg\n",
      "18754 keypoints deleted in total\n",
      "\n"
     ]
    },
    {
     "name": "stderr",
     "output_type": "stream",
     "text": [
      "\r",
      " 83%|████████▎ | 651/785 [03:19<00:42,  3.16it/s]"
     ]
    },
    {
     "name": "stdout",
     "output_type": "stream",
     "text": [
      "Found 11 instances in image ring_rear_right_315978407764459920.jpg\n",
      "18773 keypoints deleted in total\n",
      "\n"
     ]
    },
    {
     "name": "stderr",
     "output_type": "stream",
     "text": [
      "\r",
      " 83%|████████▎ | 652/785 [03:19<00:43,  3.04it/s]"
     ]
    },
    {
     "name": "stdout",
     "output_type": "stream",
     "text": [
      "Found 13 instances in image ring_rear_right_315978407797760088.jpg\n",
      "18786 keypoints deleted in total\n",
      "\n"
     ]
    },
    {
     "name": "stderr",
     "output_type": "stream",
     "text": [
      "\r",
      " 83%|████████▎ | 653/785 [03:20<00:45,  2.87it/s]"
     ]
    },
    {
     "name": "stdout",
     "output_type": "stream",
     "text": [
      "Found 15 instances in image ring_rear_right_315978407831059920.jpg\n",
      "18801 keypoints deleted in total\n",
      "\n"
     ]
    },
    {
     "name": "stderr",
     "output_type": "stream",
     "text": [
      "\r",
      " 83%|████████▎ | 654/785 [03:20<00:44,  2.94it/s]"
     ]
    },
    {
     "name": "stdout",
     "output_type": "stream",
     "text": [
      "Found 10 instances in image ring_rear_right_315978407964259216.jpg\n",
      "18812 keypoints deleted in total\n",
      "\n"
     ]
    },
    {
     "name": "stderr",
     "output_type": "stream",
     "text": [
      "\r",
      " 83%|████████▎ | 655/785 [03:20<00:44,  2.93it/s]"
     ]
    },
    {
     "name": "stdout",
     "output_type": "stream",
     "text": [
      "Found 12 instances in image ring_rear_right_315978407997559128.jpg\n",
      "18822 keypoints deleted in total\n",
      "\n"
     ]
    },
    {
     "name": "stderr",
     "output_type": "stream",
     "text": [
      "\r",
      " 84%|████████▎ | 656/785 [03:21<00:43,  2.95it/s]"
     ]
    },
    {
     "name": "stdout",
     "output_type": "stream",
     "text": [
      "Found 10 instances in image ring_rear_right_315978408030858960.jpg\n",
      "18831 keypoints deleted in total\n",
      "\n"
     ]
    },
    {
     "name": "stderr",
     "output_type": "stream",
     "text": [
      "\r",
      " 84%|████████▎ | 657/785 [03:21<00:42,  3.01it/s]"
     ]
    },
    {
     "name": "stdout",
     "output_type": "stream",
     "text": [
      "Found 10 instances in image ring_rear_right_315978408064158736.jpg\n",
      "18834 keypoints deleted in total\n",
      "\n"
     ]
    },
    {
     "name": "stderr",
     "output_type": "stream",
     "text": [
      "\r",
      " 84%|████████▍ | 658/785 [03:21<00:45,  2.79it/s]"
     ]
    },
    {
     "name": "stdout",
     "output_type": "stream",
     "text": [
      "Found 10 instances in image ring_rear_right_315978408097458568.jpg\n",
      "18848 keypoints deleted in total\n",
      "\n"
     ]
    },
    {
     "name": "stderr",
     "output_type": "stream",
     "text": [
      "\r",
      " 84%|████████▍ | 659/785 [03:22<00:43,  2.89it/s]"
     ]
    },
    {
     "name": "stdout",
     "output_type": "stream",
     "text": [
      "Found 12 instances in image ring_rear_right_315978408164058256.jpg\n",
      "18855 keypoints deleted in total\n",
      "\n"
     ]
    },
    {
     "name": "stderr",
     "output_type": "stream",
     "text": [
      "\r",
      " 84%|████████▍ | 660/785 [03:22<00:42,  2.93it/s]"
     ]
    },
    {
     "name": "stdout",
     "output_type": "stream",
     "text": [
      "Found 10 instances in image ring_rear_right_315978408230657920.jpg\n",
      "18861 keypoints deleted in total\n",
      "\n"
     ]
    },
    {
     "name": "stderr",
     "output_type": "stream",
     "text": [
      "\r",
      " 84%|████████▍ | 661/785 [03:22<00:42,  2.90it/s]"
     ]
    },
    {
     "name": "stdout",
     "output_type": "stream",
     "text": [
      "Found 11 instances in image ring_rear_right_315978408397157048.jpg\n",
      "18874 keypoints deleted in total\n",
      "\n"
     ]
    },
    {
     "name": "stderr",
     "output_type": "stream",
     "text": [
      "\r",
      " 84%|████████▍ | 662/785 [03:23<00:42,  2.92it/s]"
     ]
    },
    {
     "name": "stdout",
     "output_type": "stream",
     "text": [
      "Found 9 instances in image ring_rear_right_315978408497056568.jpg\n",
      "18888 keypoints deleted in total\n",
      "\n"
     ]
    },
    {
     "name": "stderr",
     "output_type": "stream",
     "text": [
      "\r",
      " 84%|████████▍ | 663/785 [03:23<00:40,  2.99it/s]"
     ]
    },
    {
     "name": "stdout",
     "output_type": "stream",
     "text": [
      "Found 8 instances in image ring_rear_right_315978408563656176.jpg\n",
      "18894 keypoints deleted in total\n",
      "\n"
     ]
    },
    {
     "name": "stderr",
     "output_type": "stream",
     "text": [
      "\r",
      " 85%|████████▍ | 664/785 [03:23<00:40,  3.02it/s]"
     ]
    },
    {
     "name": "stdout",
     "output_type": "stream",
     "text": [
      "Found 9 instances in image ring_rear_right_315978408596956008.jpg\n",
      "18901 keypoints deleted in total\n",
      "\n"
     ]
    },
    {
     "name": "stderr",
     "output_type": "stream",
     "text": [
      "\r",
      " 85%|████████▍ | 665/785 [03:24<00:38,  3.08it/s]"
     ]
    },
    {
     "name": "stdout",
     "output_type": "stream",
     "text": [
      "Found 8 instances in image ring_rear_right_315978408796755048.jpg\n",
      "18902 keypoints deleted in total\n",
      "\n"
     ]
    },
    {
     "name": "stderr",
     "output_type": "stream",
     "text": [
      "\r",
      " 85%|████████▍ | 666/785 [03:24<00:36,  3.26it/s]"
     ]
    },
    {
     "name": "stdout",
     "output_type": "stream",
     "text": [
      "Found 5 instances in image ring_rear_right_315978408863354656.jpg\n",
      "18903 keypoints deleted in total\n",
      "\n"
     ]
    },
    {
     "name": "stderr",
     "output_type": "stream",
     "text": [
      "\r",
      " 85%|████████▍ | 667/785 [03:24<00:36,  3.21it/s]"
     ]
    },
    {
     "name": "stdout",
     "output_type": "stream",
     "text": [
      "Found 8 instances in image ring_rear_right_315978408929954320.jpg\n",
      "18913 keypoints deleted in total\n",
      "\n"
     ]
    },
    {
     "name": "stderr",
     "output_type": "stream",
     "text": [
      "\r",
      " 85%|████████▌ | 668/785 [03:25<00:35,  3.27it/s]"
     ]
    },
    {
     "name": "stdout",
     "output_type": "stream",
     "text": [
      "Found 5 instances in image ring_rear_right_315978409096453448.jpg\n",
      "18918 keypoints deleted in total\n",
      "\n"
     ]
    },
    {
     "name": "stderr",
     "output_type": "stream",
     "text": [
      "\r",
      " 85%|████████▌ | 669/785 [03:25<00:34,  3.32it/s]"
     ]
    },
    {
     "name": "stdout",
     "output_type": "stream",
     "text": [
      "Found 5 instances in image ring_rear_right_315978409129753360.jpg\n",
      "18922 keypoints deleted in total\n",
      "\n"
     ]
    },
    {
     "name": "stderr",
     "output_type": "stream",
     "text": [
      "\r",
      " 85%|████████▌ | 670/785 [03:25<00:34,  3.36it/s]"
     ]
    },
    {
     "name": "stdout",
     "output_type": "stream",
     "text": [
      "Found 5 instances in image ring_rear_right_315978409163053136.jpg\n",
      "18923 keypoints deleted in total\n",
      "\n"
     ]
    },
    {
     "name": "stderr",
     "output_type": "stream",
     "text": [
      "\r",
      " 85%|████████▌ | 671/785 [03:25<00:33,  3.41it/s]"
     ]
    },
    {
     "name": "stdout",
     "output_type": "stream",
     "text": [
      "Found 5 instances in image ring_rear_right_315978409196352968.jpg\n",
      "18924 keypoints deleted in total\n",
      "\n"
     ]
    },
    {
     "name": "stderr",
     "output_type": "stream",
     "text": [
      "\r",
      " 86%|████████▌ | 672/785 [03:26<00:33,  3.33it/s]"
     ]
    },
    {
     "name": "stdout",
     "output_type": "stream",
     "text": [
      "Found 6 instances in image ring_rear_right_315978409296252488.jpg\n",
      "18928 keypoints deleted in total\n",
      "\n"
     ]
    },
    {
     "name": "stderr",
     "output_type": "stream",
     "text": [
      "\r",
      " 86%|████████▌ | 673/785 [03:26<00:33,  3.39it/s]"
     ]
    },
    {
     "name": "stdout",
     "output_type": "stream",
     "text": [
      "Found 5 instances in image ring_rear_right_315978409496053368.jpg\n",
      "18929 keypoints deleted in total\n",
      "\n"
     ]
    },
    {
     "name": "stderr",
     "output_type": "stream",
     "text": [
      "\r",
      " 86%|████████▌ | 674/785 [03:26<00:33,  3.34it/s]"
     ]
    },
    {
     "name": "stdout",
     "output_type": "stream",
     "text": [
      "Found 6 instances in image ring_rear_right_315978409662554080.jpg\n",
      "19006 keypoints deleted in total\n",
      "\n"
     ]
    },
    {
     "name": "stderr",
     "output_type": "stream",
     "text": [
      "\r",
      " 86%|████████▌ | 675/785 [03:27<00:32,  3.38it/s]"
     ]
    },
    {
     "name": "stdout",
     "output_type": "stream",
     "text": [
      "Found 6 instances in image ring_rear_right_315978409895655128.jpg\n",
      "19140 keypoints deleted in total\n",
      "\n"
     ]
    },
    {
     "name": "stderr",
     "output_type": "stream",
     "text": [
      "\r",
      " 86%|████████▌ | 676/785 [03:27<00:31,  3.48it/s]"
     ]
    },
    {
     "name": "stdout",
     "output_type": "stream",
     "text": [
      "Found 7 instances in image ring_rear_right_315978410195356488.jpg\n",
      "19200 keypoints deleted in total\n",
      "\n"
     ]
    },
    {
     "name": "stderr",
     "output_type": "stream",
     "text": [
      "\r",
      " 86%|████████▌ | 677/785 [03:27<00:30,  3.49it/s]"
     ]
    },
    {
     "name": "stdout",
     "output_type": "stream",
     "text": [
      "Found 6 instances in image ring_rear_right_315978410228656552.jpg\n",
      "19222 keypoints deleted in total\n",
      "\n"
     ]
    },
    {
     "name": "stderr",
     "output_type": "stream",
     "text": [
      "\r",
      " 86%|████████▋ | 678/785 [03:27<00:30,  3.50it/s]"
     ]
    },
    {
     "name": "stdout",
     "output_type": "stream",
     "text": [
      "Found 6 instances in image ring_rear_right_315978410295256888.jpg\n",
      "19238 keypoints deleted in total\n",
      "\n"
     ]
    },
    {
     "name": "stderr",
     "output_type": "stream",
     "text": [
      "\r",
      " 86%|████████▋ | 679/785 [03:28<00:28,  3.66it/s]"
     ]
    },
    {
     "name": "stdout",
     "output_type": "stream",
     "text": [
      "Found 5 instances in image ring_rear_right_315978410428457432.jpg\n",
      "19253 keypoints deleted in total\n",
      "\n"
     ]
    },
    {
     "name": "stderr",
     "output_type": "stream",
     "text": [
      "\r",
      " 87%|████████▋ | 680/785 [03:28<00:27,  3.79it/s]"
     ]
    },
    {
     "name": "stdout",
     "output_type": "stream",
     "text": [
      "Found 4 instances in image ring_rear_right_315978410495057848.jpg\n",
      "19262 keypoints deleted in total\n",
      "\n"
     ]
    },
    {
     "name": "stderr",
     "output_type": "stream",
     "text": [
      "\r",
      " 87%|████████▋ | 681/785 [03:28<00:26,  3.89it/s]"
     ]
    },
    {
     "name": "stdout",
     "output_type": "stream",
     "text": [
      "Found 4 instances in image ring_rear_right_315978410561658080.jpg\n",
      "19279 keypoints deleted in total\n",
      "\n"
     ]
    },
    {
     "name": "stderr",
     "output_type": "stream",
     "text": [
      "\r",
      " 87%|████████▋ | 682/785 [03:28<00:26,  3.95it/s]"
     ]
    },
    {
     "name": "stdout",
     "output_type": "stream",
     "text": [
      "Found 4 instances in image ring_rear_right_315978410594958248.jpg\n",
      "19288 keypoints deleted in total\n",
      "\n"
     ]
    },
    {
     "name": "stderr",
     "output_type": "stream",
     "text": [
      "\r",
      " 87%|████████▋ | 683/785 [03:29<00:26,  3.88it/s]"
     ]
    },
    {
     "name": "stdout",
     "output_type": "stream",
     "text": [
      "Found 5 instances in image ring_rear_right_315978410628258392.jpg\n",
      "19294 keypoints deleted in total\n",
      "\n"
     ]
    },
    {
     "name": "stderr",
     "output_type": "stream",
     "text": [
      "\r",
      " 87%|████████▋ | 684/785 [03:29<00:26,  3.86it/s]"
     ]
    },
    {
     "name": "stdout",
     "output_type": "stream",
     "text": [
      "Found 5 instances in image ring_rear_right_315978410661558560.jpg\n",
      "19297 keypoints deleted in total\n",
      "\n"
     ]
    },
    {
     "name": "stderr",
     "output_type": "stream",
     "text": [
      "\r",
      " 87%|████████▋ | 685/785 [03:29<00:25,  3.90it/s]"
     ]
    },
    {
     "name": "stdout",
     "output_type": "stream",
     "text": [
      "Found 4 instances in image ring_rear_right_315978410728158792.jpg\n",
      "19301 keypoints deleted in total\n",
      "\n"
     ]
    },
    {
     "name": "stderr",
     "output_type": "stream",
     "text": [
      "\r",
      " 87%|████████▋ | 686/785 [03:29<00:24,  3.97it/s]"
     ]
    },
    {
     "name": "stdout",
     "output_type": "stream",
     "text": [
      "Found 5 instances in image ring_rear_right_315978410828058936.jpg\n",
      "19305 keypoints deleted in total\n",
      "\n"
     ]
    },
    {
     "name": "stderr",
     "output_type": "stream",
     "text": [
      "\r",
      " 88%|████████▊ | 687/785 [03:30<00:24,  4.00it/s]"
     ]
    },
    {
     "name": "stdout",
     "output_type": "stream",
     "text": [
      "Found 6 instances in image ring_rear_right_315978411127757416.jpg\n",
      "19306 keypoints deleted in total\n",
      "\n"
     ]
    },
    {
     "name": "stderr",
     "output_type": "stream",
     "text": [
      "\r",
      " 88%|████████▊ | 688/785 [03:30<00:24,  4.02it/s]"
     ]
    },
    {
     "name": "stdout",
     "output_type": "stream",
     "text": [
      "Found 5 instances in image ring_rear_right_315978411460755728.jpg\n",
      "19367 keypoints deleted in total\n",
      "\n"
     ]
    },
    {
     "name": "stderr",
     "output_type": "stream",
     "text": [
      "\r",
      " 88%|████████▊ | 689/785 [03:30<00:24,  3.93it/s]"
     ]
    },
    {
     "name": "stdout",
     "output_type": "stream",
     "text": [
      "Found 8 instances in image ring_rear_right_315978411494055504.jpg\n",
      "19387 keypoints deleted in total\n",
      "\n"
     ]
    },
    {
     "name": "stderr",
     "output_type": "stream",
     "text": [
      "\r",
      " 88%|████████▊ | 690/785 [03:30<00:24,  3.86it/s]"
     ]
    },
    {
     "name": "stdout",
     "output_type": "stream",
     "text": [
      "Found 8 instances in image ring_rear_right_315978411560655168.jpg\n",
      "19398 keypoints deleted in total\n",
      "\n"
     ]
    },
    {
     "name": "stderr",
     "output_type": "stream",
     "text": [
      "\r",
      " 88%|████████▊ | 691/785 [03:31<00:24,  3.85it/s]"
     ]
    },
    {
     "name": "stdout",
     "output_type": "stream",
     "text": [
      "Found 7 instances in image ring_rear_right_315978411793753984.jpg\n",
      "19653 keypoints deleted in total\n",
      "\n"
     ]
    },
    {
     "name": "stderr",
     "output_type": "stream",
     "text": [
      "\r",
      " 88%|████████▊ | 692/785 [03:31<00:23,  3.88it/s]"
     ]
    },
    {
     "name": "stdout",
     "output_type": "stream",
     "text": [
      "Found 7 instances in image ring_rear_right_315978411827053816.jpg\n",
      "19724 keypoints deleted in total\n",
      "\n"
     ]
    },
    {
     "name": "stderr",
     "output_type": "stream",
     "text": [
      "\r",
      " 88%|████████▊ | 693/785 [03:31<00:23,  3.94it/s]"
     ]
    },
    {
     "name": "stdout",
     "output_type": "stream",
     "text": [
      "Found 6 instances in image ring_rear_right_315978411860353648.jpg\n",
      "19788 keypoints deleted in total\n",
      "\n"
     ]
    },
    {
     "name": "stderr",
     "output_type": "stream",
     "text": [
      "\r",
      " 88%|████████▊ | 694/785 [03:31<00:22,  3.99it/s]"
     ]
    },
    {
     "name": "stdout",
     "output_type": "stream",
     "text": [
      "Found 5 instances in image ring_rear_right_315978412026852776.jpg\n",
      "19852 keypoints deleted in total\n",
      "\n"
     ]
    },
    {
     "name": "stderr",
     "output_type": "stream",
     "text": [
      "\r",
      " 89%|████████▊ | 695/785 [03:32<00:22,  3.98it/s]"
     ]
    },
    {
     "name": "stdout",
     "output_type": "stream",
     "text": [
      "Found 6 instances in image ring_rear_right_315978412126752216.jpg\n",
      "19882 keypoints deleted in total\n",
      "\n"
     ]
    },
    {
     "name": "stderr",
     "output_type": "stream",
     "text": [
      "\r",
      " 89%|████████▊ | 696/785 [03:32<00:22,  3.97it/s]"
     ]
    },
    {
     "name": "stdout",
     "output_type": "stream",
     "text": [
      "Found 6 instances in image ring_rear_right_315978412160052128.jpg\n",
      "19896 keypoints deleted in total\n",
      "\n"
     ]
    },
    {
     "name": "stderr",
     "output_type": "stream",
     "text": [
      "\r",
      " 89%|████████▉ | 697/785 [03:32<00:22,  3.97it/s]"
     ]
    },
    {
     "name": "stdout",
     "output_type": "stream",
     "text": [
      "Found 6 instances in image ring_rear_right_315978412393151984.jpg\n",
      "19920 keypoints deleted in total\n",
      "\n"
     ]
    },
    {
     "name": "stderr",
     "output_type": "stream",
     "text": [
      "\r",
      " 89%|████████▉ | 698/785 [03:32<00:21,  4.02it/s]"
     ]
    },
    {
     "name": "stdout",
     "output_type": "stream",
     "text": [
      "Found 5 instances in image ring_rear_right_315978412526352768.jpg\n",
      "19936 keypoints deleted in total\n",
      "\n"
     ]
    },
    {
     "name": "stderr",
     "output_type": "stream",
     "text": [
      "\r",
      " 89%|████████▉ | 699/785 [03:33<00:21,  3.98it/s]"
     ]
    },
    {
     "name": "stdout",
     "output_type": "stream",
     "text": [
      "Found 7 instances in image ring_rear_right_315978412559652960.jpg\n",
      "19943 keypoints deleted in total\n",
      "\n"
     ]
    },
    {
     "name": "stderr",
     "output_type": "stream",
     "text": [
      "\r",
      " 89%|████████▉ | 700/785 [03:33<00:21,  3.99it/s]"
     ]
    },
    {
     "name": "stdout",
     "output_type": "stream",
     "text": [
      "Found 6 instances in image ring_rear_right_315978412626253408.jpg\n",
      "19956 keypoints deleted in total\n",
      "\n"
     ]
    },
    {
     "name": "stderr",
     "output_type": "stream",
     "text": [
      "\r",
      " 89%|████████▉ | 701/785 [03:33<00:20,  4.01it/s]"
     ]
    },
    {
     "name": "stdout",
     "output_type": "stream",
     "text": [
      "Found 7 instances in image ring_rear_right_315978412726153968.jpg\n",
      "19967 keypoints deleted in total\n",
      "\n"
     ]
    },
    {
     "name": "stderr",
     "output_type": "stream",
     "text": [
      "\r",
      " 89%|████████▉ | 702/785 [03:33<00:21,  3.92it/s]"
     ]
    },
    {
     "name": "stdout",
     "output_type": "stream",
     "text": [
      "Found 9 instances in image ring_rear_right_315978412959255280.jpg\n",
      "20183 keypoints deleted in total\n",
      "\n"
     ]
    },
    {
     "name": "stderr",
     "output_type": "stream",
     "text": [
      "\r",
      " 90%|████████▉ | 703/785 [03:34<00:21,  3.87it/s]"
     ]
    },
    {
     "name": "stdout",
     "output_type": "stream",
     "text": [
      "Found 9 instances in image ring_rear_right_315978412992555584.jpg\n",
      "20229 keypoints deleted in total\n",
      "\n"
     ]
    },
    {
     "name": "stderr",
     "output_type": "stream",
     "text": [
      "\r",
      " 90%|████████▉ | 704/785 [03:34<00:20,  3.87it/s]"
     ]
    },
    {
     "name": "stdout",
     "output_type": "stream",
     "text": [
      "Found 9 instances in image ring_rear_right_315978413092456144.jpg\n",
      "20353 keypoints deleted in total\n",
      "\n"
     ]
    },
    {
     "name": "stderr",
     "output_type": "stream",
     "text": [
      "\r",
      " 90%|████████▉ | 705/785 [03:34<00:21,  3.74it/s]"
     ]
    },
    {
     "name": "stdout",
     "output_type": "stream",
     "text": [
      "Found 11 instances in image ring_rear_right_315978413225657008.jpg\n",
      "20506 keypoints deleted in total\n",
      "\n"
     ]
    },
    {
     "name": "stderr",
     "output_type": "stream",
     "text": [
      "\r",
      " 90%|████████▉ | 706/785 [03:35<00:21,  3.62it/s]"
     ]
    },
    {
     "name": "stdout",
     "output_type": "stream",
     "text": [
      "Found 12 instances in image ring_rear_right_315978413358857760.jpg\n",
      "20597 keypoints deleted in total\n",
      "\n"
     ]
    },
    {
     "name": "stderr",
     "output_type": "stream",
     "text": [
      "\r",
      " 90%|█████████ | 707/785 [03:35<00:21,  3.56it/s]"
     ]
    },
    {
     "name": "stdout",
     "output_type": "stream",
     "text": [
      "Found 11 instances in image ring_rear_right_315978413425458208.jpg\n",
      "20657 keypoints deleted in total\n",
      "\n"
     ]
    },
    {
     "name": "stderr",
     "output_type": "stream",
     "text": [
      "\r",
      " 90%|█████████ | 708/785 [03:35<00:21,  3.54it/s]"
     ]
    },
    {
     "name": "stdout",
     "output_type": "stream",
     "text": [
      "Found 10 instances in image ring_rear_right_315978413492058544.jpg\n",
      "20708 keypoints deleted in total\n",
      "\n"
     ]
    },
    {
     "name": "stderr",
     "output_type": "stream",
     "text": [
      "\r",
      " 90%|█████████ | 709/785 [03:35<00:22,  3.32it/s]"
     ]
    },
    {
     "name": "stdout",
     "output_type": "stream",
     "text": [
      "Found 9 instances in image ring_rear_right_315978413525358768.jpg\n",
      "20745 keypoints deleted in total\n",
      "\n"
     ]
    },
    {
     "name": "stderr",
     "output_type": "stream",
     "text": [
      "\r",
      " 90%|█████████ | 710/785 [03:36<00:22,  3.28it/s]"
     ]
    },
    {
     "name": "stdout",
     "output_type": "stream",
     "text": [
      "Found 9 instances in image ring_rear_right_315978413558658880.jpg\n",
      "20772 keypoints deleted in total\n",
      "\n"
     ]
    },
    {
     "name": "stderr",
     "output_type": "stream",
     "text": [
      "\r",
      " 91%|█████████ | 711/785 [03:36<00:22,  3.31it/s]"
     ]
    },
    {
     "name": "stdout",
     "output_type": "stream",
     "text": [
      "Found 9 instances in image ring_rear_right_315978413625259408.jpg\n",
      "20805 keypoints deleted in total\n",
      "\n"
     ]
    },
    {
     "name": "stderr",
     "output_type": "stream",
     "text": [
      "\r",
      " 91%|█████████ | 712/785 [03:37<00:24,  2.95it/s]"
     ]
    },
    {
     "name": "stdout",
     "output_type": "stream",
     "text": [
      "Found 10 instances in image ring_rear_right_315978413725159968.jpg\n",
      "20842 keypoints deleted in total\n",
      "\n"
     ]
    },
    {
     "name": "stderr",
     "output_type": "stream",
     "text": [
      "\r",
      " 91%|█████████ | 713/785 [03:37<00:23,  3.12it/s]"
     ]
    },
    {
     "name": "stdout",
     "output_type": "stream",
     "text": [
      "Found 9 instances in image ring_rear_right_315978413825060096.jpg\n",
      "20870 keypoints deleted in total\n",
      "\n"
     ]
    },
    {
     "name": "stderr",
     "output_type": "stream",
     "text": [
      "\r",
      " 91%|█████████ | 714/785 [03:37<00:22,  3.19it/s]"
     ]
    },
    {
     "name": "stdout",
     "output_type": "stream",
     "text": [
      "Found 11 instances in image ring_rear_right_315978413891659600.jpg\n",
      "20893 keypoints deleted in total\n",
      "\n"
     ]
    },
    {
     "name": "stderr",
     "output_type": "stream",
     "text": [
      "\r",
      " 91%|█████████ | 715/785 [03:37<00:21,  3.25it/s]"
     ]
    },
    {
     "name": "stdout",
     "output_type": "stream",
     "text": [
      "Found 9 instances in image ring_rear_right_315978414058158464.jpg\n",
      "20938 keypoints deleted in total\n",
      "\n"
     ]
    },
    {
     "name": "stderr",
     "output_type": "stream",
     "text": [
      "\r",
      " 91%|█████████ | 716/785 [03:38<00:21,  3.24it/s]"
     ]
    },
    {
     "name": "stdout",
     "output_type": "stream",
     "text": [
      "Found 10 instances in image ring_rear_right_315978414158057744.jpg\n",
      "21026 keypoints deleted in total\n",
      "\n"
     ]
    },
    {
     "name": "stderr",
     "output_type": "stream",
     "text": [
      "\r",
      " 91%|█████████▏| 717/785 [03:38<00:21,  3.16it/s]"
     ]
    },
    {
     "name": "stdout",
     "output_type": "stream",
     "text": [
      "Found 14 instances in image ring_rear_right_315978414224657376.jpg\n",
      "21065 keypoints deleted in total\n",
      "\n"
     ]
    },
    {
     "name": "stderr",
     "output_type": "stream",
     "text": [
      "\r",
      " 91%|█████████▏| 718/785 [03:38<00:21,  3.11it/s]"
     ]
    },
    {
     "name": "stdout",
     "output_type": "stream",
     "text": [
      "Found 14 instances in image ring_rear_right_315978414324556608.jpg\n",
      "21125 keypoints deleted in total\n",
      "\n"
     ]
    },
    {
     "name": "stderr",
     "output_type": "stream",
     "text": [
      "\r",
      " 92%|█████████▏| 719/785 [03:39<00:21,  3.12it/s]"
     ]
    },
    {
     "name": "stdout",
     "output_type": "stream",
     "text": [
      "Found 13 instances in image ring_rear_right_315978414424455968.jpg\n",
      "21168 keypoints deleted in total\n",
      "\n"
     ]
    },
    {
     "name": "stderr",
     "output_type": "stream",
     "text": [
      "\r",
      " 92%|█████████▏| 720/785 [03:39<00:20,  3.15it/s]"
     ]
    },
    {
     "name": "stdout",
     "output_type": "stream",
     "text": [
      "Found 14 instances in image ring_rear_right_315978414491055520.jpg\n",
      "21201 keypoints deleted in total\n",
      "\n"
     ]
    },
    {
     "name": "stderr",
     "output_type": "stream",
     "text": [
      "\r",
      " 92%|█████████▏| 721/785 [03:39<00:20,  3.19it/s]"
     ]
    },
    {
     "name": "stdout",
     "output_type": "stream",
     "text": [
      "Found 13 instances in image ring_rear_right_315978414824053328.jpg\n",
      "21304 keypoints deleted in total\n",
      "\n"
     ]
    },
    {
     "name": "stderr",
     "output_type": "stream",
     "text": [
      "\r",
      " 92%|█████████▏| 722/785 [03:40<00:19,  3.16it/s]"
     ]
    },
    {
     "name": "stdout",
     "output_type": "stream",
     "text": [
      "Found 12 instances in image ring_rear_right_315978415023851968.jpg\n",
      "21391 keypoints deleted in total\n",
      "\n"
     ]
    },
    {
     "name": "stderr",
     "output_type": "stream",
     "text": [
      "\r",
      " 92%|█████████▏| 723/785 [03:40<00:19,  3.11it/s]"
     ]
    },
    {
     "name": "stdout",
     "output_type": "stream",
     "text": [
      "Found 11 instances in image ring_rear_right_315978415390151032.jpg\n",
      "21530 keypoints deleted in total\n",
      "\n"
     ]
    },
    {
     "name": "stderr",
     "output_type": "stream",
     "text": [
      "\r",
      " 92%|█████████▏| 724/785 [03:40<00:20,  3.03it/s]"
     ]
    },
    {
     "name": "stdout",
     "output_type": "stream",
     "text": [
      "Found 12 instances in image ring_rear_right_315978415456751472.jpg\n",
      "21576 keypoints deleted in total\n",
      "\n"
     ]
    },
    {
     "name": "stderr",
     "output_type": "stream",
     "text": [
      "\r",
      " 92%|█████████▏| 725/785 [03:41<00:20,  2.96it/s]"
     ]
    },
    {
     "name": "stdout",
     "output_type": "stream",
     "text": [
      "Found 12 instances in image ring_rear_right_315978415656552992.jpg\n",
      "21686 keypoints deleted in total\n",
      "\n"
     ]
    },
    {
     "name": "stderr",
     "output_type": "stream",
     "text": [
      "\r",
      " 92%|█████████▏| 726/785 [03:41<00:20,  2.88it/s]"
     ]
    },
    {
     "name": "stdout",
     "output_type": "stream",
     "text": [
      "Found 12 instances in image ring_rear_right_315978415723153512.jpg\n",
      "21741 keypoints deleted in total\n",
      "\n"
     ]
    },
    {
     "name": "stderr",
     "output_type": "stream",
     "text": [
      "\r",
      " 93%|█████████▎| 727/785 [03:41<00:20,  2.83it/s]"
     ]
    },
    {
     "name": "stdout",
     "output_type": "stream",
     "text": [
      "Found 12 instances in image ring_rear_right_315978415856354592.jpg\n",
      "21861 keypoints deleted in total\n",
      "\n"
     ]
    },
    {
     "name": "stderr",
     "output_type": "stream",
     "text": [
      "\r",
      " 93%|█████████▎| 728/785 [03:42<00:20,  2.79it/s]"
     ]
    },
    {
     "name": "stdout",
     "output_type": "stream",
     "text": [
      "Found 12 instances in image ring_rear_right_315978415889654872.jpg\n",
      "21906 keypoints deleted in total\n",
      "\n"
     ]
    },
    {
     "name": "stderr",
     "output_type": "stream",
     "text": [
      "\r",
      " 93%|█████████▎| 729/785 [03:42<00:20,  2.74it/s]"
     ]
    },
    {
     "name": "stdout",
     "output_type": "stream",
     "text": [
      "Found 12 instances in image ring_rear_right_315978415922955032.jpg\n",
      "21952 keypoints deleted in total\n",
      "\n"
     ]
    },
    {
     "name": "stderr",
     "output_type": "stream",
     "text": [
      "\r",
      " 93%|█████████▎| 730/785 [03:43<00:20,  2.71it/s]"
     ]
    },
    {
     "name": "stdout",
     "output_type": "stream",
     "text": [
      "Found 11 instances in image ring_rear_right_315978416022855832.jpg\n",
      "22027 keypoints deleted in total\n",
      "\n"
     ]
    },
    {
     "name": "stderr",
     "output_type": "stream",
     "text": [
      "\r",
      " 93%|█████████▎| 731/785 [03:43<00:19,  2.73it/s]"
     ]
    },
    {
     "name": "stdout",
     "output_type": "stream",
     "text": [
      "Found 11 instances in image ring_rear_right_315978416089456272.jpg\n",
      "22087 keypoints deleted in total\n",
      "\n"
     ]
    },
    {
     "name": "stderr",
     "output_type": "stream",
     "text": [
      "\r",
      " 93%|█████████▎| 732/785 [03:43<00:19,  2.77it/s]"
     ]
    },
    {
     "name": "stdout",
     "output_type": "stream",
     "text": [
      "Found 10 instances in image ring_rear_right_315978416122756552.jpg\n",
      "22115 keypoints deleted in total\n",
      "\n"
     ]
    },
    {
     "name": "stderr",
     "output_type": "stream",
     "text": [
      "\r",
      " 93%|█████████▎| 733/785 [03:44<00:18,  2.84it/s]"
     ]
    },
    {
     "name": "stdout",
     "output_type": "stream",
     "text": [
      "Found 9 instances in image ring_rear_right_315978416156056912.jpg\n",
      "22146 keypoints deleted in total\n",
      "\n"
     ]
    },
    {
     "name": "stderr",
     "output_type": "stream",
     "text": [
      "\r",
      " 94%|█████████▎| 734/785 [03:44<00:18,  2.83it/s]"
     ]
    },
    {
     "name": "stdout",
     "output_type": "stream",
     "text": [
      "Found 10 instances in image ring_rear_right_315978416355858432.jpg\n",
      "22275 keypoints deleted in total\n",
      "\n"
     ]
    },
    {
     "name": "stderr",
     "output_type": "stream",
     "text": [
      "\r",
      " 94%|█████████▎| 735/785 [03:44<00:17,  2.86it/s]"
     ]
    },
    {
     "name": "stdout",
     "output_type": "stream",
     "text": [
      "Found 10 instances in image ring_rear_right_315978416489059312.jpg\n",
      "22369 keypoints deleted in total\n",
      "\n"
     ]
    },
    {
     "name": "stderr",
     "output_type": "stream",
     "text": [
      "\r",
      " 94%|█████████▍| 736/785 [03:45<00:16,  2.89it/s]"
     ]
    },
    {
     "name": "stdout",
     "output_type": "stream",
     "text": [
      "Found 9 instances in image ring_rear_right_315978416622260392.jpg\n",
      "22442 keypoints deleted in total\n",
      "\n"
     ]
    },
    {
     "name": "stderr",
     "output_type": "stream",
     "text": [
      "\r",
      " 94%|█████████▍| 737/785 [03:45<00:16,  2.83it/s]"
     ]
    },
    {
     "name": "stdout",
     "output_type": "stream",
     "text": [
      "Found 10 instances in image ring_rear_right_315978416755461472.jpg\n",
      "22493 keypoints deleted in total\n",
      "\n"
     ]
    },
    {
     "name": "stderr",
     "output_type": "stream",
     "text": [
      "\r",
      " 94%|█████████▍| 738/785 [03:45<00:16,  2.79it/s]"
     ]
    },
    {
     "name": "stdout",
     "output_type": "stream",
     "text": [
      "Found 10 instances in image ring_rear_right_315978416822061336.jpg\n",
      "22530 keypoints deleted in total\n",
      "\n"
     ]
    },
    {
     "name": "stderr",
     "output_type": "stream",
     "text": [
      "\r",
      " 94%|█████████▍| 739/785 [03:46<00:16,  2.86it/s]"
     ]
    },
    {
     "name": "stdout",
     "output_type": "stream",
     "text": [
      "Found 9 instances in image ring_rear_right_315978416855361112.jpg\n",
      "22543 keypoints deleted in total\n",
      "\n"
     ]
    },
    {
     "name": "stderr",
     "output_type": "stream",
     "text": [
      "\r",
      " 94%|█████████▍| 740/785 [03:46<00:16,  2.81it/s]"
     ]
    },
    {
     "name": "stdout",
     "output_type": "stream",
     "text": [
      "Found 10 instances in image ring_rear_right_315978416888660840.jpg\n",
      "22559 keypoints deleted in total\n",
      "\n"
     ]
    },
    {
     "name": "stderr",
     "output_type": "stream",
     "text": [
      "\r",
      " 94%|█████████▍| 741/785 [03:46<00:15,  2.80it/s]"
     ]
    },
    {
     "name": "stdout",
     "output_type": "stream",
     "text": [
      "Found 10 instances in image ring_rear_right_315978416988560200.jpg\n",
      "22584 keypoints deleted in total\n",
      "\n"
     ]
    },
    {
     "name": "stderr",
     "output_type": "stream",
     "text": [
      "\r",
      " 95%|█████████▍| 742/785 [03:47<00:17,  2.50it/s]"
     ]
    },
    {
     "name": "stdout",
     "output_type": "stream",
     "text": [
      "Found 10 instances in image ring_rear_right_315978417021859976.jpg\n",
      "22604 keypoints deleted in total\n",
      "\n"
     ]
    },
    {
     "name": "stderr",
     "output_type": "stream",
     "text": [
      "\r",
      " 95%|█████████▍| 743/785 [03:47<00:15,  2.64it/s]"
     ]
    },
    {
     "name": "stdout",
     "output_type": "stream",
     "text": [
      "Found 9 instances in image ring_rear_right_315978417088459480.jpg\n",
      "22620 keypoints deleted in total\n",
      "\n"
     ]
    },
    {
     "name": "stderr",
     "output_type": "stream",
     "text": [
      "\r",
      " 95%|█████████▍| 744/785 [03:48<00:14,  2.80it/s]"
     ]
    },
    {
     "name": "stdout",
     "output_type": "stream",
     "text": [
      "Found 8 instances in image ring_rear_right_315978417321557896.jpg\n",
      "22649 keypoints deleted in total\n",
      "\n"
     ]
    },
    {
     "name": "stderr",
     "output_type": "stream",
     "text": [
      "\r",
      " 95%|█████████▍| 745/785 [03:48<00:13,  2.86it/s]"
     ]
    },
    {
     "name": "stdout",
     "output_type": "stream",
     "text": [
      "Found 8 instances in image ring_rear_right_315978417454757032.jpg\n",
      "22666 keypoints deleted in total\n",
      "\n"
     ]
    },
    {
     "name": "stderr",
     "output_type": "stream",
     "text": [
      "\r",
      " 95%|█████████▌| 746/785 [03:48<00:13,  2.91it/s]"
     ]
    },
    {
     "name": "stdout",
     "output_type": "stream",
     "text": [
      "Found 8 instances in image ring_rear_right_315978417521356536.jpg\n",
      "22680 keypoints deleted in total\n",
      "\n"
     ]
    },
    {
     "name": "stderr",
     "output_type": "stream",
     "text": [
      "\r",
      " 95%|█████████▌| 747/785 [03:49<00:12,  2.93it/s]"
     ]
    },
    {
     "name": "stdout",
     "output_type": "stream",
     "text": [
      "Found 9 instances in image ring_rear_right_315978417587956040.jpg\n",
      "22694 keypoints deleted in total\n",
      "\n"
     ]
    },
    {
     "name": "stderr",
     "output_type": "stream",
     "text": [
      "\r",
      " 95%|█████████▌| 748/785 [03:49<00:12,  2.96it/s]"
     ]
    },
    {
     "name": "stdout",
     "output_type": "stream",
     "text": [
      "Found 8 instances in image ring_rear_right_315978417654555544.jpg\n",
      "22699 keypoints deleted in total\n",
      "\n"
     ]
    },
    {
     "name": "stderr",
     "output_type": "stream",
     "text": [
      "\r",
      " 95%|█████████▌| 749/785 [03:49<00:11,  3.03it/s]"
     ]
    },
    {
     "name": "stdout",
     "output_type": "stream",
     "text": [
      "Found 8 instances in image ring_rear_right_315978417687855400.jpg\n",
      "22707 keypoints deleted in total\n",
      "\n"
     ]
    },
    {
     "name": "stderr",
     "output_type": "stream",
     "text": [
      "\r",
      " 96%|█████████▌| 750/785 [03:49<00:11,  3.07it/s]"
     ]
    },
    {
     "name": "stdout",
     "output_type": "stream",
     "text": [
      "Found 8 instances in image ring_rear_right_315978417821054456.jpg\n",
      "22716 keypoints deleted in total\n",
      "\n"
     ]
    },
    {
     "name": "stderr",
     "output_type": "stream",
     "text": [
      "\r",
      " 96%|█████████▌| 751/785 [03:50<00:11,  3.04it/s]"
     ]
    },
    {
     "name": "stdout",
     "output_type": "stream",
     "text": [
      "Found 9 instances in image ring_rear_right_315978417987553320.jpg\n",
      "22721 keypoints deleted in total\n",
      "\n"
     ]
    },
    {
     "name": "stderr",
     "output_type": "stream",
     "text": [
      "\r",
      " 96%|█████████▌| 752/785 [03:50<00:11,  2.96it/s]"
     ]
    },
    {
     "name": "stdout",
     "output_type": "stream",
     "text": [
      "Found 9 instances in image ring_rear_right_315978418154052104.jpg\n",
      "22726 keypoints deleted in total\n",
      "\n"
     ]
    },
    {
     "name": "stderr",
     "output_type": "stream",
     "text": [
      "\r",
      " 96%|█████████▌| 753/785 [03:51<00:11,  2.84it/s]"
     ]
    },
    {
     "name": "stdout",
     "output_type": "stream",
     "text": [
      "Found 10 instances in image ring_rear_right_315978418220651656.jpg\n",
      "22730 keypoints deleted in total\n",
      "\n"
     ]
    },
    {
     "name": "stderr",
     "output_type": "stream",
     "text": [
      "\r",
      " 96%|█████████▌| 754/785 [03:51<00:11,  2.80it/s]"
     ]
    },
    {
     "name": "stdout",
     "output_type": "stream",
     "text": [
      "Found 10 instances in image ring_rear_right_315978418253951384.jpg\n",
      "22732 keypoints deleted in total\n",
      "\n"
     ]
    },
    {
     "name": "stderr",
     "output_type": "stream",
     "text": [
      "\r",
      " 96%|█████████▌| 755/785 [03:51<00:10,  2.75it/s]"
     ]
    },
    {
     "name": "stdout",
     "output_type": "stream",
     "text": [
      "Found 10 instances in image ring_rear_right_315978418287251368.jpg\n",
      "22734 keypoints deleted in total\n",
      "\n"
     ]
    },
    {
     "name": "stderr",
     "output_type": "stream",
     "text": [
      "\r",
      " 96%|█████████▋| 756/785 [03:52<00:10,  2.73it/s]"
     ]
    },
    {
     "name": "stdout",
     "output_type": "stream",
     "text": [
      "Found 10 instances in image ring_rear_right_315978418387152008.jpg\n",
      "22740 keypoints deleted in total\n",
      "\n"
     ]
    },
    {
     "name": "stderr",
     "output_type": "stream",
     "text": [
      "\r",
      " 96%|█████████▋| 757/785 [03:52<00:10,  2.75it/s]"
     ]
    },
    {
     "name": "stdout",
     "output_type": "stream",
     "text": [
      "Found 9 instances in image ring_rear_right_315978418553652984.jpg\n",
      "22744 keypoints deleted in total\n",
      "\n"
     ]
    },
    {
     "name": "stderr",
     "output_type": "stream",
     "text": [
      "\r",
      " 97%|█████████▋| 758/785 [03:52<00:09,  2.85it/s]"
     ]
    },
    {
     "name": "stdout",
     "output_type": "stream",
     "text": [
      "Found 8 instances in image ring_rear_right_315978418686853768.jpg\n",
      "22746 keypoints deleted in total\n",
      "\n"
     ]
    },
    {
     "name": "stderr",
     "output_type": "stream",
     "text": [
      "\r",
      " 97%|█████████▋| 759/785 [03:53<00:09,  2.89it/s]"
     ]
    },
    {
     "name": "stdout",
     "output_type": "stream",
     "text": [
      "Found 8 instances in image ring_rear_right_315978418720153992.jpg\n",
      "22750 keypoints deleted in total\n",
      "\n"
     ]
    },
    {
     "name": "stderr",
     "output_type": "stream",
     "text": [
      "\r",
      " 97%|█████████▋| 760/785 [03:53<00:08,  2.80it/s]"
     ]
    },
    {
     "name": "stdout",
     "output_type": "stream",
     "text": [
      "Found 10 instances in image ring_rear_right_315978418919955272.jpg\n",
      "22751 keypoints deleted in total\n",
      "\n"
     ]
    },
    {
     "name": "stderr",
     "output_type": "stream",
     "text": [
      "\r",
      " 97%|█████████▋| 761/785 [03:53<00:08,  2.70it/s]"
     ]
    },
    {
     "name": "stdout",
     "output_type": "stream",
     "text": [
      "Found 10 instances in image ring_rear_right_315978418986555608.jpg\n",
      "22754 keypoints deleted in total\n",
      "\n"
     ]
    },
    {
     "name": "stderr",
     "output_type": "stream",
     "text": [
      "\r",
      " 97%|█████████▋| 762/785 [03:54<00:08,  2.75it/s]"
     ]
    },
    {
     "name": "stdout",
     "output_type": "stream",
     "text": [
      "Found 10 instances in image ring_rear_right_315978419086456248.jpg\n",
      "22755 keypoints deleted in total\n",
      "\n"
     ]
    },
    {
     "name": "stderr",
     "output_type": "stream",
     "text": [
      "\r",
      " 97%|█████████▋| 763/785 [03:54<00:07,  2.80it/s]"
     ]
    },
    {
     "name": "stdout",
     "output_type": "stream",
     "text": [
      "Found 10 instances in image ring_rear_right_315978419352857784.jpg\n",
      "22760 keypoints deleted in total\n",
      "\n"
     ]
    },
    {
     "name": "stderr",
     "output_type": "stream",
     "text": [
      "\r",
      " 97%|█████████▋| 764/785 [03:55<00:07,  2.69it/s]"
     ]
    },
    {
     "name": "stdout",
     "output_type": "stream",
     "text": [
      "Found 11 instances in image ring_rear_right_315978419419458200.jpg\n",
      "22763 keypoints deleted in total\n",
      "\n"
     ]
    },
    {
     "name": "stderr",
     "output_type": "stream",
     "text": [
      "\r",
      " 97%|█████████▋| 765/785 [03:55<00:07,  2.69it/s]"
     ]
    },
    {
     "name": "stdout",
     "output_type": "stream",
     "text": [
      "Found 10 instances in image ring_rear_right_315978419519358760.jpg\n",
      "22763 keypoints deleted in total\n",
      "\n"
     ]
    },
    {
     "name": "stderr",
     "output_type": "stream",
     "text": [
      "\r",
      " 98%|█████████▊| 766/785 [03:55<00:06,  2.76it/s]"
     ]
    },
    {
     "name": "stdout",
     "output_type": "stream",
     "text": [
      "Found 9 instances in image ring_rear_right_315978420018859112.jpg\n",
      "22765 keypoints deleted in total\n",
      "\n"
     ]
    },
    {
     "name": "stderr",
     "output_type": "stream",
     "text": [
      "\r",
      " 98%|█████████▊| 767/785 [03:56<00:06,  2.80it/s]"
     ]
    },
    {
     "name": "stdout",
     "output_type": "stream",
     "text": [
      "Found 9 instances in image ring_rear_right_315978420085458776.jpg\n",
      "22768 keypoints deleted in total\n",
      "\n"
     ]
    },
    {
     "name": "stderr",
     "output_type": "stream",
     "text": [
      "\r",
      " 98%|█████████▊| 768/785 [03:56<00:06,  2.83it/s]"
     ]
    },
    {
     "name": "stdout",
     "output_type": "stream",
     "text": [
      "Found 9 instances in image ring_rear_right_315978420152058384.jpg\n",
      "22768 keypoints deleted in total\n",
      "\n"
     ]
    },
    {
     "name": "stderr",
     "output_type": "stream",
     "text": [
      "\r",
      " 98%|█████████▊| 769/785 [03:56<00:05,  2.90it/s]"
     ]
    },
    {
     "name": "stdout",
     "output_type": "stream",
     "text": [
      "Found 9 instances in image ring_rear_right_315978420185358216.jpg\n",
      "22770 keypoints deleted in total\n",
      "\n"
     ]
    },
    {
     "name": "stderr",
     "output_type": "stream",
     "text": [
      "\r",
      " 98%|█████████▊| 770/785 [03:57<00:05,  2.95it/s]"
     ]
    },
    {
     "name": "stdout",
     "output_type": "stream",
     "text": [
      "Found 8 instances in image ring_rear_right_315978420218657992.jpg\n",
      "22771 keypoints deleted in total\n",
      "\n"
     ]
    },
    {
     "name": "stderr",
     "output_type": "stream",
     "text": [
      "\r",
      " 98%|█████████▊| 771/785 [03:57<00:04,  2.94it/s]"
     ]
    },
    {
     "name": "stdout",
     "output_type": "stream",
     "text": [
      "Found 9 instances in image ring_rear_right_315978420251957824.jpg\n",
      "22773 keypoints deleted in total\n",
      "\n"
     ]
    },
    {
     "name": "stderr",
     "output_type": "stream",
     "text": [
      "\r",
      " 98%|█████████▊| 772/785 [03:57<00:04,  2.93it/s]"
     ]
    },
    {
     "name": "stdout",
     "output_type": "stream",
     "text": [
      "Found 9 instances in image ring_rear_right_315978420285257656.jpg\n",
      "22776 keypoints deleted in total\n",
      "\n"
     ]
    },
    {
     "name": "stderr",
     "output_type": "stream",
     "text": [
      "\r",
      " 98%|█████████▊| 773/785 [03:58<00:04,  2.98it/s]"
     ]
    },
    {
     "name": "stdout",
     "output_type": "stream",
     "text": [
      "Found 8 instances in image ring_rear_right_315978420385157176.jpg\n",
      "22782 keypoints deleted in total\n",
      "\n"
     ]
    },
    {
     "name": "stderr",
     "output_type": "stream",
     "text": [
      "\r",
      " 99%|█████████▊| 774/785 [03:58<00:03,  3.02it/s]"
     ]
    },
    {
     "name": "stdout",
     "output_type": "stream",
     "text": [
      "Found 8 instances in image ring_rear_right_315978420784755016.jpg\n",
      "22788 keypoints deleted in total\n",
      "\n"
     ]
    },
    {
     "name": "stderr",
     "output_type": "stream",
     "text": [
      "\r",
      " 99%|█████████▊| 775/785 [03:58<00:03,  3.07it/s]"
     ]
    },
    {
     "name": "stdout",
     "output_type": "stream",
     "text": [
      "Found 8 instances in image ring_rear_right_315978420884654400.jpg\n",
      "22789 keypoints deleted in total\n",
      "\n"
     ]
    },
    {
     "name": "stderr",
     "output_type": "stream",
     "text": [
      "\r",
      " 99%|█████████▉| 776/785 [03:59<00:02,  3.11it/s]"
     ]
    },
    {
     "name": "stdout",
     "output_type": "stream",
     "text": [
      "Found 7 instances in image ring_rear_right_315978420951254064.jpg\n",
      "22791 keypoints deleted in total\n",
      "\n"
     ]
    },
    {
     "name": "stderr",
     "output_type": "stream",
     "text": [
      "\r",
      " 99%|█████████▉| 777/785 [03:59<00:02,  3.14it/s]"
     ]
    },
    {
     "name": "stdout",
     "output_type": "stream",
     "text": [
      "Found 7 instances in image ring_rear_right_315978421051153584.jpg\n",
      "22791 keypoints deleted in total\n",
      "\n"
     ]
    },
    {
     "name": "stderr",
     "output_type": "stream",
     "text": [
      "\r",
      " 99%|█████████▉| 778/785 [03:59<00:02,  3.19it/s]"
     ]
    },
    {
     "name": "stdout",
     "output_type": "stream",
     "text": [
      "Found 7 instances in image ring_rear_right_315978421151053024.jpg\n",
      "22792 keypoints deleted in total\n",
      "\n"
     ]
    },
    {
     "name": "stderr",
     "output_type": "stream",
     "text": [
      "\r",
      " 99%|█████████▉| 779/785 [04:00<00:01,  3.13it/s]"
     ]
    },
    {
     "name": "stdout",
     "output_type": "stream",
     "text": [
      "Found 8 instances in image ring_rear_right_315978421250952464.jpg\n",
      "22793 keypoints deleted in total\n",
      "\n"
     ]
    },
    {
     "name": "stderr",
     "output_type": "stream",
     "text": [
      "\r",
      " 99%|█████████▉| 780/785 [04:00<00:01,  3.04it/s]"
     ]
    },
    {
     "name": "stdout",
     "output_type": "stream",
     "text": [
      "Found 9 instances in image ring_rear_right_315978421317552504.jpg\n",
      "22800 keypoints deleted in total\n",
      "\n"
     ]
    },
    {
     "name": "stderr",
     "output_type": "stream",
     "text": [
      "\r",
      " 99%|█████████▉| 781/785 [04:00<00:01,  3.00it/s]"
     ]
    },
    {
     "name": "stdout",
     "output_type": "stream",
     "text": [
      "Found 9 instances in image ring_rear_right_315978421350852672.jpg\n",
      "22809 keypoints deleted in total\n",
      "\n"
     ]
    },
    {
     "name": "stderr",
     "output_type": "stream",
     "text": [
      "\r",
      "100%|█████████▉| 782/785 [04:01<00:01,  2.68it/s]"
     ]
    },
    {
     "name": "stdout",
     "output_type": "stream",
     "text": [
      "Found 9 instances in image ring_rear_right_315978421384152736.jpg\n",
      "22820 keypoints deleted in total\n",
      "\n"
     ]
    },
    {
     "name": "stderr",
     "output_type": "stream",
     "text": [
      "\r",
      "100%|█████████▉| 783/785 [04:01<00:00,  2.80it/s]"
     ]
    },
    {
     "name": "stdout",
     "output_type": "stream",
     "text": [
      "Found 9 instances in image ring_rear_right_315978421417452904.jpg\n",
      "22833 keypoints deleted in total\n",
      "\n"
     ]
    },
    {
     "name": "stderr",
     "output_type": "stream",
     "text": [
      "\r",
      "100%|█████████▉| 784/785 [04:01<00:00,  2.91it/s]"
     ]
    },
    {
     "name": "stdout",
     "output_type": "stream",
     "text": [
      "Found 9 instances in image ring_rear_right_315978421517353384.jpg\n",
      "22839 keypoints deleted in total\n",
      "\n"
     ]
    },
    {
     "name": "stderr",
     "output_type": "stream",
     "text": [
      "100%|██████████| 785/785 [04:02<00:00,  3.24it/s]"
     ]
    },
    {
     "name": "stdout",
     "output_type": "stream",
     "text": [
      "Found 9 instances in image ring_rear_right_315978421550653552.jpg\n",
      "22846 keypoints deleted in total\n",
      "\n",
      "87155\n"
     ]
    },
    {
     "name": "stderr",
     "output_type": "stream",
     "text": [
      "\n"
     ]
    },
    {
     "name": "stdout",
     "output_type": "stream",
     "text": [
      "New model saved\n"
     ]
    }
   ],
   "source": [
    "from tqdm import tqdm\n",
    "db_img_dir = '/home/ubuntu/albert/datasets/argoverse-tracking/sample/c6911883-1843-3727-8eaa-41dc8cda8993/'\n",
    "counter = 0\n",
    "\n",
    "for img_item in tqdm(list(images.values())):\n",
    "    \n",
    "    image_name = img_item.name\n",
    "    image_id = img_item.id\n",
    "    keypoints = img_item.xys\n",
    "    #     pt3d_ids = img_item.point3D_ids\n",
    "    \n",
    "    camera_type = image_name.split('_')[:3]\n",
    "    camera_type = '_'.join(camera_type)\n",
    "    img = mpimg.imread(db_img_dir + camera_type + '/' + image_name)\n",
    "    outputs = model.inference(img, 0)\n",
    "#     print(outputs)\n",
    "\n",
    "    cls = outputs.pred_classes.numpy()\n",
    "    scores = outputs.scores.numpy()\n",
    "    bboxes = outputs.pred_boxes.tensor.numpy()\n",
    "    masks = outputs.pred_masks.numpy()\n",
    "    \n",
    "#     print(cls)\n",
    "#     print(masks.shape)                \n",
    "    print('Found {} instances in image {}'.format(cls.shape[0], image_name))\n",
    "    for i in range(keypoints.shape[0]):\n",
    "        if img_item.point3D_ids[i] != -1:\n",
    "            if in_mask(keypoints[i], masks, cls):\n",
    "                pt3d_id = img_item.point3D_ids[i]\n",
    "                # find the images containing the target 3d point\n",
    "                delete_image_ids = points3D[pt3d_id].image_ids\n",
    "                delete_keypoint_ids = points3D[pt3d_id].point2D_idxs\n",
    "                \n",
    "                for j, delete_img_id in enumerate(list(delete_image_ids)):\n",
    "                    delete_keypoint_id = delete_keypoint_ids[j]\n",
    "                    images[delete_img_id].point3D_ids[delete_keypoint_id] = -1                  \n",
    "                \n",
    "                points3D.pop(pt3d_id)\n",
    "                counter += 1\n",
    "    print('{} keypoints deleted in total\\n'.format(counter))\n",
    "#     break\n",
    "\n",
    "print(len(list(points3D.keys())))    "
   ]
  },
  {
   "cell_type": "code",
   "execution_count": null,
   "metadata": {},
   "outputs": [],
   "source": [
    "# import os\n",
    "\n",
    "# output_dir_db = '/home/ubuntu/albert/workspace/Hierarchical-Localization/outputs/argo_sample_2/sfm_superpoint+superglue+netvlad/models/filtered/'\n",
    "# if not os.path.exists(output_dir_db):\n",
    "#     os.makedirs(output_dir_db)\n",
    "    \n",
    "write_images_binary(images, model_dir + 'images.bin')\n",
    "write_points3d_binary(points3D, model_dir + 'points3D.bin')\n",
    "print('New model saved')\n"
   ]
  },
  {
   "cell_type": "code",
   "execution_count": 63,
   "metadata": {},
   "outputs": [
    {
     "name": "stdout",
     "output_type": "stream",
     "text": [
      "785\n",
      "87155\n"
     ]
    }
   ],
   "source": [
    "images = read_images_binary(model_dir + 'images_filtered.bin')\n",
    "points3D = read_points3d_binary(model_dir + 'points3D_filtered.bin')\n",
    "print(len(list(images.keys())))\n",
    "print(len(list(points3D.keys())))"
   ]
  },
  {
   "cell_type": "markdown",
   "metadata": {},
   "source": [
    "## To get the original database image set for the model"
   ]
  },
  {
   "cell_type": "code",
   "execution_count": 68,
   "metadata": {},
   "outputs": [
    {
     "name": "stderr",
     "output_type": "stream",
     "text": [
      "100%|██████████| 785/785 [01:20<00:00,  9.70it/s]\n"
     ]
    },
    {
     "data": {
      "text/plain": [
       "256"
      ]
     },
     "execution_count": 68,
     "metadata": {},
     "output_type": "execute_result"
    }
   ],
   "source": [
    "import os\n",
    "\n",
    "image_folder = '/home/ubuntu/albert/datasets/argoverse-tracking/sample/c6911883-1843-3727-8eaa-41dc8cda8993/'\n",
    "output_dir_db = '/home/ubuntu/albert/datasets/argoverse-tracking/sample/test_1017_2/db/'\n",
    "if not os.path.exists(output_dir_db):\n",
    "    os.makedirs(output_dir_db)\n",
    "output_dir_query = '/home/ubuntu/albert/datasets/argoverse-tracking/sample/test_1017_2/query/'\n",
    "if not os.path.exists(output_dir_query):\n",
    "    os.makedirs(output_dir_query)\n",
    "\n",
    "for img_item in tqdm(list(images.values())):\n",
    "    \n",
    "    image_name = img_item.name\n",
    "    camera_type = image_name.split('_')[:3]\n",
    "    camera_type = '_'.join(camera_type)\n",
    "    filename = image_folder + camera_type + '/' + image_name\n",
    "    cmd = 'cp '+ filename + ' ' + output_dir_db\n",
    "    os.system(cmd)\n",
    "            \n",
    "output_dir_db_query = '/home/ubuntu/albert/datasets/argoverse-tracking/sample/test_1017_2/db_query/'\n",
    "if not os.path.exists(output_dir_db_query):\n",
    "    os.makedirs(output_dir_db_query)\n",
    "cmd = 'cp '+ output_dir_db + '/*.jpg ' + output_dir_db_query\n",
    "os.system(cmd)\n",
    "cmd = 'cp '+ output_dir_query + '/*.jpg ' + output_dir_db_query\n",
    "os.system(cmd)"
   ]
  },
  {
   "cell_type": "code",
   "execution_count": null,
   "metadata": {},
   "outputs": [],
   "source": []
  }
 ],
 "metadata": {
  "kernelspec": {
   "display_name": "fsdet",
   "language": "python",
   "name": "fsdet"
  },
  "language_info": {
   "codemirror_mode": {
    "name": "ipython",
    "version": 3
   },
   "file_extension": ".py",
   "mimetype": "text/x-python",
   "name": "python",
   "nbconvert_exporter": "python",
   "pygments_lexer": "ipython3",
   "version": "3.8.5"
  }
 },
 "nbformat": 4,
 "nbformat_minor": 4
}
